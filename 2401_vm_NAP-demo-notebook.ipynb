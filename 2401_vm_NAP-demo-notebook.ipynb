{
 "cells": [
  {
   "cell_type": "markdown",
   "metadata": {},
   "source": [
    "# Virtually metabolize GNPS annotations and prepare for Network Annotation Propagation or SIRIUS\n",
    "\n",
    "Made by Louis-Felix Nothias (UC San Diego), louisfelix.nothias@gmail.com. Started in 2018 and improved in May 2021 and January 2024.\n",
    "\n",
    "This notebook downloads results of spectral annotations from classical or feature-based molecular networking job from GNPS [[http://gnps.ucsd.edu](http://gnps.ucsd.edu)] and generate virtual metabolites either with SyGMa or BioTransformer. The resulting candidates can be used for [Network Annotation Propagation](https://ccms-ucsd.github.io/GNPSDocumentation/nap/) on GNPS or with [SIRIUS](https://boecker-lab.github.io/docs.sirius.github.io/install/).\n",
    "\n",
    "> Start by running the cell below to initiate the libraries."
   ]
  },
  {
   "cell_type": "code",
   "execution_count": 26,
   "metadata": {},
   "outputs": [
    {
     "name": "stdout",
     "output_type": "stream",
     "text": [
      ">>>> STARTING vm-NAP <<<<\n",
      "Script started with arguments: Namespace(job_id='bbee697a63b1400ea585410fafc95723', ionisation_mode='pos', max_ppm_error=10, min_cosine=0.6, shared_peaks=3, max_spec_charge=2, compound_name_to_keep=None, extra_compounds_table_file=None, sirius_input_file='input/compound_identifications.tsv', zodiac_score=0.7, confidence_score=0.1, db_links='KEGG|HMDB', use_planar_structure_boolean=True, run_sygma=True, phase_1_cycle=1, phase_2_cycle=1, top_sygma_candidates=10, run_biotransformer=True, mode='btType', type_of_biotransformation='allHuman', number_of_steps=1, debug=True, max_compounds_debug=1)\n",
      "Dynamic string: bbee697a63b1400ea585410fafc95723_compound_identifications_20240104_160531\n",
      "==================\n",
      "This is the GNPS job link: https://gnps.ucsd.edu/ProteoSAFe/status.jsp?task=bbee697a63b1400ea585410fafc95723\n",
      "Downloading the following content: https://gnps.ucsd.edu/ProteoSAFe/DownloadResult?task=bbee697a63b1400ea585410fafc95723&view=view_all_annotations_DB\n",
      "Using already downloaded GNPS results\n",
      "GNPS job results were succesfully downloaded as: all_annotations.zip\n",
      "GNPS job results were succesfully extracted into the folder: all_annotations\n",
      "==================\n",
      "   CLASSICAL MOLECULAR NETWORKING job detected\n",
      "==================\n",
      "      199 spectral library annotations in the job.\n",
      "==================\n",
      "      9643 nodes in the network (including single nodes)\n",
      "Initial number of annotations: 200\n",
      "Remaining after ionisation mode filtering: 188\n",
      "Remaining after max_ppm_error filtering: 158\n",
      "Remaining after min_cosine filtering: 158\n",
      "Remaining after number of shared_peaks filtering: 158\n",
      "Remaining after number of spectrum charge filtering: 158\n",
      " ==== Consolidating structures from SMILES and/or InChI ====\n",
      "Both SMILES and InChI were inputted\n",
      "Converting SMILES to mol object\n",
      "  Salt(s) deleted in       : C12(=CC=C(C=C1COC2(CCCN(C)C)C3=CC=C(C=C3)F)C#N).OC(=O)C(=O)O\n",
      "  Remaining residue        : CN(C)CCCC1(c2ccc(F)cc2)OCc2cc(C#N)ccc21\n",
      "Succesfully converted to mol object: 103\n",
      "Exception to the parsing: 0\n",
      "Not available: 55\n",
      "Converting INCHI to mol object\n",
      "Succesfully converted to mol object: 90\n",
      "Exception to the parsing: 0\n",
      "Not available: 68\n",
      "Consolidating the lists\n",
      "Total mol object from the list 1 = 103\n",
      "Mol object consolidated from list 2 = 0\n",
      "Consolidated structures = 103\n",
      "Converting mol objects to SMILES iso\n",
      "Converting mol objects to SMILES\n",
      "Converting mol objects to InChI\n",
      "Converting mol objects to InChIKey\n",
      "End\n",
      "158 annotations detected\n",
      "that corresponds to 55 unique stereostructures\n",
      "that corresponds to 53 unique planar structures\n",
      " ==== WARNING =====\n",
      "55 annotations dont have a structure identifier and will be discarded from downstream processing, unless you do the following:\n",
      "You can either update the GNPS library and rerun the GNPS job. Or you can provide a structure identifier in the dedicated cell below\n",
      "These are the compounds without structure identifiers:\n",
      "'(+)-Catechin',\n",
      "'3,4'-Dimethoxy-2-hydroxychalcone',\n",
      "'4-Hydroxy-4'-methyldiphenylamine',\n",
      "'B10A30 Faulkner legacy library looks like sterol or lipid needs to be verified',\n",
      "'Betulinic acid',\n",
      "'Betulinic acid methyl ester',\n",
      "'Conjugated linoleic Acid (10E,12Z)',\n",
      "'Dioctyl phthalate',\n",
      "'Lyso-PC(16:0)',\n",
      "'Procyanidin B2',\n",
      "'Spectral Match to (+)-Catechin from NIST14',\n",
      "'Spectral Match to (-)-Epicatechin from NIST14',\n",
      "'Spectral Match to 1-Hexadecanoyl-sn-glycerol from NIST14',\n",
      "'Spectral Match to 4-Hydroxy-4'-methyldiphenylamine from NIST14',\n",
      "'Spectral Match to Avobenzone from NIST14',\n",
      "'Spectral Match to Benadryl from NIST14',\n",
      "'Spectral Match to Chlorhexidine from NIST14',\n",
      "'Spectral Match to D-erythro-C18-Sphingosine from NIST14',\n",
      "'Spectral Match to Decaethylene glycol from NIST14',\n",
      "'Spectral Match to Dibutyl phthalate from NIST14',\n",
      "'Spectral Match to Diethyl phthalate from NIST14',\n",
      "'Spectral Match to Dioctyl phthalate from NIST14',\n",
      "'Spectral Match to Dioctyl sulfosuccinate from NIST14',\n",
      "'Spectral Match to Glycocholic acid from NIST14',\n",
      "'Spectral Match to L-Tryptophan from NIST14',\n",
      "'Spectral Match to Lyso-PC(16:0) from NIST14',\n",
      "'Spectral Match to N-Lauroylsarcosine from NIST14',\n",
      "'Spectral Match to Pinolenic acid from NIST14',\n",
      "'Spectral Match to Procyanidin B2 from NIST14',\n",
      "'Spectral Match to Sulfamethizole from NIST14',\n",
      "'Spectral Match to Timolol from NIST14',\n",
      "'Spectral Match to Triphenyl phosphate from NIST14',\n",
      "'Spectral Match to Tris(2-butoxyethyl) phosphate from NIST14',\n",
      "'Spectral Match to Tyr-Pro from NIST14',\n",
      "'Spectral Match to Undecaethylene glycol from NIST14',\n",
      "'Sulfamethoxazole',\n",
      "'Syringaldehyde',\n",
      "'Syringic acid',\n",
      "{'7-Oxocholesterol', \"Massbank:PR100263 (+)-Epicatechin|EpCt-pl|ent-Epicatechin|Epicatechol|(+)-3,3',4',5,7-Pentahydroxyflavan\", 'Massbank:EA019905 Trimethoprim|2,4-Diamino-5-(3,4,5-trimethoxybenzyl)pyrimidine|5-[(3,4,5-trimethoxyphenyl)methyl]pyrimidine-2,4-diamine', 'NCGC00380746-01!1,7-bis(4-hydroxyphenyl)heptane-3,5-diol', 'Sulfachloropyridazine', 'Massbank:FIO00071 (-)-Epicatechin', 'NCGC00385785-01!(2R,3R,4S,5S,6R)-2-[[2-(3,4-dihydroxyphenyl)-5,7-dihydroxy-3,4-dihydro-2H-chromen-3-yl]oxy]-6-(hydroxymethyl)oxane-3,4,5-triol', 'Massbank:EA280805 Mycophenolic acid| (E)-6-(4-hydroxy-3-keto-6-methoxy-7-methyl-phthalan-5-yl)-4-methyl-hex-4-enoic acid', 'Sorbitane Monopalmitate - Polysorbate 40 in-source fragment', 'Glycerol tricaprate', 'Lauric acid diethanolamide', 'NCGC00168965-02_C21H32O11_beta-D-Glucopyranoside, 3-(4-hydroxyphenyl)-1-methylpropyl 6-O-[(2S,3R,4R)-tetrahydro-3,4-dihydroxy-4-(hydroxymethyl)-2-furanyl]-', 'NCGC00180666-02!(2R,3S,4S,5R,6S)-2-[(3,4,5-trihydroxyoxan-2-yl)oxymethyl]-6-(3,4,5-trimethoxyphenoxy)oxane-3,4,5-triol', 'Massbank: Dextromethorphan', 'NCGC00180025-03!(2R,3S,4S,5R,6S)-2-[[(2S,3R,4R)-3,4-dihydroxy-4-(hydroxymethyl)oxolan-2-yl]oxymethyl]-6-(3,4,5-trimethoxyphenoxy)oxane-3,4,5-triol', 'Massbank:EA066012 Galaxolidone|1,3,4,6,7,8-Hexahydro-4,6,6,7,8,8-hexamethylcyclopenta[g]-2-benzopyran-1-on', 'NCGC00347704-02_C24H32O7_2H-Oxireno[1,10a]phenanthro[3,2-b]furan-10(11bH)-one, 5,7-bis(acetyloxy)-3,3a,4,5,6,7,7a,7b,8,8a-decahydro-4,4,7a,11-tetramethyl-, (1aS,3aR,5S,7S,7aR,7bS,8aR,11bR)-', '(+)-Catechin', 'Dimethyldioctadecylammonium cation', 'NCGC00169963-02_C15H26O_(3,3,7-Trimethyltricyclo[5.4.0.0~2,9~]undec-8-yl)methanol', '3-(2-Hydroxyphenyl)propionic acid', 'Massbank:FIO00070 (-)-Epicatechin', 'NCGC00169491-03_C19H30O8_2-Cyclohexen-1-one, 4-[(1E)-3-(beta-D-glucopyranosyloxy)-1-buten-1-yl]-4-hydroxy-3,5,5-trimethyl-, (4S)-', 'N-Palmitoyl-D-sphingosine', 'NCGC00094872-09_C17H19NO3_(2E,4E)-5-(1,3-Benzodioxol-5-yl)-1-(1-piperidinyl)-2,4-pentadien-1-one', 'Octocrylene', '3-Methoxycinnamic acid', 'Isobergaptene', 'Massbank:FIO00069 (-)-Epicatechin', 'NCGC00186665-03!2,3-dihydroxypropyl hexadecanoate', 'CocamidopropylBetaine', 'Escitalopram Oxalate', '(-)-Secoisolariciresinol', 'NCGC00385223-01!(2R,3S)-7-[(2S,3R,4R)-3,4-dihydroxy-4-(hydroxymethyl)oxolan-2-yl]oxy-2-(3,4-dihydroxyphenyl)-3,4-dihydro-2H-chromene-3,5-diol', 'Massbank:UF411701 Acetyl-sulfamethoxazole|N-[4-[(5-methyl-1,2-oxazol-3-yl)sulfamoyl]phenyl]acetamide', 'Sorbitane Monooleate - Polysorbate 80 in-source fragment', '.alpha.-Cyclodextrin', 'NCGC00380723-01!(2S,3R,4S,5S,6R)-2-[4-[(3S,3aR,6S,6aR)-6-[3,5-dimethoxy-4-[(2S,3R,4S,5S,6R)-3,4,5-trihydroxy-6-(hydroxymethyl)oxan-2-yl]oxyphenyl]-1,3,3a,4,6,6a-hexahydrofuro[3,4-c]furan-3-yl]-2,6-dimethoxyphenoxy]-6-(hydroxymethyl)oxane-3,4,5-triol', 'NCGC00385412-01_C21H32O10_2,4-Pentadienoic acid, 5-[(1R,3S,5R,8S)-3-(beta-D-glucopyranosyloxy)-8-hydroxy-1,5-dimethyl-6-oxabicyclo[3.2.1]oct-8-yl]-3-methyl-, (2Z,4E)-', 'MLS000028461-01!URSODEOXYCHOLIC ACID', 'NCGC00347403-02_C30H42O12_1,7-Bis(4-hydroxyphenyl)-3-heptanyl 6-O-[(2S,3R,4R)-3,4-dihydroxy-4-(hydroxymethyl)tetrahydro-2-furanyl]-beta-D-glucopyranoside', '.alpha.-Hexylcinnamaldehyde', 'NCGC00385811-01!6-[3-[(3,4-dimethoxyphenyl)methyl]-4-methoxy-2-(methoxymethyl)butyl]-4-methoxy-1,3-benzodioxole', 'NCGC00179791-03!1,7-bis(4-hydroxyphenyl)-5-[(2R,3R,4S,5S,6R)-3,4,5-trihydroxy-6-(hydroxymethyl)oxan-2-yl]oxyheptan-3-one', 'Mycophenolate mofetil (CellCept)', 'NCGC00169670-02!(2S,3R,4S,5S,6R)-2-[4-[(3S,3aR,6S,6aR)-3-(4-hydroxy-3,5-dimethoxyphenyl)-1,3,3a,4,6,6a-hexahydrofuro[3,4-c]furan-6-yl]-2,6-dimethoxyphenoxy]-6-(hydroxymethyl)oxane-3,4,5-triol', '4-(4-Aminophenoxy)aniline', '(-)-Catechin', 'NCGC00347390-02!(2R,3S)-7-[(2S,3R,4R,5S)-3,4-dihydroxy-5-(hydroxymethyl)oxolan-2-yl]oxy-2-(3,4-dihydroxyphenyl)-3,4-dihydro-2H-chromene-3,5-diol', '.alpha.-Ionone', 'NCGC00168814-02!(2R,3S,4S,5R,6S)-2-(hydroxymethyl)-6-(3,4,5-trimethoxyphenoxy)oxane-3,4,5-triol', 'NCGC00385123-01_C22H30O6_7b,9-Dihydroxy-3-(hydroxymethyl)-1,1,6,8-tetramethyl-5-oxo-1,1a,1b,4,4a,5,7a,7b,8,9-decahydro-9aH-cyclopropa[3,4]benzo[1,2-e]azulen-9a-yl acetate', 'NCGC00180141-02!2-[[7-hydroxy-1-(4-hydroxy-3,5-dimethoxyphenyl)-3-(hydroxymethyl)-6,8-dimethoxy-1,2,3,4-tetrahydronaphthalen-2-yl]methoxy]-6-(hydroxymethyl)oxane-3,4,5-triol', 'Glycerol tricaprylate', 'Massbank:UF416901 Triethyl citrate|triethyl 2-hydroxypropane-1,2,3-tricarboxylate', 'Isoxadifen-ethyl', 'Ethyl 3-hydroxybenzoate'}\n",
      "Number of annotations after filtering = 103\n",
      "Number of spectral library annotations = 103\n",
      "Number of spectral annotations with planar SMILES/InChI = 103\n",
      "Number of unique planar SMILES considered = 52\n",
      "Loading SIRIUS input data...\n",
      "Filtering with ZodiacScore >= 0.7\n",
      "Total entries remaining = 10492\n",
      "Filtering with Confidence Score >= 0.1\n",
      "Total entries remaining = 276\n",
      "Filtering with database links >= KEGG|HMDB\n",
      "Total entries remaining = 3657\n",
      "Number of spectral library annotations = 3933\n",
      "Number of spectral annotations with planar SMILES/InChI = 3933\n",
      "Number of unique planar SMILES considered = 1989\n",
      "SIRIUS input data processed.\n",
      "No table of extra compounds were given\n",
      "#### Running in debug mode. Limiting to 1 compounds. #####\n",
      ">>>> RUNNING SyGMa <<<<< PLEASE WAIT ...\n",
      "/Users/nothiasl/git/vm-NAP/run_virtual_metabolization.py:126: FutureWarning: The behavior of DataFrame concatenation with empty or all-NA entries is deprecated. In a future version, this will no longer exclude empty or all-NA columns when determining the result dtypes. To retain the old behavior, exclude the relevant entries before the concat operation.\n",
      "  df_master = pd.concat([df_master, df], ignore_index=True)\n",
      "=== Starting SyGMa computation ===\n",
      "Number of compounds that will be subject to SyGMa metabolisation = 1\n",
      "Number of phase I cycles = 1\n",
      "Number of phase II cycles = 1\n",
      "Keep only the top SyGMa candidates = 10\n",
      "If you are running many compounds or cycles, and maxing out RAM memory available, you can decrease the batch size. Otherwise the value can be increased for faster computation.\n",
      "======\n",
      "Please wait\n",
      "======\n",
      "Batch 1/1 completed\n",
      "Number of SyGMA candidates = 11\n",
      "Number of unique SyGMA candidates = 11\n",
      "=== SyGMa COMPLETED ===\n",
      "\n",
      "==== Export for NAP ====\n",
      "Number of metabolites = 11\n",
      "Number of unique metabolites considered = 5\n",
      "\n",
      "==== Export for SIRIUS ====\n",
      "Number of metabolites = 11\n",
      "Number of unique metabolites considered = 5\n",
      "\n",
      ">>>>>>>>>> DOWNLOAD THE RESULTS BELOW <<<<<<<<<\n",
      "<IPython.core.display.Markdown object>\n",
      "Results are at: bbee697a63b1400ea585410fafc95723_compound_identifications_20240104_160531_results_vm-NAP_SyGMa.tsv\n",
      "<IPython.core.display.Markdown object>\n",
      "Results are at: bbee697a63b1400ea585410fafc95723_compound_identifications_20240104_160531_results_vm-NAP_SyGMa_NAP.tsv\n",
      "<IPython.core.display.Markdown object>\n",
      "Results are at: bbee697a63b1400ea585410fafc95723_compound_identifications_20240104_160531_results_vm-NAP_SyGMa_SIRIUS.tsv\n",
      ">>>> RUNNING BioTransformer3 <<<<< PLEASE WAIT ...\n",
      "java version \"18.0.1\" 2022-04-19\n",
      "Java(TM) SE Runtime Environment (build 18.0.1+10-24)\n",
      "Java HotSpot(TM) 64-Bit Server VM (build 18.0.1+10-24, mixed mode, sharing)\n",
      "BioTransformer was already downloaded - skipping download.\n",
      "BioTransformer is already unzipped - skipping unzip.\n",
      "======== Running BioTransformer takes approximatively 3-60 secs per compounds depending on biotransformation parameters ========\n",
      "     Number of compounds being virtually metabolized with BioTransformer =  1\n",
      "     Biotransformation: allHuman\n",
      "     Please wait for the computation ...\n",
      "========== RUNNING VIRTUAL METABOLISATION =========\n",
      "Processing molecule with SMILES: CC1C(C(C(C2(C13C(C(C(=O)C2OC(=O)C4=CC=CC=C4)C(O3)(C)C)OC(=O)C5=CC=CC=C5)COC(=O)C)OC(=O)C)OC(=O)C)OC(=O)C\n",
      "Unique Biotransformations: 3\n",
      "Unique metabolites: 3\n",
      "The results were saved to the following file: biotransformer_results/biotransformer_output_1.csv\n",
      "\n",
      "Successfully completed metabolism prediction for 1 out of 1 molecule(s).\n",
      "Total time consumption: 2144\n",
      " -\n",
      "####### VIRTUAL METABOLISATION COMPLETED FOR ALL COMPOUNDS #######\n",
      "Total number of BioTransformer candidates = 3 - and 3 are unique\n",
      "==== Export for NAP ====\n",
      "Number of metabolites = 3\n",
      "Number of unique metabolites considered = 3\n",
      "==== Export for SIRIUS ====\n",
      "Number of metabolites = 3\n",
      "Number of unique metabolites considered = 1\n",
      ">>>>>>>>>> DOWNLOAD THE RESULTS BELOW <<<<<<<<<\n",
      "<IPython.core.display.Markdown object>\n",
      "Results are at: bbee697a63b1400ea585410fafc95723_compound_identifications_20240104_160531_results_vm-NAP_BioTransformer.tsv\n",
      "<IPython.core.display.Markdown object>\n",
      "Results are at: bbee697a63b1400ea585410fafc95723_compound_identifications_20240104_160531_results_vm-NAP_BioTransformer_NAP.tsv\n",
      "<IPython.core.display.Markdown object>\n",
      "Results are at: bbee697a63b1400ea585410fafc95723_compound_identifications_20240104_160531_results_vm-NAP_BioTransformer_SIRIUS.tsv\n",
      "vm-NAP script finished successfully.\n",
      ">>>> Download your files and proceed with NAP and/or SIRIUS <<<<<\n"
     ]
    }
   ],
   "source": [
    "from IPython.display import Markdown, display\n",
    "!python src/vm-NAP_processing.py --job_id='bbee697a63b1400ea585410fafc95723' --run_sygma --run_biotransformer --sirius_input_file 'input/compound_identifications.tsv' --debug --max_compounds_debug=3\n",
    "#!python src/vm-NAP_processing.py --help"
   ]
  },
  {
   "cell_type": "markdown",
   "metadata": {},
   "source": [
    "## Mandatory - Download annotation from the GNPS job\n",
    " \n",
    "> Replace the job ID from the GNPS molecular networking job in the URL in the cell below (line 3). We support both classical molecular networking and feature-based molecular networking (FBMN) jobs.\n",
    "\n",
    "You can try the classical MN job from that paper https://pubs.acs.org/doi/10.1021/acs.analchem.8b05854 with the ID `'bbee697a63b1400ea585410fafc95723'`. \n",
    "\n",
    "An other test job for feature-based molecular networking (FBMN) is `'e78a8c8f429a46fcb24f3b34d69aff25'`."
   ]
  },
  {
   "cell_type": "markdown",
   "metadata": {},
   "source": [
    "## Mandatory - Filter GNPS annotations\n",
    "\n",
    "Modifiy the parameters for filtering below and run the cell = "
   ]
  },
  {
   "cell_type": "markdown",
   "metadata": {},
   "source": [
    "## Mandatory - Consolidating structures identifier\n",
    "\n",
    "> Run the cell below to have a complete set of Smiles and InChI for the annotations.\n",
    "\n",
    "**IMPORTANT: Note that only spectral annotations that have a valid InChI or SMILES identifier will be considered downstream. If the annotations you are interested in don't have an identifier in the library, go back to the GNPS library entry, update the entry by adding an identifier, and rerun your GNPS job**"
   ]
  },
  {
   "cell_type": "markdown",
   "metadata": {},
   "source": [
    "### [Advanced optional feature - Recommended to ignore] - Filter annotations based on compound name\n",
    "\n",
    "If you want to apply this filter, convert the cell type from raw to code. Other skip the following cells.\n",
    "\n",
    "##### Optional - Display compound name"
   ]
  },
  {
   "cell_type": "markdown",
   "metadata": {},
   "source": [
    "#### Optional - Select compound name to keep\n",
    "\n",
    "Replace the compound names in the list `compound_name_to_keep`\n"
   ]
  },
  {
   "cell_type": "markdown",
   "metadata": {},
   "source": [
    "### [Advanced optional feature - Recommended to ignore]  - Filter annotations based on tags\n",
    "\n",
    "If you want to apply this filter convert the cell type from raw to code.\n",
    "\n",
    "#### Optional - Display tags-annotations"
   ]
  },
  {
   "cell_type": "markdown",
   "metadata": {},
   "source": [
    "#### Optional - Select tags to keep\n",
    "\n",
    "Specify the tags in the list `tags_to_keep`"
   ]
  },
  {
   "cell_type": "markdown",
   "metadata": {},
   "source": [
    "## Mandatory - Apply filter (if any were set)\n",
    "If you haven't select a filter, run this cell anyway."
   ]
  },
  {
   "cell_type": "markdown",
   "metadata": {},
   "source": [
    "## Mandatory - Choose between planar or stereochemical SMILES"
   ]
  },
  {
   "cell_type": "markdown",
   "metadata": {},
   "source": [
    "### [RECOMMENDED] Use the planar SMILES for virtual metabolization (no stereochemistry specified)\n",
    "\n",
    "Run the cell below to use planar isomers and ignore the cell after. This is recommended as it reflects the confidence computational mass spectrometry annotation can achieve and limits the number of candidates to compute."
   ]
  },
  {
   "cell_type": "markdown",
   "metadata": {
    "tags": []
   },
   "source": [
    "## Optional - Add candidate structures\n",
    "\n",
    "Appending structures to virtual metabolization batch.\n",
    "\n",
    "Upload a tab-separated file in the jupyter notebook interface (drag and drop) and specify the path in the cell below. The file must contain a first column indicating the compound name and the second the SMILES (no headers needed). Many compounds can be included in the file (one per line)."
   ]
  },
  {
   "cell_type": "markdown",
   "metadata": {},
   "source": [
    "# Mandatory - Choose between SyGMa (A) or BioTransformer (B) for virtual metabolization\n",
    "\n",
    "#### A - SyGMa generates specifically human biotransformation of phase 1 and/or 2. \n",
    "It takes generally couple minutes to compute. More informations from the paper (https://doi.org/10.1002/cmdc.200700312).\n",
    "\n",
    "#### B - BioTransformer generates biotransformation in mammals, their gut microbiota, as well as the soil/aquatic microbiota. \n",
    "It takes more time to compute. More information from the paper ([https://doi.org/10.1186/s13321-018-0324-5](https://doi.org/10.1186/s13321-018-0324-5))."
   ]
  },
  {
   "cell_type": "markdown",
   "metadata": {},
   "source": [
    "# A - Virtual metabolization with **SyGMa**\n",
    "\n",
    "SyGMa is a python library for the Systematic Generation of potential Metabolites. See [SyGMa: combining expert knowledge and empirical scoring in the prediction of metabolites](https://doi.org/10.1002/cmdc.200700312) and [https://github.com/3D-e-Chem/sygma](https://github.com/3D-e-Chem/sygma).\n",
    "\n",
    "Please cite their work:\n",
    "Ridder, L., & Wagener, M. (2008) [SyGMa: combining expert knowledge and empirical scoring in the prediction of metabolites](https://doi.org/10.1002/cmdc.200700312). ChemMedChem, 3(5), 821-832.\n",
    "\n",
    "\n",
    "### IMPORTANT -> Change the parameters below as needed\n",
    "> Define the ruleset and the number of phase 1/2 reaction cyles to apply in the SyGMA scenario. For example 2 cycles for phase 1 `phase_1_cycle = 2`. Using a value > 1 will be slow.\n",
    "\n",
    "> Define the maximum number of SyGMa candidates outputted (consider the number of reaction cycles). Suggested value `top_sygma_candidates = 15`\n",
    "\n",
    "> Run SyGMa."
   ]
  },
  {
   "cell_type": "markdown",
   "metadata": {},
   "source": [
    "### Run the cell below for running SyGMa (Fast !)\n",
    "\n",
    "No need to change the content of cell below"
   ]
  },
  {
   "cell_type": "markdown",
   "metadata": {},
   "source": [
    "When completed, download the full SyGMa results in the left side panel->\n",
    "['results_vm-NAP_SyGMa.tsv'](./results_vm-NAP_SyGMa.tsv)."
   ]
  },
  {
   "cell_type": "markdown",
   "metadata": {},
   "source": [
    "# Download the SyGMa results\n",
    "## For Network Annotation Propagation (NAP)\n",
    "See the documentation for custom database in [NAP](https://ccms-ucsd.github.io/GNPSDocumentation/nap/#structure-database) and how to run NAP on GNPS [https://ccms-ucsd.github.io/GNPSDocumentation/nap/#structure-database](https://ccms-ucsd.github.io/GNPSDocumentation/nap/#structure-database).\n",
    "\n",
    "## For SIRIUS structure annotation\n",
    "\n",
    "See the documentation to generate the SIRIUS [custom database here](https://boecker-lab.github.io/docs.sirius.github.io/cli-standalone/#custom-database-tool)."
   ]
  },
  {
   "cell_type": "markdown",
   "metadata": {},
   "source": [
    "Download the results for SIRIUS in the left side panel->\n",
    "['results_vm-NAP_SyGMa_SIRIUS.tsv'](./results_vm-NAP_SyGMa_SIRIUS.tsv)."
   ]
  },
  {
   "cell_type": "markdown",
   "metadata": {},
   "source": [
    "# B - Virtual metabolization with **BioTransformer** (It is slow !)\n",
    "\n",
    "BioTransformer is a software tool that predicts small molecule metabolism in mammals, their gut microbiota, as well as the soil/aquatic microbiota. BioTransformer also assists scientists in metabolite identification, based on the metabolism prediction. More information from the paper [[https://doi.org/10.1186/s13321-018-0324-5](https://doi.org/10.1186/s13321-018-0324-5)] and [[https://bitbucket.org/wishartlab/biotransformer3.0jar/src/master/](https://bitbucket.org/wishartlab/biotransformer3.0jar/src/master//)].\n",
    "\n",
    "### Citation\n",
    "\n",
    "Djoumbou-Feunang, Y., Fiamoncini, J., Gil-de-la-Fuente, A. et al. [BioTransformer: a comprehensive computational tool for small molecule metabolism prediction and metabolite identification.](https://doi.org/10.1186/s13321-018-0324-5) J Cheminform 11, 2 (2019).\n",
    "\n",
    "### Install BioTransformer [it can be ran once]\n",
    "It requires `curl` and `java`."
   ]
  },
  {
   "cell_type": "markdown",
   "metadata": {},
   "source": [
    "#### Specify the parameters of BioTransformer\n",
    "\n",
    "#### Mode 'standard'\n",
    "\n",
    "`type_of_biotransformation` : -b,--bt Type <BioTransformer Option> The type of description: Type of biotransformer - EC-based (`ecbased`), CYP450 (`cyp450`), Phase II (`phaseII`), Human gut microbial (`hgut`), human super transformer* (`superbio`, or `allHuman`), Environmental microbial** (`envimicro`).\n",
    "\n",
    "(* ) While the `superbio` option runs a set number of transformation steps in a pre-defined order (e.g. deconjugation first, then Oxidation/reduction, etc.), the `allHuman` option predicts all possible metabolites from any applicable reaction (Oxidation, reduction, (de-)conjugation) at each step.\n",
    "\n",
    "(** ) For the environmental microbial biodegradation, all reactions (aerobic and anaerobic) are reported, and not only the aerobic biotransformations (as per default in the EAWAG BBD/PPS system).\n",
    "    \n",
    "`number_of_steps`  -s,--nsteps <Number of steps> The number of steps for the prediction. This option can be set by the user for the EC-based, CYP450, Phase II, and Environmental microbial biotransformers. The default value is `1`.\n",
    "    \n",
    "#### Mode parameters free entry\n",
    "    \n",
    "`type_of_biotransformation` : -b,--bt Type <BioTransformer Option> The type of description: Type of biotransformer - EC-based (`ecbased`), CYP450 (`cyp450`), Phase II (`phaseII`), Human gut microbial (`hgut`), human super transformer* (`superbio`, or `allHuman`), Environmental microbial** (`envimicro`).\n",
    "\n",
    "`-cm`, `cyp450mode` CYP450 prediction Mode here: `1`) CypReact + BioTransformer rules; `2`) CyProduct only; `3`) Combined: CypReact + BioTransformer rules + CyProducts. Default mode is `1`.\n",
    "    \n",
    "`-s`, `--nsteps` <Number of steps> The number of steps for the prediction. This option can be set by the user for the EC-based, CYP450, Phase II, and Environmental microbial biotransformers. The default value is `1`.\n",
    "\n",
    "`-q`, `--bsequence` <Sequence> Ordered Sequence of biotransformation steps. Semi-colon separated pairs of biotransformer types and corresponding number of steps to be simulated.\n"
   ]
  },
  {
   "cell_type": "markdown",
   "metadata": {},
   "source": [
    "Download the full BioTransformer results in the left side panel->\n",
    "['results_vm-NAP_BioTransformer.tsv'](./results_vm-NAP_BioTransformer.tsv)."
   ]
  },
  {
   "cell_type": "markdown",
   "metadata": {},
   "source": [
    "## Export the BioTransformer results for NAP\n",
    "\n",
    "See the documentation for custom database in [NAP](https://ccms-ucsd.github.io/GNPSDocumentation/nap/#structure-database) and how to run NAP on GNPS [https://ccms-ucsd.github.io/GNPSDocumentation/nap/#structure-database](https://ccms-ucsd.github.io/GNPSDocumentation/nap/#structure-database)."
   ]
  },
  {
   "cell_type": "markdown",
   "metadata": {},
   "source": [
    "Download the BioTransformer results for NAP in the left side panel->\n",
    "['results_vm-NAP_BioTransformer_NAP.tsv'](./results_vm-NAP_BioTransformer_NAP.tsv)."
   ]
  },
  {
   "cell_type": "markdown",
   "metadata": {},
   "source": [
    "## Export the BioTransformer results for SIRIUS\n",
    "\n",
    "See the documentation to generate the SIRIUS [custom database here](https://boecker-lab.github.io/docs.sirius.github.io/cli-standalone/#custom-database-tool)."
   ]
  },
  {
   "cell_type": "markdown",
   "metadata": {},
   "source": [
    "Download the BioTransformer results for NAP in the left side panel->\n",
    "['results_vm-NAP_BioTransformer_SIRIUS.tsv'](./results_vm-NAP_BioTransformer_SIRIUS.tsv)."
   ]
  }
 ],
 "metadata": {
  "kernelspec": {
   "display_name": "Python 3 (ipykernel)",
   "language": "python",
   "name": "python3"
  },
  "language_info": {
   "codemirror_mode": {
    "name": "ipython",
    "version": 3
   },
   "file_extension": ".py",
   "mimetype": "text/x-python",
   "name": "python",
   "nbconvert_exporter": "python",
   "pygments_lexer": "ipython3",
   "version": "3.12.1"
  }
 },
 "nbformat": 4,
 "nbformat_minor": 4
}
