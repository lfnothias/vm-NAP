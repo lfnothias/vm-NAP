{
 "cells": [
  {
   "cell_type": "markdown",
   "metadata": {},
   "source": [
    "# Virtually metabolize GNPS annotations and prepare for Network Annotation Propagation or SIRIUS\n",
    "\n",
    "Made by Louis-Felix Nothias (UC San Diego), louisfelix.nothias@gmail.com. Started in 2018 and improved in May 2021.\n",
    "\n",
    "This notebook downloads results of spectral annotations from classical or feature-based molecular networking job from GNPS [[http://gnps.ucsd.edu](http://gnps.ucsd.edu)] and generate virtual metabolites either with SyGMa or BioTransformer. The resulting candidates can be used for [Network Annotation Propagation](https://ccms-ucsd.github.io/GNPSDocumentation/nap/) on GNPS or with [SIRIUS](https://boecker-lab.github.io/docs.sirius.github.io/install/).\n",
    "\n",
    "> Start by running the cell below to initiate the libraries."
   ]
  },
  {
   "cell_type": "code",
   "execution_count": 1,
   "metadata": {},
   "outputs": [],
   "source": [
    "import sys\n",
    "sys.path.append('gnps_postprocessing/lib')\n",
    "sys.path.append('src')\n",
    "from gnps_download_results import *\n",
    "from consolidate_structures import *\n",
    "from gnps_results_postprocess import *\n",
    "from prepare_virtual_metabolization import *\n",
    "from run_virtual_metabolization import *"
   ]
  },
  {
   "cell_type": "markdown",
   "metadata": {},
   "source": [
    "## Mandatory - Download annotation from the GNPS job\n",
    " \n",
    "> Replace the job ID from the GNPS molecular networking job in the URL in the cell below (line 3). We support both classical molecular networking and feature-based molecular networking (FBMN) jobs.\n",
    "\n",
    "You can try the classical MN job from that paper https://pubs.acs.org/doi/10.1021/acs.analchem.8b05854 with the ID `'bbee697a63b1400ea585410fafc95723'`. \n",
    "\n",
    "An other test job for feature-based molecular networking (FBMN) is `'e78a8c8f429a46fcb24f3b34d69aff25'`."
   ]
  },
  {
   "cell_type": "code",
   "execution_count": null,
   "metadata": {},
   "outputs": [
    {
     "name": "stdout",
     "output_type": "stream",
     "text": [
      "==================\n",
      "This is the GNPS job link: https://gnps.ucsd.edu/ProteoSAFe/status.jsp?task=bbee697a63b1400ea585410fafc95723\n",
      "Downloading the following content: https://gnps.ucsd.edu/ProteoSAFe/DownloadResult?task=bbee697a63b1400ea585410fafc95723&view=view_all_annotations_DB\n"
     ]
    },
    {
     "name": "stderr",
     "output_type": "stream",
     "text": [
      "  % Total    % Received % Xferd  Average Speed   Time    Time     Time  Current\n",
      "                                 Dload  Upload   Total   Spent    Left  Speed\n",
      "100 7200k    0 7200k    0     0   302k      0 --:--:--  0:00:23 --:--:--  406k"
     ]
    }
   ],
   "source": [
    "job_id = 'bbee697a63b1400ea585410fafc95723'\n",
    "\n",
    "gnps_download_results(job_id, output_folder ='all_annotations')"
   ]
  },
  {
   "cell_type": "code",
   "execution_count": null,
   "metadata": {},
   "outputs": [],
   "source": [
    "gnps_download_results.df_annotations.head(2)"
   ]
  },
  {
   "cell_type": "markdown",
   "metadata": {},
   "source": [
    "## Mandatory - Filter GNPS annotations\n",
    "\n",
    "Modifiy the parameters for filtering below and run the cell = "
   ]
  },
  {
   "cell_type": "code",
   "execution_count": null,
   "metadata": {},
   "outputs": [],
   "source": [
    "ionisation_mode='pos' #or 'neg'\n",
    "max_ppm_error=10\n",
    "min_cosine=0.7\n",
    "shared_peaks=3\n",
    "max_spec_charge=2\n",
    "\n",
    "gnps_download_results_df_annotations_filtered = gnps_filter_annotations(gnps_download_results.df_annotations, 'INCHI', \n",
    "                            ionisation_mode,  max_ppm_error, min_cosine, \n",
    "                            shared_peaks, max_spec_charge, prefix = '')"
   ]
  },
  {
   "cell_type": "markdown",
   "metadata": {},
   "source": [
    "## Mandatory - Consolidating structures identifier\n",
    "\n",
    "> Run the cell below to have a complete set of Smiles and InChI for the annotations.\n",
    "\n",
    "**IMPORTANT: Note that only spectral annotations that have a valid InChI or SMILES identifier will be considered downstream. If the annotations you are interested in don't have an identifier in the library, go back to the GNPS library entry, update the entry by adding an identifier, and rerun your GNPS job**"
   ]
  },
  {
   "cell_type": "code",
   "execution_count": null,
   "metadata": {},
   "outputs": [],
   "source": [
    "df_annotations_consolidated  = consolidate_and_convert_structures(gnps_download_results_df_annotations_filtered, prefix='', \n",
    "                                                                  smiles='Smiles', inchi='INCHI')"
   ]
  },
  {
   "cell_type": "code",
   "execution_count": null,
   "metadata": {},
   "outputs": [],
   "source": [
    "# We keep only annotations with a structure identifier\n",
    "\n",
    "df_annotations = get_info_gnps_annotations(df_annotations_consolidated, \n",
    "                          inchi_column='Consol_InChI', \n",
    "                          smiles_column = 'Consol_SMILES', \n",
    "                          smiles_planar_column='Consol_SMILES_iso')"
   ]
  },
  {
   "cell_type": "markdown",
   "metadata": {},
   "source": [
    "### [Advanced optional feature - Recommended to ignore] - Filter annotations based on compound name\n",
    "\n",
    "If you want to apply this filter, convert the cell type from raw to code. Other skip the following cells.\n",
    "\n",
    "##### Optional - Display compound name"
   ]
  },
  {
   "cell_type": "raw",
   "metadata": {
    "tags": []
   },
   "source": [
    "list_compounds = set(df_annotations['Compound_Name'])\n",
    "print_compound_names(list_compounds)"
   ]
  },
  {
   "cell_type": "markdown",
   "metadata": {},
   "source": [
    "#### Optional - Select compound name to keep\n",
    "\n",
    "Replace the compound names in the list `compound_name_to_keep`\n"
   ]
  },
  {
   "cell_type": "raw",
   "metadata": {},
   "source": [
    "compound_name_to_keep = ['Isobergaptene',\n",
    "                         'Isoxadifen-ethyl',\n",
    "                         'Lauric acid diethanolamide',\n",
    "                         'Lyso-PC(16:0)',\n",
    "                         'MLS000028461-01!URSODEOXYCHOLIC ACID',\n",
    "                         'MLS001332387-01!Chlorhexidine55-56-1',\n",
    "                         'MLS002154090-01!Proguanil hydrochloride637-32-1'\n",
    "                        ]"
   ]
  },
  {
   "cell_type": "markdown",
   "metadata": {},
   "source": [
    "### [Advanced optional feature - Recommended to ignore]  - Filter annotations based on tags\n",
    "\n",
    "If you want to apply this filter convert the cell type from raw to code.\n",
    "\n",
    "#### Optional - Display tags-annotations"
   ]
  },
  {
   "cell_type": "raw",
   "metadata": {},
   "source": [
    "print_compound_name_for_tags(df_annotations)"
   ]
  },
  {
   "cell_type": "markdown",
   "metadata": {},
   "source": [
    "#### Optional - Select tags to keep\n",
    "\n",
    "Specify the tags in the list `tags_to_keep`"
   ]
  },
  {
   "cell_type": "raw",
   "metadata": {},
   "source": [
    "tags_to_keep = ['Antibiotic[Drug Class]','Nonionic Surfactant[Source Environment]','Non-canonical amino acid[Chemical Family]']    # you can use multiple tags with ['Antibiotic[Drug Class]','other_tag_here']"
   ]
  },
  {
   "cell_type": "markdown",
   "metadata": {},
   "source": [
    "## Mandatory - Apply filter (if any were set)\n",
    "If you haven't select a filter, run this cell anyway."
   ]
  },
  {
   "cell_type": "code",
   "execution_count": null,
   "metadata": {},
   "outputs": [],
   "source": [
    "# We check if those lists exists and process as needed:\n",
    "\n",
    "try: compound_name_to_keep\n",
    "except NameError: compound_name_to_keep = None\n",
    "\n",
    "try: tags_to_keep\n",
    "except NameError: tags_to_keep = None\n",
    "\n",
    "if compound_name_to_keep == None and tags_to_keep == None:\n",
    "    df_annotations_filtered = df_annotations\n",
    "    print('No Compound_Name or Tags filter were used')\n",
    "    \n",
    "elif compound_name_to_keep and tags_to_keep==None:\n",
    "    df_annotations_filtered = df_annotations_filtering(df_annotations, compound_name=compound_name_to_keep)\n",
    "    print('Compound name filtering applied')\n",
    "    \n",
    "elif compound_name_to_keep == None and tags_to_keep:\n",
    "    df_annotations_filtered = df_annotations_filtering(df_annotations, tags=tags_to_keep)\n",
    "    print('Tag(s) filtering applied')\n",
    "    \n",
    "elif compound_name_to_keep and tags_to_keep:\n",
    "    df_annotations_filtered = df_annotations_filtering(df_annotations, compound_name=compound_name_to_keep, tags=tags_to_keep)\n",
    "    print('Compound name and tags filtering applied')\n",
    "    \n",
    "else:\n",
    "    print('Something is wrong')\n",
    "    \n",
    "print('Number of annotations after filtering = '+str(df_annotations_filtered.shape[0]))"
   ]
  },
  {
   "cell_type": "markdown",
   "metadata": {},
   "source": [
    "## Mandatory - Choose between planar or stereochemical SMILES"
   ]
  },
  {
   "cell_type": "markdown",
   "metadata": {},
   "source": [
    "### [RECOMMENDED] Use the planar SMILES for virtual metabolization (no stereochemistry specified)\n",
    "\n",
    "Run the cell below to use planar isomers and ignore the cell after. This is recommended as it reflects the confidence computational mass spectrometry annotation can achieve and limits the number of candidates to compute."
   ]
  },
  {
   "cell_type": "code",
   "execution_count": null,
   "metadata": {},
   "outputs": [],
   "source": [
    "use_planar_structure_boolean =True # or False\n",
    "prepare_for_virtual_metabolization(df_annotations_filtered,\n",
    "                                   compound_name = 'Compound_Name',\n",
    "                                    smiles_column = 'Consol_SMILES', \n",
    "                                    smiles_planar_column='Consol_SMILES_iso',\n",
    "                                    drop_duplicated_structure = True, \n",
    "                                    use_planar_structure = use_planar_structure_boolean)"
   ]
  },
  {
   "cell_type": "markdown",
   "metadata": {
    "tags": []
   },
   "source": [
    "## Optional - Add candidate structures\n",
    "\n",
    "Appending structures to virtual metabolization batch.\n",
    "\n",
    "Upload a tab-separated file in the jupyter notebook interface (drag and drop) and specify the path in the cell below. The file must contain a first column indicating the compound name and the second the SMILES (no headers needed). Many compounds can be included in the file (one per line)."
   ]
  },
  {
   "cell_type": "code",
   "execution_count": null,
   "metadata": {},
   "outputs": [],
   "source": [
    "extra_compounds_table_file = 'input/extra_compounds-UTF8.tsv'"
   ]
  },
  {
   "cell_type": "code",
   "execution_count": null,
   "metadata": {},
   "outputs": [],
   "source": [
    "load_extra_compounds(extra_compounds_table_file)\n",
    "append_to_list_if_not_present(prepare_for_virtual_metabolization.list_compound_name, prepare_for_virtual_metabolization.list_smiles, \n",
    "                              load_extra_compounds.extra_compound_names, load_extra_compounds.extra_compound_smiles)"
   ]
  },
  {
   "cell_type": "markdown",
   "metadata": {},
   "source": [
    "# Mandatory - Choose between SyGMa (A) or BioTransformer (B) for virtual metabolization\n",
    "\n",
    "#### A - SyGMa generates specifically human biotransformation of phase 1 and/or 2. \n",
    "It takes generally couple minutes to compute. More informations from the paper (https://doi.org/10.1002/cmdc.200700312).\n",
    "\n",
    "#### B - BioTransformer generates biotransformation in mammals, their gut microbiota, as well as the soil/aquatic microbiota. \n",
    "It takes more time to compute. More information from the paper ([https://doi.org/10.1186/s13321-018-0324-5](https://doi.org/10.1186/s13321-018-0324-5))."
   ]
  },
  {
   "cell_type": "markdown",
   "metadata": {},
   "source": [
    "# A - Virtual metabolization with **SyGMa**\n",
    "\n",
    "SyGMa is a python library for the Systematic Generation of potential Metabolites. See [SyGMa: combining expert knowledge and empirical scoring in the prediction of metabolites](https://doi.org/10.1002/cmdc.200700312) and [https://github.com/3D-e-Chem/sygma](https://github.com/3D-e-Chem/sygma).\n",
    "\n",
    "Please cite their work:\n",
    "Ridder, L., & Wagener, M. (2008) [SyGMa: combining expert knowledge and empirical scoring in the prediction of metabolites](https://doi.org/10.1002/cmdc.200700312). ChemMedChem, 3(5), 821-832.\n",
    "\n",
    "\n",
    "### IMPORTANT -> Change the parameters below as needed\n",
    "> Define the ruleset and the number of phase 1/2 reaction cyles to apply in the SyGMA scenario. For example 2 cycles for phase 1 `phase_1_cycle = 2`. Using a value > 1 will be slow.\n",
    "\n",
    "> Define the maximum number of SyGMa candidates outputted (consider the number of reaction cycles). Suggested value `top_sygma_candidates = 15`\n",
    "\n",
    "> Run SyGMa."
   ]
  },
  {
   "cell_type": "code",
   "execution_count": 11,
   "metadata": {},
   "outputs": [],
   "source": [
    "# Define the number of metabolization cycles (1-3). If the number of cycle is more than 1, it can be slow.\n",
    "phase_1_cycle = 1\n",
    "phase_2_cycle = 1\n",
    "          \n",
    "#Top metabolites predicted by SyGMa to output (ranked by highest score)\n",
    "top_sygma_candidates = 10"
   ]
  },
  {
   "cell_type": "markdown",
   "metadata": {},
   "source": [
    "### Run the cell below for running SyGMa (Fast !)\n",
    "\n",
    "No need to change the content of cell below"
   ]
  },
  {
   "cell_type": "code",
   "execution_count": 12,
   "metadata": {},
   "outputs": [
    {
     "name": "stdout",
     "output_type": "stream",
     "text": [
      "=== Starting SyGMa computation ===\n",
      "Number of compounds = 86\n",
      "Batch_size = 13\n",
      "If you are running many compounds or cycles, and maxing out RAM memory available, you can decrease the batch size. Otherwise the value can be increased for faster computation.\n",
      "======\n",
      "Please wait\n",
      "======\n",
      "Batch 1/7 completed with 130 metabolites\n",
      "Batch 2/7 completed with 130 metabolites\n",
      "Batch 3/7 completed with 130 metabolites\n",
      "Batch 4/7 completed with 130 metabolites\n",
      "Batch 5/7 completed with 130 metabolites\n",
      "Batch 6/7 completed with 130 metabolites\n",
      "Batch 7/7 completed with 80 metabolites\n",
      "Number of SyGMA candidates = 860\n",
      "Number of unique SyGMA candidates = 837\n",
      "===== COMPLETED =====\n"
     ]
    }
   ],
   "source": [
    "run_sygma_batch(prepare_for_virtual_metabolization.list_smiles, prepare_for_virtual_metabolization.list_compound_name, \n",
    "                phase_1_cycle, phase_2_cycle, top_sygma_candidates, 'results_vm-NAP_SyGMa.tsv', 'Compound_Name')"
   ]
  },
  {
   "cell_type": "markdown",
   "metadata": {},
   "source": [
    "When completed, download the full SyGMa results in the left side panel->\n",
    "['results_vm-NAP_SyGMa.tsv'](./results_vm-NAP_SyGMa.tsv)."
   ]
  },
  {
   "cell_type": "markdown",
   "metadata": {},
   "source": [
    "## Export the SyGMa results for NAP\n",
    "See the documentation for custom database in [NAP](https://ccms-ucsd.github.io/GNPSDocumentation/nap/#structure-database) and how to run NAP on GNPS [https://ccms-ucsd.github.io/GNPSDocumentation/nap/#structure-database](https://ccms-ucsd.github.io/GNPSDocumentation/nap/#structure-database)."
   ]
  },
  {
   "cell_type": "code",
   "execution_count": 13,
   "metadata": {},
   "outputs": [
    {
     "name": "stdout",
     "output_type": "stream",
     "text": [
      "Number of metabolites = 860\n",
      "Number of unique metabolites considered = 630\n"
     ]
    }
   ],
   "source": [
    "export_for_NAP('results_vm-NAP_SyGMa.tsv', 'Compound_Name')"
   ]
  },
  {
   "cell_type": "markdown",
   "metadata": {},
   "source": [
    "View/Download the results for NAP in the left side panel->\n",
    "['results_vm-NAP_SyGMa_NAP.tsv'](./results_vm-NAP_SyGMa_NAP.tsv).\n",
    "\n",
    "To download: Go into File/Download or right-clic on the file in the left panel"
   ]
  },
  {
   "cell_type": "markdown",
   "metadata": {},
   "source": [
    "## Export the SyGMa results for SIRIUS\n",
    "\n",
    "See the documentation to generate the SIRIUS [custom database here](https://boecker-lab.github.io/docs.sirius.github.io/cli-standalone/#custom-database-tool)."
   ]
  },
  {
   "cell_type": "code",
   "execution_count": 14,
   "metadata": {},
   "outputs": [
    {
     "name": "stdout",
     "output_type": "stream",
     "text": [
      "Number of metabolites = 860\n",
      "Number of unique metabolites considered = 624\n"
     ]
    }
   ],
   "source": [
    "export_for_SIRIUS('results_vm-NAP_SyGMa.tsv', 'Compound_Name')"
   ]
  },
  {
   "cell_type": "markdown",
   "metadata": {},
   "source": [
    "Download the results for SIRIUS in the left side panel->\n",
    "['results_vm-NAP_SyGMa_SIRIUS.tsv'](./results_vm-NAP_SyGMa_SIRIUS.tsv)."
   ]
  },
  {
   "cell_type": "markdown",
   "metadata": {},
   "source": [
    "# B - Virtual metabolization with **BioTransformer** (It is slow !)\n",
    "\n",
    "BioTransformer is a software tool that predicts small molecule metabolism in mammals, their gut microbiota, as well as the soil/aquatic microbiota. BioTransformer also assists scientists in metabolite identification, based on the metabolism prediction. More information from the paper [[https://doi.org/10.1186/s13321-018-0324-5](https://doi.org/10.1186/s13321-018-0324-5)] and [[https://bitbucket.org/wishartlab/biotransformer3.0jar/src/master/](https://bitbucket.org/wishartlab/biotransformer3.0jar/src/master//)].\n",
    "\n",
    "### Citation\n",
    "\n",
    "Djoumbou-Feunang, Y., Fiamoncini, J., Gil-de-la-Fuente, A. et al. [BioTransformer: a comprehensive computational tool for small molecule metabolism prediction and metabolite identification.](https://doi.org/10.1186/s13321-018-0324-5) J Cheminform 11, 2 (2019).\n",
    "\n",
    "### Install BioTransformer [it can be ran once]\n",
    "It requires `curl` and `java`."
   ]
  },
  {
   "cell_type": "code",
   "execution_count": 11,
   "metadata": {},
   "outputs": [
    {
     "name": "stdout",
     "output_type": "stream",
     "text": [
      "openjdk version \"1.8.0_112\"\n",
      "OpenJDK Runtime Environment (Zulu 8.19.0.1-linux64) (build 1.8.0_112-b16)\n",
      "OpenJDK 64-Bit Server VM (Zulu 8.19.0.1-linux64) (build 25.112-b16, mixed mode)\n",
      "** Resuming transfer from byte position 109966663\n",
      "  % Total    % Received % Xferd  Average Speed   Time    Time     Time  Current\n",
      "                                 Dload  Upload   Total   Spent    Left  Speed\n",
      "  0  104M    0     0    0     0      0      0 --:--:--  0:00:01 --:--:--     0\n"
     ]
    }
   ],
   "source": [
    "!java -version\n",
    "!curl -C - https://bitbucket.org/wishartlab/biotransformer3.0jar/get/cc4006a06ed3.zip -o BioTransformer3.0.zip\n",
    "!unzip -n -q -d biotransformer BioTransformer3.0.zip"
   ]
  },
  {
   "cell_type": "markdown",
   "metadata": {},
   "source": [
    "#### Specify the parameters of BioTransformer\n",
    "\n",
    "#### Mode 'standard'\n",
    "\n",
    "`type_of_biotransformation` : -b,--bt Type <BioTransformer Option> The type of description: Type of biotransformer - EC-based (`ecbased`), CYP450 (`cyp450`), Phase II (`phaseII`), Human gut microbial (`hgut`), human super transformer* (`superbio`, or `allHuman`), Environmental microbial** (`envimicro`).\n",
    "\n",
    "(* ) While the `superbio` option runs a set number of transformation steps in a pre-defined order (e.g. deconjugation first, then Oxidation/reduction, etc.), the `allHuman` option predicts all possible metabolites from any applicable reaction (Oxidation, reduction, (de-)conjugation) at each step.\n",
    "\n",
    "(** ) For the environmental microbial biodegradation, all reactions (aerobic and anaerobic) are reported, and not only the aerobic biotransformations (as per default in the EAWAG BBD/PPS system).\n",
    "    \n",
    "`number_of_steps`  -s,--nsteps <Number of steps> The number of steps for the prediction. This option can be set by the user for the EC-based, CYP450, Phase II, and Environmental microbial biotransformers. The default value is `1`.\n",
    "    \n",
    "#### Mode parameters free entry\n",
    "    \n",
    "`type_of_biotransformation` : -b,--bt Type <BioTransformer Option> The type of description: Type of biotransformer - EC-based (`ecbased`), CYP450 (`cyp450`), Phase II (`phaseII`), Human gut microbial (`hgut`), human super transformer* (`superbio`, or `allHuman`), Environmental microbial** (`envimicro`).\n",
    "\n",
    "`-cm`, `cyp450mode` CYP450 prediction Mode here: `1`) CypReact + BioTransformer rules; `2`) CyProduct only; `3`) Combined: CypReact + BioTransformer rules + CyProducts. Default mode is `1`.\n",
    "    \n",
    "`-s`, `--nsteps` <Number of steps> The number of steps for the prediction. This option can be set by the user for the EC-based, CYP450, Phase II, and Environmental microbial biotransformers. The default value is `1`.\n",
    "\n",
    "`-q`, `--bsequence` <Sequence> Ordered Sequence of biotransformation steps. Semi-colon separated pairs of biotransformer types and corresponding number of steps to be simulated.\n"
   ]
  },
  {
   "cell_type": "code",
   "execution_count": null,
   "metadata": {},
   "outputs": [],
   "source": [
    "### Choose the BioTransformation mode \n",
    "#### Default (standard) for single type of biotransformation\n",
    "\n",
    "mode = 'standard'\n",
    "type_of_biotransformation = 'hgut'\n",
    "number_of_steps = 1\n",
    "\n",
    "#### Else use free entry parameters like mode = '-k pred -q \"cyp450:2; phaseII:1\"'\n",
    "mode = '-k pred -q \"cyp450:2; phaseII:1\"'\n",
    "\n",
    "run_biotransformer3(mode, prepare_for_virtual_metabolization.list_smiles,prepare_for_virtual_metabolization.list_compound_name,\n",
    "                   type_of_biotransformation, number_of_steps, 'results_vm-NAP_BioTransformer.tsv')\n",
    " \n",
    "print(' ====> Biotransformer computation is finally completed !!! ')"
   ]
  },
  {
   "cell_type": "markdown",
   "metadata": {},
   "source": [
    "Download the full BioTransformer results in the left side panel->\n",
    "['results_vm-NAP_BioTransformer.tsv'](./results_vm-NAP_BioTransformer.tsv)."
   ]
  },
  {
   "cell_type": "markdown",
   "metadata": {},
   "source": [
    "## Export the BioTransformer results for NAP\n",
    "\n",
    "See the documentation for custom database in [NAP](https://ccms-ucsd.github.io/GNPSDocumentation/nap/#structure-database) and how to run NAP on GNPS [https://ccms-ucsd.github.io/GNPSDocumentation/nap/#structure-database](https://ccms-ucsd.github.io/GNPSDocumentation/nap/#structure-database)."
   ]
  },
  {
   "cell_type": "code",
   "execution_count": null,
   "metadata": {},
   "outputs": [],
   "source": [
    "export_for_NAP('results_vm-NAP_BioTransformer.tsv', 'Compound_Name')"
   ]
  },
  {
   "cell_type": "markdown",
   "metadata": {},
   "source": [
    "Download the BioTransformer results for NAP in the left side panel->\n",
    "['results_vm-NAP_BioTransformer_NAP.tsv'](./results_vm-NAP_BioTransformer_NAP.tsv)."
   ]
  },
  {
   "cell_type": "markdown",
   "metadata": {},
   "source": [
    "## Export the BioTransformer results for SIRIUS\n",
    "\n",
    "See the documentation to generate the SIRIUS [custom database here](https://boecker-lab.github.io/docs.sirius.github.io/cli-standalone/#custom-database-tool)."
   ]
  },
  {
   "cell_type": "code",
   "execution_count": null,
   "metadata": {},
   "outputs": [],
   "source": [
    "export_for_SIRIUS('results_vm-NAP_BioTransformer.tsv', 'Compound_Name')"
   ]
  },
  {
   "cell_type": "markdown",
   "metadata": {},
   "source": [
    "Download the BioTransformer results for NAP in the left side panel->\n",
    "['results_vm-NAP_BioTransformer_SIRIUS.tsv'](./results_vm-NAP_BioTransformer_SIRIUS.tsv)."
   ]
  }
 ],
 "metadata": {
  "kernelspec": {
   "display_name": "Python 3 (ipykernel)",
   "language": "python",
   "name": "python3"
  },
  "language_info": {
   "codemirror_mode": {
    "name": "ipython",
    "version": 3
   },
   "file_extension": ".py",
   "mimetype": "text/x-python",
   "name": "python",
   "nbconvert_exporter": "python",
   "pygments_lexer": "ipython3",
   "version": "3.7.12"
  }
 },
 "nbformat": 4,
 "nbformat_minor": 4
}
