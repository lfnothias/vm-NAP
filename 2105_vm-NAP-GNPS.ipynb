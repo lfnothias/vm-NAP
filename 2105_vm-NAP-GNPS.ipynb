{
 "cells": [
  {
   "cell_type": "markdown",
   "metadata": {},
   "source": [
    "# Virtually metabolize GNPS annotations and prepare for Network Annotation Propagation or SIRIUS\n",
    "\n",
    "Made by Louis-Felix Nothias (UC San Diego), louisfelix.nothias@gmail.com. Started in 2018 and improved in May 2021.\n",
    "\n",
    "This notebook downloads results of spectral annotations from classical or feature-based molecular networking job from GNPS [[http://gnps.ucsd.edu](http://gnps.ucsd.edu)] and generate virtual metabolites either with SyGMa or BioTransformer. The resulting candidates can be used for [Network Annotation Propagation](https://ccms-ucsd.github.io/GNPSDocumentation/nap/) on GNPS or with [SIRIUS](https://boecker-lab.github.io/docs.sirius.github.io/install/).\n",
    "\n",
    "> Start by running the cell below to initiate the libraries."
   ]
  },
  {
   "cell_type": "code",
   "execution_count": 1,
   "metadata": {},
   "outputs": [
    {
     "name": "stderr",
     "output_type": "stream",
     "text": [
      "RDKit WARNING: [14:09:58] Enabling RDKit 2019.09.3 jupyter extensions\n"
     ]
    }
   ],
   "source": [
    "import pandas as pd\n",
    "import numpy as np\n",
    "import sygma\n",
    "from rdkit import Chem\n",
    "from rdkit import RDLogger\n",
    "lg = RDLogger.logger()\n",
    "lg.setLevel(RDLogger.ERROR)\n",
    "import os\n",
    "import sys\n",
    "from convert_structures import *\n",
    "from run_virtual_metabolization import *"
   ]
  },
  {
   "cell_type": "markdown",
   "metadata": {},
   "source": [
    "## Mandatory - Download annotation from the GNPS job\n",
    " \n",
    "> Replace the job ID from the GNPS molecular networking job in the URL in the cell below (line 3). We support both classical molecular networking and feature-based molecular networking (FBMN) jobs.\n",
    "\n",
    "You can try the classical MN job from that paper https://pubs.acs.org/doi/10.1021/acs.analchem.8b05854 with the ID `bbee697a63b1400ea585410fafc95723`. \n",
    "\n",
    "An other test job for feature-based molecular networking (FBMN) is `e78a8c8f429a46fcb24f3b34d69aff25`."
   ]
  },
  {
   "cell_type": "code",
   "execution_count": 2,
   "metadata": {},
   "outputs": [
    {
     "name": "stdout",
     "output_type": "stream",
     "text": [
      "  % Total    % Received % Xferd  Average Speed   Time    Time     Time  Current\n",
      "                                 Dload  Upload   Total   Spent    Left  Speed\n",
      "100 29.5M    0 29.5M    0     0  3067k      0 --:--:--  0:00:09 --:--:-- 3202k\n",
      "==================\n",
      "Downloading the GNPS job results\n"
     ]
    }
   ],
   "source": [
    "!rm -r all_annotations.zip all_annotations/\n",
    "\n",
    "# Replace the job ID in the line below <<< ====\n",
    "!curl -d \"\" 'https://gnps.ucsd.edu/ProteoSAFe/DownloadResult?task=bbee697a63b1400ea585410fafc95723&view=view_all_annotations_DB' -o all_annotations.zip\n",
    "\n",
    "! unzip -q -d all_annotations/ all_annotations.zip\n",
    "print('==================')\n",
    "print('Downloading the GNPS job results')"
   ]
  },
  {
   "cell_type": "code",
   "execution_count": 138,
   "metadata": {},
   "outputs": [
    {
     "name": "stdout",
     "output_type": "stream",
     "text": [
      "==================\n",
      "Classical MN job detected\n",
      "==================\n",
      "   Number of of spectral library annotations in the job = 200\n"
     ]
    }
   ],
   "source": [
    "try :\n",
    "    path = [x for x in os.listdir('all_annotations/result_specnets_DB')][0]\n",
    "    df_annotations = pd.read_csv('all_annotations/result_specnets_DB/'+path, sep='\\t')\n",
    "    print('==================')\n",
    "    print('Classical MN job detected')\n",
    "    print('==================')\n",
    "    print('   Number of of spectral library annotations in the job = '+str(df_annotations.shape[0]))\n",
    "except: \n",
    "    print('==================')\n",
    "    path = [x for x in os.listdir('all_annotations/DB_result')][0]\n",
    "    df_annotations = pd.read_csv('all_annotations/DB_result/'+path, sep='\\t')\n",
    "    print('==================')\n",
    "    print('FBMN job detected')\n",
    "    print('==================')\n",
    "    print('   Number of spectral library annotations in job = '+str(df_annotations.shape[0]))"
   ]
  },
  {
   "cell_type": "markdown",
   "metadata": {},
   "source": [
    "## Mandatory - Consolidating structures identifier\n",
    "\n",
    "> Run the cell below to have a complete set of Smiles and InChI for the annotations.\n",
    "\n",
    "**IMPORTANT: Note that only spectral annotations that have a valid InChI or SMILES identifier will be considered downstream. If the annotations you are interested in don't have an identifier in the library, go back to the GNPS library entry, update the entry by adding an identifier, and rerun your GNPS job**"
   ]
  },
  {
   "cell_type": "code",
   "execution_count": 130,
   "metadata": {},
   "outputs": [
    {
     "name": "stdout",
     "output_type": "stream",
     "text": [
      "Both SMILES and InChI were inputted\n",
      "Converting SMILES to mol object\n",
      "Succesfully converted to mol object: 110\n",
      "Exception to the parsing: 0\n",
      "Not available: 90\n",
      "Converting INCHI to mol object\n",
      "Succesfully converted to mol object: 104\n",
      "Exception to the parsing: 0\n",
      "Not available: 96\n",
      "Consolidating the lists\n",
      "Total mol object from the list 1 = 110\n",
      "Mol object consolidated from list 2 = 12\n",
      "Consolidated structures = 122\n",
      "Converting mol objects to SMILES iso\n",
      "Converting mol objects to SMILES\n",
      "Converting mol objects to InChI\n",
      "Converting mol objects to InChIKey\n",
      "End\n"
     ]
    }
   ],
   "source": [
    "consolidate_and_convert_structures(df_annotations,'GNPS_LIB_', smiles='Smiles', \\\n",
    "                                   inchi='INCHI')"
   ]
  },
  {
   "cell_type": "markdown",
   "metadata": {},
   "source": [
    "### [Advanced optional feature - Recommended to ignore] - Filter annotations based on compound name\n",
    "\n",
    "If you want to apply this filter, convert the cell type from raw to code.\n",
    "\n",
    "##### Optional - Display compound name"
   ]
  },
  {
   "cell_type": "raw",
   "metadata": {
    "jupyter": {
     "outputs_hidden": true
    }
   },
   "source": [
    "list_compounds = set(df_annotations['Compound_Name'])\n",
    "for item in sorted(list_compounds):\n",
    "    print('\\''+item+'\\',')\n",
    "    print('')\n",
    "del list_compounds"
   ]
  },
  {
   "cell_type": "markdown",
   "metadata": {},
   "source": [
    "##### Optional - Select compound name to keep\n",
    "\n",
    "Replace the compound names in the list `compound_name_to_keep`\n"
   ]
  },
  {
   "cell_type": "raw",
   "metadata": {},
   "source": [
    "compound_name_to_keep = ['Isobergaptene','Isoxadifen-ethyl','Lauric acid diethanolamide','Lyso-PC(16:0)',\n",
    "                         'MLS000028461-01!URSODEOXYCHOLIC ACID','MLS001332387-01!Chlorhexidine55-56-1','MLS002154090-01!Proguanil hydrochloride637-32-1'\n",
    "                        ]\n",
    "df_annotations = df_annotations[df_annotations.Compound_Name.isin(compound_name_to_keep)]\n",
    "print('Number of annotations after compound name filtering = '+str(df_annotations.shape[0]))"
   ]
  },
  {
   "cell_type": "markdown",
   "metadata": {},
   "source": [
    "### [Advanced optional feature - Recommended to ignore]  - Filter annotations based on tags\n",
    "\n",
    "If you want to apply this filter convert the cell type from raw to code.\n",
    "\n",
    "##### Optional - Display tags in the annotations"
   ]
  },
  {
   "cell_type": "raw",
   "metadata": {},
   "source": [
    "set(df_annotations['tags'])"
   ]
  },
  {
   "cell_type": "markdown",
   "metadata": {},
   "source": [
    "##### Optional - Select tags to keep\n",
    "\n",
    "Specify the tags in the list `tags_to_keep`"
   ]
  },
  {
   "cell_type": "raw",
   "metadata": {},
   "source": [
    "tags_to_keep = ['Antibiotic[Drug Class]','other_tag_here']\n",
    "df_annotations = df_annotations[df_annotations.tags.isin(tags_to_keep)]\n",
    "print('Number of annotations after compound name filtering = '+str(df_annotations.shape[0]))"
   ]
  },
  {
   "cell_type": "markdown",
   "metadata": {},
   "source": [
    "## Mandatory - Choose between planar or stereochemical SMILES"
   ]
  },
  {
   "cell_type": "markdown",
   "metadata": {},
   "source": [
    "### Use the planar SMILES for in silico metabolization (no stereochemistry specified)\n",
    "\n",
    "Run the cell below to use planar isomers and ignore the cell after."
   ]
  },
  {
   "cell_type": "code",
   "execution_count": 136,
   "metadata": {},
   "outputs": [
    {
     "name": "stdout",
     "output_type": "stream",
     "text": [
      "Number of spectral annotations with SMILES = 57\n",
      "Number of unique SMILES considered = 57\n"
     ]
    }
   ],
   "source": [
    "df_annotations = df_annotations[df_annotations.GNPS_LIB_Consol_SMILES_iso.str.contains('nan') == False]\n",
    "\n",
    "print('Number of spectral annotations with SMILES = '+str(df_annotations.shape[0]))\n",
    "\n",
    "df_annotations = df_annotations.sort_values(by=['MQScore'], ascending=False)\n",
    "df_annotations = df_annotations.drop_duplicates(subset='GNPS_LIB_Consol_SMILES_iso', keep='first')\n",
    "\n",
    "list_compound_name = list(df_annotations['Compound_Name'])\n",
    "list_smiles = list(df_annotations['GNPS_LIB_Consol_SMILES_iso'])\n",
    "print('Number of unique SMILES considered = '+str(len(list_smiles)))"
   ]
  },
  {
   "cell_type": "markdown",
   "metadata": {},
   "source": [
    "### [Advanced optional feature - Recommended to ignore] Use the stereochemical SMILES for virtual metabolization\n",
    "Convert the cell type from raw to code to use all the stereoisomers detected instead."
   ]
  },
  {
   "cell_type": "raw",
   "metadata": {},
   "source": [
    "df_annotations = df_annotations[df_annotations.GNPS_LIB_Consol_SMILES.str.contains('nan') == False]\n",
    "\n",
    "print('Number of spectral annotations with SMILES = '+str(df_annotations.shape[0]))\n",
    "\n",
    "df_annotations = df_annotations.sort_values(by=['MQScore'], ascending=False)\n",
    "df_annotations = df_annotations.drop_duplicates(subset='GNPS_LIB_Consol_SMILES', keep='first')\n",
    "\n",
    "list_compound_name = list(df_annotations['Compound_Name'])\n",
    "list_smiles = list(df_annotations['GNPS_LIB_Consol_SMILES'])\n",
    "print('Number of unique SMILES = '+str(len(list_smiles)))"
   ]
  },
  {
   "cell_type": "markdown",
   "metadata": {},
   "source": [
    "# Mandatory - Choose between SyGMa (A) or BioTransformer (B) for virtual metabolization\n",
    "\n",
    "#### A - SyGMa generates specifically human biotransformation of phase 1 and/or 2. \n",
    "It takes generally couple minutes to compute. More informations from the paper (https://doi.org/10.1002/cmdc.200700312).\n",
    "\n",
    "#### B - BioTransformer generates biotransformation in mammals, their gut microbiota, as well as the soil/aquatic microbiota. \n",
    "It takes more time to compute. More information from the paper ([https://doi.org/10.1186/s13321-018-0324-5](https://doi.org/10.1186/s13321-018-0324-5))."
   ]
  },
  {
   "cell_type": "markdown",
   "metadata": {},
   "source": [
    "# A - Virtual metabolization with SyGMa\n",
    "\n",
    "SyGMa is a python library for the Systematic Generation of potential Metabolites. See [SyGMa: combining expert knowledge and empirical scoring in the prediction of metabolites](https://doi.org/10.1002/cmdc.200700312) and [https://github.com/3D-e-Chem/sygma](https://github.com/3D-e-Chem/sygma).\n",
    "\n",
    "Please cite their work:\n",
    "Ridder, L., & Wagener, M. (2008) [SyGMa: combining expert knowledge and empirical scoring in the prediction of metabolites](https://doi.org/10.1002/cmdc.200700312). ChemMedChem, 3(5), 821-832.\n",
    "\n",
    "\n",
    "### IMPORTANT\n",
    "> Define the ruleset and the number of phase 1/2 reaction cyles to apply in the SyGMA scenario. For example 2 cycles for phase 1 `phase_1_cycle = 2`. Using a value > 1 will be slow.\n",
    "\n",
    "> Define the maximum number of SyGMa candidates outputted (consider the number of reaction cycles). Suggested value `top_sygma_candidates = 15`\n",
    "\n",
    "> Run SyGMa."
   ]
  },
  {
   "cell_type": "code",
   "execution_count": 95,
   "metadata": {},
   "outputs": [
    {
     "name": "stdout",
     "output_type": "stream",
     "text": [
      "9.196986029286059\n"
     ]
    }
   ],
   "source": [
    "# Define the number of metabolization cycles (1-3). If the number of cycle is more than 1, it can be slow.\n",
    "phase_1_cycle = 2\n",
    "phase_2_cycle = 1\n",
    "\n",
    "# Batch size \n",
    "batch_size = 50/(phase_1_cycle)/(math.exp(phase_2_cycle))\n",
    "\n",
    "print(batch_size)\n",
    "                  \n",
    "#Top metabolites predicted by SyGMa to output (ranked by highest score)\n",
    "top_sygma_candidates = 15"
   ]
  },
  {
   "cell_type": "markdown",
   "metadata": {},
   "source": [
    "### Run the cell below for running SyGMa"
   ]
  },
  {
   "cell_type": "code",
   "execution_count": 96,
   "metadata": {},
   "outputs": [
    {
     "name": "stdout",
     "output_type": "stream",
     "text": [
      "=== Starting SyGMa computation ===\n",
      "Number of compounds = 57\n",
      "Batch_size = 9\n",
      "If you are running many compounds or cycles, and maxing out RAM memory available, you can decreased the batch size. Otherwise the value can be increased for faster computation.\n",
      "======\n",
      "Please wait\n",
      "======\n",
      "Batch 1 was compeleted\n",
      "Batch 2 was compeleted\n",
      "Batch 3 was compeleted\n",
      "Batch 4 was compeleted\n",
      "Batch 5 was compeleted\n",
      "Batch 6 was compeleted\n",
      "Batch 7 was compeleted\n",
      "Number of SyGMA candidates = 855\n",
      "Number of unique SyGMA candidates = 813\n",
      "===== COMPLETED =====\n"
     ]
    }
   ],
   "source": [
    "run_sygma_batch(list_smiles, list_compound_name, phase_1_cycle, phase_2_cycle, top_sygma_candidates,'results_vm-NAP_SyGMa.tsv', int(batch_size))"
   ]
  },
  {
   "cell_type": "markdown",
   "metadata": {},
   "source": [
    "When completed, download the full SyGMa results in the left side panel->\n",
    "['results_vm-NAP_SyGMa.tsv'](./results_vm-NAP_SyGMa.tsv)."
   ]
  },
  {
   "cell_type": "markdown",
   "metadata": {},
   "source": [
    "## Export the SyGMa results for NAP\n",
    "See the documentation for custom database in [NAP](https://ccms-ucsd.github.io/GNPSDocumentation/nap/#structure-database) and how to run NAP on GNPS [https://ccms-ucsd.github.io/GNPSDocumentation/nap/#structure-database](https://ccms-ucsd.github.io/GNPSDocumentation/nap/#structure-database)."
   ]
  },
  {
   "cell_type": "code",
   "execution_count": 97,
   "metadata": {},
   "outputs": [],
   "source": [
    "export_for_NAP('results_vm-NAP_SyGMa.tsv')"
   ]
  },
  {
   "cell_type": "markdown",
   "metadata": {},
   "source": [
    "Download the results for NAP in the left side panel->\n",
    "['results_vm-NAP_SyGMa_NAP.tsv'](./results_vm-NAP_SyGMa_NAP.tsv)."
   ]
  },
  {
   "cell_type": "markdown",
   "metadata": {},
   "source": [
    "## Export the SyGMa results for SIRIUS\n",
    "\n",
    "See the documentation to generate the SIRIUS [custom database here](https://boecker-lab.github.io/docs.sirius.github.io/cli-standalone/#custom-database-tool)."
   ]
  },
  {
   "cell_type": "code",
   "execution_count": 98,
   "metadata": {},
   "outputs": [],
   "source": [
    "export_for_SIRIUS('results_vm-NAP_SyGMa.tsv')"
   ]
  },
  {
   "cell_type": "markdown",
   "metadata": {},
   "source": [
    "Download the results for SIRIUS in the left side panel->\n",
    "['results_vm-NAP_SyGMa_SIRIUS.tsv'](./results_vm-NAP_SyGMa_SIRIUS.tsv?download=1)."
   ]
  },
  {
   "cell_type": "markdown",
   "metadata": {},
   "source": [
    "# B - Virtual metabolization with BioTransformer (slow)\n",
    "\n",
    "BioTransformer is a software tool that predicts small molecule metabolism in mammals, their gut microbiota, as well as the soil/aquatic microbiota. BioTransformer also assists scientists in metabolite identification, based on the metabolism prediction. More information from the paper [[https://doi.org/10.1186/s13321-018-0324-5](https://doi.org/10.1186/s13321-018-0324-5)] and [[https://bitbucket.org/djoumbou/biotransformerjar/src/master/](https://bitbucket.org/djoumbou/biotransformerjar/src/master/)].\n",
    "\n",
    "### Citation\n",
    "\n",
    "Djoumbou-Feunang, Y., Fiamoncini, J., Gil-de-la-Fuente, A. et al. [BioTransformer: a comprehensive computational tool for small molecule metabolism prediction and metabolite identification.](https://doi.org/10.1186/s13321-018-0324-5) J Cheminform 11, 2 (2019).\n",
    "\n",
    "### Install BioTransformer\n",
    "It requires `curl` and `java`."
   ]
  },
  {
   "cell_type": "code",
   "execution_count": 99,
   "metadata": {},
   "outputs": [
    {
     "name": "stdout",
     "output_type": "stream",
     "text": [
      "java version \"1.8.0_281\"\n",
      "Java(TM) SE Runtime Environment (build 1.8.0_281-b09)\n",
      "Java HotSpot(TM) 64-Bit Server VM (build 25.281-b09, mixed mode)\n",
      "  % Total    % Received % Xferd  Average Speed   Time    Time     Time  Current\n",
      "                                 Dload  Upload   Total   Spent    Left  Speed\n",
      "100 68.9M  100 68.9M    0     0  15.0M      0  0:00:04  0:00:04 --:--:-- 17.6M\n"
     ]
    }
   ],
   "source": [
    "!java -version\n",
    "!rm -r biotransformer.zip biotransformer/\n",
    "!curl https://bitbucket.org/djoumbou/biotransformerjar/get/f47aa4e3c0da.zip -o biotransformer.zip\n",
    "!unzip -q -d biotransformer biotransformer.zip\n",
    "!cp -r biotransformer/djoumbou-biotransformerjar-f47aa4e3c0da/. .\n",
    "!rm -r biotransformer.zip biotransformer/"
   ]
  },
  {
   "cell_type": "markdown",
   "metadata": {},
   "source": [
    "#### Specify the parameters of BioTransformer\n",
    "\n",
    "`type_of_biotransformation` : -b,--btType <BioTransformer Option> The type of description: Type of biotransformer - EC-based (ecbased), CYP450 (cyp450), Phase II (phaseII), Human gut microbial (hgut), human super transformer* (superbio, or allHuman), Environmental microbial (envimicro).\n",
    "\n",
    "`number_of_steps`  -s,--nsteps <Number of steps> The number of steps for the prediction. This option can be set by the user for the EC-based, CYP450, Phase II, and Environmental microbial biotransformers. The default value is 1."
   ]
  },
  {
   "cell_type": "code",
   "execution_count": 119,
   "metadata": {},
   "outputs": [
    {
     "name": "stdout",
     "output_type": "stream",
     "text": [
      "======== Running BioTransformer takes approximatively 3-5 compounds per minute ========\n",
      "     Number of compounds being computed =  57\n",
      "          BioTransformer candidates for compound n1 = 8\n",
      "          BioTransformer candidates for compound n2 = 8\n",
      "          BioTransformer candidates for compound n3 = 17\n",
      "          BioTransformer candidates for compound n4 = 17\n",
      "          BioTransformer candidates for compound n5 = 13\n",
      "          BioTransformer candidates for compound n6 = 8\n",
      "          BioTransformer candidates for compound n7 = 19\n",
      "          BioTransformer candidates for compound n8 = 14\n",
      "          BioTransformer candidates for compound n9 = 16\n",
      "          BioTransformer candidates for compound n10 = 19\n",
      "          BioTransformer candidates for compound n11 = 11\n",
      "          BioTransformer candidates for compound n12 = 2\n",
      "          BioTransformer candidates for compound n13 = 14\n",
      "          BioTransformer candidates for compound n14 = 14\n",
      "          BioTransformer candidates for compound n15 = 16\n",
      "          BioTransformer candidates for compound n16 = 18\n",
      "          BioTransformer candidates for compound n17 = 8\n",
      "          BioTransformer candidates for compound n18 = 16\n",
      "          BioTransformer candidates for compound n19 = 17\n",
      "          BioTransformer candidates for compound n20 = 16\n",
      "          BioTransformer candidates for compound n21 = 7\n",
      "          BioTransformer candidates for compound n22 = 10\n",
      "          BioTransformer candidates for compound n23 = 14\n",
      "          BioTransformer candidates for compound n24 = 16\n",
      "          BioTransformer candidates for compound n25 = 17\n",
      "          BioTransformer candidates for compound n26 = 14\n",
      "          BioTransformer candidates for compound n27 = 13\n",
      "          BioTransformer candidates for compound n28 = 21\n",
      "          BioTransformer candidates for compound n29 = 12\n",
      "          BioTransformer candidates for compound n30 = 4\n",
      "          BioTransformer candidates for compound n31 = 4\n",
      "          BioTransformer candidates for compound n32 = 22\n",
      "          BioTransformer candidates for compound n33 = 23\n",
      "          BioTransformer candidates for compound n34 = 16\n",
      "          BioTransformer candidates for compound n35 = 10\n",
      "          BioTransformer candidates for compound n36 = 4\n",
      "          BioTransformer candidates for compound n37 = 3\n",
      "          BioTransformer candidates for compound n38 = 8\n",
      "          BioTransformer candidates for compound n39 = 3\n",
      "          BioTransformer candidates for compound n40 = 5\n",
      "          BioTransformer candidates for compound n41 = 4\n",
      "          BioTransformer candidates for compound n42 = 13\n",
      "          BioTransformer candidates for compound n43 = 5\n",
      "          BioTransformer candidates for compound n44 = 6\n",
      "          BioTransformer candidates for compound n45 = 12\n",
      "          BioTransformer candidates for compound n46 = 2\n",
      "          BioTransformer candidates for compound n47 = 13\n",
      "          BioTransformer candidates for compound n48 = 6\n",
      "          BioTransformer candidates for compound n49 = 11\n",
      "          BioTransformer candidates for compound n50 = 27\n",
      "          BioTransformer candidates for compound n51 = 14\n",
      "          BioTransformer candidates for compound n52 = 7\n",
      "          BioTransformer candidates for compound n53 = 13\n",
      "          BioTransformer candidates for compound n54 = 5\n",
      "          BioTransformer candidates for compound n55 = 6\n",
      "          BioTransformer candidates for compound n56 = 17\n",
      "          BioTransformer candidates for compound n57 = 14\n",
      "===== COMPLETED =====\n",
      "Total number of BioTransformer candidates = 672\n"
     ]
    }
   ],
   "source": [
    "type_of_biotransformation = 'allHuman'\n",
    "number_of_steps = 1\n",
    "\n",
    "run_biotransformer(list_smiles,list_compound_name,type_of_biotransformation,number_of_steps,'results_vm-NAP_BioTransformer.tsv')"
   ]
  },
  {
   "cell_type": "markdown",
   "metadata": {},
   "source": [
    "Download the full BioTransformer results in the left side panel->\n",
    "['results_vm-NAP_BioTransformer.tsv'](./results_vm-NAP_BioTransformer.tsv)."
   ]
  },
  {
   "cell_type": "markdown",
   "metadata": {},
   "source": [
    "## Export the BioTransformer results for NAP\n",
    "\n",
    "See the documentation for custom database in [NAP](https://ccms-ucsd.github.io/GNPSDocumentation/nap/#structure-database) and how to run NAP on GNPS [https://ccms-ucsd.github.io/GNPSDocumentation/nap/#structure-database](https://ccms-ucsd.github.io/GNPSDocumentation/nap/#structure-database)."
   ]
  },
  {
   "cell_type": "code",
   "execution_count": 120,
   "metadata": {},
   "outputs": [],
   "source": [
    "export_for_NAP('results_vm-NAP_BioTransformer.tsv')"
   ]
  },
  {
   "cell_type": "markdown",
   "metadata": {},
   "source": [
    "Download the BioTransformer results for NAP in the left side panel->\n",
    "['results_vm-NAP_BioTransformer_NAP.tsv'](./results_vm-NAP_BioTransformer_NAP.tsv)."
   ]
  },
  {
   "cell_type": "markdown",
   "metadata": {},
   "source": [
    "## Export the BioTransformer results for SIRIUS\n",
    "\n",
    "See the documentation to generate the SIRIUS [custom database here](https://boecker-lab.github.io/docs.sirius.github.io/cli-standalone/#custom-database-tool)."
   ]
  },
  {
   "cell_type": "code",
   "execution_count": 121,
   "metadata": {},
   "outputs": [],
   "source": [
    "export_for_SIRIUS('results_vm-NAP_BioTransformer.tsv')"
   ]
  },
  {
   "cell_type": "markdown",
   "metadata": {},
   "source": [
    "Download the BioTransformer results for NAP in the left side panel->\n",
    "['results_vm-NAP_BioTransformer_SIRIUS.tsv'](./results_vm-NAP_BioTransformer_SIRIUS.tsv)."
   ]
  }
 ],
 "metadata": {
  "kernelspec": {
   "display_name": "Python 3",
   "language": "python",
   "name": "python3"
  },
  "language_info": {
   "codemirror_mode": {
    "name": "ipython",
    "version": 3
   },
   "file_extension": ".py",
   "mimetype": "text/x-python",
   "name": "python",
   "nbconvert_exporter": "python",
   "pygments_lexer": "ipython3",
   "version": "3.8.5"
  }
 },
 "nbformat": 4,
 "nbformat_minor": 4
}
