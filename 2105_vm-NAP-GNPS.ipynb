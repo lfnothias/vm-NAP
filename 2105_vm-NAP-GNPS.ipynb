{
 "cells": [
  {
   "cell_type": "markdown",
   "metadata": {},
   "source": [
    "# Virtually metabolize GNPS annotations and prepare for Network Annotation Propagation or SIRIUS\n",
    "\n",
    "Made by Louis-Felix Nothias (UC San Diego), louisfelix.nothias@gmail.com. Started in 2018 and improved in May 2021.\n",
    "\n",
    "This notebook downloads results of spectral annotations from classical or feature-based molecular networking job from GNPS [[http://gnps.ucsd.edu](http://gnps.ucsd.edu)] and generate virtual metabolites either with SyGMa or BioTransformer. The resulting candidates can be used for [Network Annotation Propagation](https://ccms-ucsd.github.io/GNPSDocumentation/nap/) on GNPS or with [SIRIUS](https://boecker-lab.github.io/docs.sirius.github.io/install/).\n",
    "\n",
    "> Start by running the cell below to initiate the libraries."
   ]
  },
  {
   "cell_type": "code",
   "execution_count": 2,
   "metadata": {},
   "outputs": [],
   "source": [
    "import pandas as pd\n",
    "import numpy as np\n",
    "import sygma\n",
    "from rdkit import Chem\n",
    "import os\n",
    "import sys\n",
    "from convert_structures import *\n",
    "from run_virtual_metabolization import *"
   ]
  },
  {
   "cell_type": "markdown",
   "metadata": {},
   "source": [
    "## Mandatory - Download annotation from the GNPS job\n",
    " \n",
    "> Replace the job ID from the GNPS molecular networking job in the URL in the cell below (line 3). We support both classical molecular networking and feature-based molecular networking (FBMN) jobs.\n",
    "\n",
    "You can try the classical MN job from that paper https://pubs.acs.org/doi/10.1021/acs.analchem.8b05854 with the ID `bbee697a63b1400ea585410fafc95723`. \n",
    "\n",
    "An other test job for feature-based molecular networking (FBMN) is `e78a8c8f429a46fcb24f3b34d69aff25`."
   ]
  },
  {
   "cell_type": "code",
   "execution_count": 3,
   "metadata": {},
   "outputs": [
    {
     "name": "stdout",
     "output_type": "stream",
     "text": [
      "  % Total    % Received % Xferd  Average Speed   Time    Time     Time  Current\n",
      "                                 Dload  Upload   Total   Spent    Left  Speed\n",
      "100 29.5M    0 29.5M    0     0  3186k      0 --:--:--  0:00:09 --:--:-- 3210k\n",
      "==================\n",
      "Downloading the GNPS job results\n",
      "==================\n",
      "Classical MN job detected\n",
      "==================\n",
      "Number of annotations = 200\n"
     ]
    }
   ],
   "source": [
    "!rm -r all_annotations.zip all_annotations/\n",
    "\n",
    "# Replace the job ID in the line below <<< ====\n",
    "!curl -d \"\" 'https://gnps.ucsd.edu/ProteoSAFe/DownloadResult?task=bbee697a63b1400ea585410fafc95723&view=view_all_annotations_DB' -o all_annotations.zip\n",
    "\n",
    "! unzip -q -d all_annotations/ all_annotations.zip\n",
    "print('==================')\n",
    "print('Downloading the GNPS job results')\n",
    "\n",
    "try :\n",
    "    path = [x for x in os.listdir('all_annotations/result_specnets_DB')][0]\n",
    "    df_annotations = pd.read_csv('all_annotations/result_specnets_DB/'+path, sep='\\t')\n",
    "    print('==================')\n",
    "    print('Classical MN job detected')\n",
    "    print('==================')\n",
    "    print('Number of annotations = '+str(df_annotations.shape[0]))\n",
    "except: \n",
    "    print('==================')\n",
    "    path = [x for x in os.listdir('all_annotations/DB_result')][0]\n",
    "    df_annotations = pd.read_csv('all_annotations/DB_result/'+path, sep='\\t')\n",
    "    print('==================')\n",
    "    print('FBMN job detected')\n",
    "    print('==================')\n",
    "    print('   Number of annotations in job = '+str(df_annotations.shape[0]))"
   ]
  },
  {
   "cell_type": "markdown",
   "metadata": {},
   "source": [
    "## Mandatory - Consolidating structures identifier\n",
    "\n",
    "> Run the cell below to have a complete set of Smiles and InChI for the annotations."
   ]
  },
  {
   "cell_type": "code",
   "execution_count": 4,
   "metadata": {},
   "outputs": [
    {
     "name": "stdout",
     "output_type": "stream",
     "text": [
      "Both SMILES and InChI were inputted\n",
      "Converting SMILES to mol object\n",
      "Succesfully converted to mol object: 110\n",
      "Exception to the parsing: 0\n",
      "Not available: 90\n",
      "Converting INCHI to mol object\n",
      "Succesfully converted to mol object: 104\n",
      "Exception to the parsing: 0\n",
      "Not available: 96\n",
      "Consolidating the lists\n",
      "Total mol object from the list 1 = 110\n",
      "Mol object consolidated from list 2 = 12\n",
      "Consolidated structures = 122\n",
      "Converting mol objects to SMILES iso\n",
      "Converting mol objects to SMILES\n",
      "Converting mol objects to InChI\n",
      "Converting mol objects to InChIKey\n",
      "End\n"
     ]
    }
   ],
   "source": [
    "consolidate_and_convert_structures(df_annotations,'GNPS_LIB_', smiles='Smiles', \\\n",
    "                                   inchi='INCHI')"
   ]
  },
  {
   "cell_type": "markdown",
   "metadata": {},
   "source": [
    "### Optional - Filter annotations based on compound name (skip otherwise)\n",
    "\n",
    "If you don't want to apply this filter, skipped the following optional cells\n",
    "\n",
    "##### Optional - Display compound name"
   ]
  },
  {
   "cell_type": "code",
   "execution_count": 5,
   "metadata": {
    "collapsed": true,
    "jupyter": {
     "outputs_hidden": true
    }
   },
   "outputs": [
    {
     "data": {
      "text/plain": [
       "['(+)-Catechin',\n",
       " '(-)-Catechin',\n",
       " '(-)-Secoisolariciresinol',\n",
       " '(.+/-.)-8-Hydroxy-5Z,9E,11Z,14Z,17Z-eicosapentaenoic acid',\n",
       " '.alpha.-Cyclodextrin',\n",
       " '.alpha.-Hexylcinnamaldehyde',\n",
       " '.alpha.-Ionone',\n",
       " '2-(Cyclohexylamino)ethanesulfonic acid',\n",
       " \"3,4'-Dimethoxy-2-hydroxychalcone\",\n",
       " '3-(2-Hydroxyphenyl)propionic acid',\n",
       " '3-Methoxycinnamic acid',\n",
       " '4-(4-Aminophenoxy)aniline',\n",
       " \"4-Hydroxy-4'-methyldiphenylamine\",\n",
       " '7-Oxocholesterol',\n",
       " 'B10A30 Faulkner legacy library looks like sterol or lipid needs to be verified',\n",
       " 'Benzalkonium chloride (C12)',\n",
       " 'Betulinic acid',\n",
       " 'Betulinic acid methyl ester',\n",
       " 'CocamidopropylBetaine',\n",
       " 'Conjugated linoleic Acid (10E,12Z)',\n",
       " 'Dimethyldioctadecylammonium cation',\n",
       " 'Dioctyl phthalate',\n",
       " 'Escitalopram Oxalate',\n",
       " 'Ethyl 3-hydroxybenzoate',\n",
       " 'Glycerol tricaprate',\n",
       " 'Glycerol tricaprylate',\n",
       " 'Isobergaptene',\n",
       " 'Isoxadifen-ethyl',\n",
       " 'Lauric acid diethanolamide',\n",
       " 'Lyso-PC(16:0)',\n",
       " 'MLS000028461-01!URSODEOXYCHOLIC ACID',\n",
       " 'MLS001332387-01!Chlorhexidine55-56-1',\n",
       " 'MLS002154090-01!Proguanil hydrochloride637-32-1',\n",
       " 'Massbank: Dextromethorphan',\n",
       " 'Massbank:EA019905 Trimethoprim|2,4-Diamino-5-(3,4,5-trimethoxybenzyl)pyrimidine|5-[(3,4,5-trimethoxyphenyl)methyl]pyrimidine-2,4-diamine',\n",
       " 'Massbank:EA066012 Galaxolidone|1,3,4,6,7,8-Hexahydro-4,6,6,7,8,8-hexamethylcyclopenta[g]-2-benzopyran-1-on',\n",
       " 'Massbank:EA280805 Mycophenolic acid| (E)-6-(4-hydroxy-3-keto-6-methoxy-7-methyl-phthalan-5-yl)-4-methyl-hex-4-enoic acid',\n",
       " 'Massbank:FIO00069 (-)-Epicatechin',\n",
       " 'Massbank:FIO00070 (-)-Epicatechin',\n",
       " 'Massbank:FIO00071 (-)-Epicatechin',\n",
       " \"Massbank:PR100263 (+)-Epicatechin|EpCt-pl|ent-Epicatechin|Epicatechol|(+)-3,3',4',5,7-Pentahydroxyflavan\",\n",
       " 'Massbank:UF411701 Acetyl-sulfamethoxazole|N-[4-[(5-methyl-1,2-oxazol-3-yl)sulfamoyl]phenyl]acetamide',\n",
       " 'Massbank:UF416901 Triethyl citrate|triethyl 2-hydroxypropane-1,2,3-tricarboxylate',\n",
       " 'MoNA:585772 [(2R)-2-ethylhexyl] 2-cyano-3,3-diphenylprop-2-enoate',\n",
       " 'MoNA:586455 [(2R)-2-ethylhexyl] 2-cyano-3,3-diphenylprop-2-enoate',\n",
       " 'MoNA:594132 Octocrylene',\n",
       " 'MoNA:788880 Gabapentin Related Compound E',\n",
       " 'Mycophenolate mofetil (CellCept)',\n",
       " 'N-Palmitoyl-D-sphingosine',\n",
       " 'NCGC00094872-09_C17H19NO3_(2E,4E)-5-(1,3-Benzodioxol-5-yl)-1-(1-piperidinyl)-2,4-pentadien-1-one',\n",
       " 'NCGC00168814-02!(2R,3S,4S,5R,6S)-2-(hydroxymethyl)-6-(3,4,5-trimethoxyphenoxy)oxane-3,4,5-triol',\n",
       " 'NCGC00168965-02_C21H32O11_beta-D-Glucopyranoside, 3-(4-hydroxyphenyl)-1-methylpropyl 6-O-[(2S,3R,4R)-tetrahydro-3,4-dihydroxy-4-(hydroxymethyl)-2-furanyl]-',\n",
       " 'NCGC00169491-03_C19H30O8_2-Cyclohexen-1-one, 4-[(1E)-3-(beta-D-glucopyranosyloxy)-1-buten-1-yl]-4-hydroxy-3,5,5-trimethyl-, (4S)-',\n",
       " 'NCGC00169670-02!(2S,3R,4S,5S,6R)-2-[4-[(3S,3aR,6S,6aR)-3-(4-hydroxy-3,5-dimethoxyphenyl)-1,3,3a,4,6,6a-hexahydrofuro[3,4-c]furan-6-yl]-2,6-dimethoxyphenoxy]-6-(hydroxymethyl)oxane-3,4,5-triol',\n",
       " 'NCGC00169963-02_C15H26O_(3,3,7-Trimethyltricyclo[5.4.0.0~2,9~]undec-8-yl)methanol',\n",
       " 'NCGC00179791-03!1,7-bis(4-hydroxyphenyl)-5-[(2R,3R,4S,5S,6R)-3,4,5-trihydroxy-6-(hydroxymethyl)oxan-2-yl]oxyheptan-3-one',\n",
       " 'NCGC00180025-03!(2R,3S,4S,5R,6S)-2-[[(2S,3R,4R)-3,4-dihydroxy-4-(hydroxymethyl)oxolan-2-yl]oxymethyl]-6-(3,4,5-trimethoxyphenoxy)oxane-3,4,5-triol',\n",
       " 'NCGC00180141-02!2-[[7-hydroxy-1-(4-hydroxy-3,5-dimethoxyphenyl)-3-(hydroxymethyl)-6,8-dimethoxy-1,2,3,4-tetrahydronaphthalen-2-yl]methoxy]-6-(hydroxymethyl)oxane-3,4,5-triol',\n",
       " 'NCGC00180666-02!(2R,3S,4S,5R,6S)-2-[(3,4,5-trihydroxyoxan-2-yl)oxymethyl]-6-(3,4,5-trimethoxyphenoxy)oxane-3,4,5-triol',\n",
       " 'NCGC00186665-03!2,3-dihydroxypropyl hexadecanoate',\n",
       " 'NCGC00347390-02!(2R,3S)-7-[(2S,3R,4R,5S)-3,4-dihydroxy-5-(hydroxymethyl)oxolan-2-yl]oxy-2-(3,4-dihydroxyphenyl)-3,4-dihydro-2H-chromene-3,5-diol',\n",
       " 'NCGC00347403-02_C30H42O12_1,7-Bis(4-hydroxyphenyl)-3-heptanyl 6-O-[(2S,3R,4R)-3,4-dihydroxy-4-(hydroxymethyl)tetrahydro-2-furanyl]-beta-D-glucopyranoside',\n",
       " 'NCGC00347704-02_C24H32O7_2H-Oxireno[1,10a]phenanthro[3,2-b]furan-10(11bH)-one, 5,7-bis(acetyloxy)-3,3a,4,5,6,7,7a,7b,8,8a-decahydro-4,4,7a,11-tetramethyl-, (1aS,3aR,5S,7S,7aR,7bS,8aR,11bR)-',\n",
       " 'NCGC00380723-01!(2S,3R,4S,5S,6R)-2-[4-[(3S,3aR,6S,6aR)-6-[3,5-dimethoxy-4-[(2S,3R,4S,5S,6R)-3,4,5-trihydroxy-6-(hydroxymethyl)oxan-2-yl]oxyphenyl]-1,3,3a,4,6,6a-hexahydrofuro[3,4-c]furan-3-yl]-2,6-dimethoxyphenoxy]-6-(hydroxymethyl)oxane-3,4,5-triol',\n",
       " 'NCGC00380746-01!1,7-bis(4-hydroxyphenyl)heptane-3,5-diol',\n",
       " 'NCGC00385123-01_C22H30O6_7b,9-Dihydroxy-3-(hydroxymethyl)-1,1,6,8-tetramethyl-5-oxo-1,1a,1b,4,4a,5,7a,7b,8,9-decahydro-9aH-cyclopropa[3,4]benzo[1,2-e]azulen-9a-yl acetate',\n",
       " 'NCGC00385199-01!2-[3,4-bis[[(2S,3R,4S,5S,6R)-3,4,5-trihydroxy-6-(hydroxymethyl)oxan-2-yl]oxy]phenyl]-5,7-dihydroxychromen-4-one',\n",
       " 'NCGC00385223-01!(2R,3S)-7-[(2S,3R,4R)-3,4-dihydroxy-4-(hydroxymethyl)oxolan-2-yl]oxy-2-(3,4-dihydroxyphenyl)-3,4-dihydro-2H-chromene-3,5-diol',\n",
       " 'NCGC00385412-01_C21H32O10_2,4-Pentadienoic acid, 5-[(1R,3S,5R,8S)-3-(beta-D-glucopyranosyloxy)-8-hydroxy-1,5-dimethyl-6-oxabicyclo[3.2.1]oct-8-yl]-3-methyl-, (2Z,4E)-',\n",
       " 'NCGC00385785-01!(2R,3R,4S,5S,6R)-2-[[2-(3,4-dihydroxyphenyl)-5,7-dihydroxy-3,4-dihydro-2H-chromen-3-yl]oxy]-6-(hydroxymethyl)oxane-3,4,5-triol',\n",
       " 'NCGC00385811-01!6-[3-[(3,4-dimethoxyphenyl)methyl]-4-methoxy-2-(methoxymethyl)butyl]-4-methoxy-1,3-benzodioxole',\n",
       " 'Octocrylene',\n",
       " 'Procyanidin B2',\n",
       " 'Sorbitane Monooleate - Polysorbate 80 in-source fragment',\n",
       " 'Sorbitane Monopalmitate - Polysorbate 40 in-source fragment',\n",
       " 'Sorbitane Monostearate - Polysorbate 60 in-source fragment',\n",
       " 'Spectral Match to (+)-Catechin from NIST14',\n",
       " 'Spectral Match to (-)-Epicatechin from NIST14',\n",
       " 'Spectral Match to 1-Hexadecanoyl-sn-glycerol from NIST14',\n",
       " 'Spectral Match to 2-Hydroxy-4-methoxybenzophenone from NIST14',\n",
       " \"Spectral Match to 4-Hydroxy-4'-methyldiphenylamine from NIST14\",\n",
       " 'Spectral Match to Abrine from NIST14',\n",
       " 'Spectral Match to Avobenzone from NIST14',\n",
       " 'Spectral Match to Benadryl from NIST14',\n",
       " 'Spectral Match to Chlorhexidine from NIST14',\n",
       " 'Spectral Match to D-erythro-C18-Sphingosine from NIST14',\n",
       " 'Spectral Match to Decaethylene glycol from NIST14',\n",
       " 'Spectral Match to Dibutyl phthalate from NIST14',\n",
       " 'Spectral Match to Diethyl phthalate from NIST14',\n",
       " 'Spectral Match to Dioctyl phthalate from NIST14',\n",
       " 'Spectral Match to Dioctyl sulfosuccinate from NIST14',\n",
       " 'Spectral Match to Glycocholic acid from NIST14',\n",
       " 'Spectral Match to L-Tryptophan from NIST14',\n",
       " 'Spectral Match to Lyso-PC(16:0) from NIST14',\n",
       " 'Spectral Match to N-Lauroylsarcosine from NIST14',\n",
       " 'Spectral Match to Nonaethylene glycol from NIST14',\n",
       " 'Spectral Match to Pinolenic acid from NIST14',\n",
       " 'Spectral Match to Procyanidin B2 from NIST14',\n",
       " 'Spectral Match to Sulfamethizole from NIST14',\n",
       " 'Spectral Match to Timolol from NIST14',\n",
       " 'Spectral Match to Triphenyl phosphate from NIST14',\n",
       " 'Spectral Match to Tris(2-butoxyethyl) phosphate from NIST14',\n",
       " 'Spectral Match to Tyr-Pro from NIST14',\n",
       " 'Spectral Match to Undecaethylene glycol from NIST14',\n",
       " 'Sulfachloropyridazine',\n",
       " 'Sulfamethoxazole',\n",
       " 'Syringaldehyde',\n",
       " 'Syringic acid']"
      ]
     },
     "execution_count": 5,
     "metadata": {},
     "output_type": "execute_result"
    }
   ],
   "source": [
    "list_compounds = set(df_annotations['Compound_Name'])\n",
    "list_compounds_sorted = sorted(list_compounds)\n",
    "list_compounds_sorted"
   ]
  },
  {
   "cell_type": "markdown",
   "metadata": {},
   "source": [
    "##### Optional - Select compound name to keep\n",
    "\n",
    "Replace the compound names in the list `compound_name_to_keep`\n"
   ]
  },
  {
   "cell_type": "code",
   "execution_count": 6,
   "metadata": {},
   "outputs": [
    {
     "name": "stdout",
     "output_type": "stream",
     "text": [
      "Number of annotations after compound name filtering = 13\n"
     ]
    }
   ],
   "source": [
    "compound_name_to_keep = ['Isobergaptene','Isoxadifen-ethyl','Lauric acid diethanolamide','Lyso-PC(16:0)',\n",
    "                         'MLS000028461-01!URSODEOXYCHOLIC ACID','MLS001332387-01!Chlorhexidine55-56-1','MLS002154090-01!Proguanil hydrochloride637-32-1'\n",
    "                        ]\n",
    "df_annotations = df_annotations[df_annotations.Compound_Name.isin(compound_name_to_keep)]\n",
    "print('Number of annotations after compound name filtering = '+str(df_annotations.shape[0]))"
   ]
  },
  {
   "cell_type": "markdown",
   "metadata": {},
   "source": [
    "### Optional - Filter annotations based on tags (skip otherwise)\n",
    "\n",
    "If you don't want to apply this filter, skipped the following cells\n",
    "\n",
    "##### Optional - Display tags in the annotations"
   ]
  },
  {
   "cell_type": "code",
   "execution_count": 6,
   "metadata": {},
   "outputs": [
    {
     "data": {
      "text/plain": [
       "{' ', 'Antibiotic[Drug Class]'}"
      ]
     },
     "execution_count": 6,
     "metadata": {},
     "output_type": "execute_result"
    }
   ],
   "source": [
    "set(df_annotations['tags'])"
   ]
  },
  {
   "cell_type": "markdown",
   "metadata": {},
   "source": [
    "##### Optional - Select tags to keep\n",
    "\n",
    "Specify the tags in the list `tags_to_keep`"
   ]
  },
  {
   "cell_type": "code",
   "execution_count": 137,
   "metadata": {},
   "outputs": [
    {
     "name": "stdout",
     "output_type": "stream",
     "text": [
      "Number of annotations after compound name filtering = 1\n"
     ]
    }
   ],
   "source": [
    "tags_to_keep = ['Antibiotic[Drug Class]','other_tag_here']\n",
    "df_annotations = df_annotations[df_annotations.tags.isin(tags_to_keep)]\n",
    "print('Number of annotations after compound name filtering = '+str(df_annotations.shape[0]))"
   ]
  },
  {
   "cell_type": "markdown",
   "metadata": {},
   "source": [
    "## Mandatory - Choose between planar or stereochemical SMILES"
   ]
  },
  {
   "cell_type": "markdown",
   "metadata": {},
   "source": [
    "### [RECOMMENDED] Use the planar SMILES for in silico metabolization (no stereochemistry specified)\n",
    "\n",
    "Run the cell below to use planar isomers and ignore the cell after."
   ]
  },
  {
   "cell_type": "code",
   "execution_count": 7,
   "metadata": {},
   "outputs": [
    {
     "name": "stdout",
     "output_type": "stream",
     "text": [
      "Number of unique Compound Name = 6\n",
      "Number of unique SMILES = 6\n"
     ]
    }
   ],
   "source": [
    "df_annotations = df_annotations[df_annotations.GNPS_LIB_Consol_SMILES_iso.str.contains('nan') == False]\n",
    "\n",
    "df_annotations = df_annotations.sort_values(by=['MQScore'], ascending=False)\n",
    "df_annotations_unique = df_annotations.drop_duplicates(subset='GNPS_LIB_Consol_SMILES_iso', keep='first')\n",
    "\n",
    "list_compound_name = list(df_annotations_unique['Compound_Name'])\n",
    "list_smiles = list(df_annotations_unique['GNPS_LIB_Consol_SMILES_iso'])\n",
    "print('Number of unique Compound Name = '+str(len(list_compound_name)))\n",
    "print('Number of unique SMILES = '+str(len(list_smiles)))"
   ]
  },
  {
   "cell_type": "markdown",
   "metadata": {},
   "source": [
    "### [Skip the cell below] or instead use the stereochemical SMILES for virtual metabolization [Skip otherwise]\n",
    "Run the cell below to use all the stereoisomers detected."
   ]
  },
  {
   "cell_type": "code",
   "execution_count": 8,
   "metadata": {},
   "outputs": [
    {
     "name": "stdout",
     "output_type": "stream",
     "text": [
      "Number of unique Compound Name = 6\n",
      "Number of unique SMILES = 6\n"
     ]
    }
   ],
   "source": [
    "df_annotations = df_annotations[df_annotations.GNPS_LIB_Consol_SMILES.str.contains('nan') == False]\n",
    "\n",
    "df_annotations = df_annotations.sort_values(by=['MQScore'], ascending=False)\n",
    "df_annotations_unique = df_annotations.drop_duplicates(subset='GNPS_LIB_Consol_SMILES', keep='first')\n",
    "\n",
    "list_compound_name = list(df_annotations_unique['Compound_Name'])\n",
    "list_smiles = list(df_annotations_unique['GNPS_LIB_Consol_SMILES'])\n",
    "print('Number of unique Compound Name = '+str(len(list_compound_name)))\n",
    "print('Number of unique SMILES = '+str(len(list_smiles)))"
   ]
  },
  {
   "cell_type": "markdown",
   "metadata": {},
   "source": [
    "# Mandatory - Choose between SyGMa (A) or BioTransformer (B) for virtual metabolization\n",
    "\n",
    "#### A - SyGMa generates specifically human biotransformation of phase 1 and/or 2. \n",
    "It takes generally couple minutes to compute. More informations from the paper (https://doi.org/10.1002/cmdc.200700312).\n",
    "\n",
    "#### B - BioTransformer generates biotransformation in mammals, their gut microbiota, as well as the soil/aquatic microbiota. \n",
    "It takes more time to compute. More information from the paper ([https://doi.org/10.1186/s13321-018-0324-5](https://doi.org/10.1186/s13321-018-0324-5))."
   ]
  },
  {
   "cell_type": "markdown",
   "metadata": {},
   "source": [
    "# A - Virtual metabolization with SyGMa\n",
    "\n",
    "SyGMa is a python library for the Systematic Generation of potential Metabolites. See [SyGMa: combining expert knowledge and empirical scoring in the prediction of metabolites](https://doi.org/10.1002/cmdc.200700312) and [https://github.com/3D-e-Chem/sygma](https://github.com/3D-e-Chem/sygma).\n",
    "\n",
    "Please cite their work:\n",
    "Ridder, L., & Wagener, M. (2008) [SyGMa: combining expert knowledge and empirical scoring in the prediction of metabolites](https://doi.org/10.1002/cmdc.200700312). ChemMedChem, 3(5), 821-832.\n",
    "\n",
    "\n",
    "### IMPORTANT\n",
    "> Define the ruleset and the number of phase 1/2 reaction cyles to apply in the SyGMA scenario. For example 2 cycles for phase 1 `phase_1_cycle = 2`\n",
    "\n",
    "> Define the maximum number of SyGMa candidates outputted (consider the number of reaction cycles). Suggested value `top_sygma_candidates = 15`\n",
    "\n",
    "> Run SyGMa."
   ]
  },
  {
   "cell_type": "code",
   "execution_count": 8,
   "metadata": {},
   "outputs": [],
   "source": [
    "# Define the number of cycles\n",
    "phase_1_cycle = 1\n",
    "phase_2_cycle = 1 \n",
    "\n",
    "#Max number of top metabolites predicted \n",
    "top_sygma_candidates = 15"
   ]
  },
  {
   "cell_type": "markdown",
   "metadata": {},
   "source": [
    "### Run the cell below for running SyGMa"
   ]
  },
  {
   "cell_type": "code",
   "execution_count": 9,
   "metadata": {
    "collapsed": true,
    "jupyter": {
     "outputs_hidden": true
    }
   },
   "outputs": [
    {
     "name": "stderr",
     "output_type": "stream",
     "text": [
      "RDKit WARNING: [16:41:23] WARNING: Omitted undefined stereo\n",
      "RDKit WARNING: [16:41:23] WARNING: Omitted undefined stereo\n",
      "RDKit WARNING: [16:41:23] WARNING: Omitted undefined stereo\n",
      "RDKit WARNING: [16:41:23] WARNING: Omitted undefined stereo\n",
      "RDKit WARNING: [16:41:23] WARNING: Omitted undefined stereo\n",
      "RDKit WARNING: [16:41:23] WARNING: Omitted undefined stereo\n",
      "RDKit WARNING: [16:41:23] WARNING: Omitted undefined stereo\n",
      "RDKit WARNING: [16:41:23] WARNING: Omitted undefined stereo\n",
      "RDKit WARNING: [16:41:23] WARNING: Omitted undefined stereo\n",
      "RDKit WARNING: [16:41:23] WARNING: Omitted undefined stereo\n",
      "RDKit WARNING: [16:41:23] WARNING: Omitted undefined stereo\n",
      "RDKit WARNING: [16:41:23] WARNING: Omitted undefined stereo\n",
      "RDKit WARNING: [16:41:23] WARNING: Omitted undefined stereo\n",
      "RDKit WARNING: [16:41:23] WARNING: Omitted undefined stereo\n",
      "RDKit WARNING: [16:41:23] WARNING: Omitted undefined stereo\n",
      "RDKit WARNING: [16:41:23] WARNING: Omitted undefined stereo\n",
      "RDKit WARNING: [16:41:23] WARNING: Omitted undefined stereo\n",
      "RDKit WARNING: [16:41:23] WARNING: Omitted undefined stereo\n",
      "RDKit WARNING: [16:41:23] WARNING: Omitted undefined stereo\n",
      "RDKit WARNING: [16:41:23] WARNING: Omitted undefined stereo\n",
      "RDKit WARNING: [16:41:23] WARNING: Omitted undefined stereo\n",
      "RDKit WARNING: [16:41:23] WARNING: Omitted undefined stereo\n",
      "RDKit WARNING: [16:41:23] WARNING: Omitted undefined stereo\n",
      "RDKit WARNING: [16:41:23] WARNING: Omitted undefined stereo\n",
      "RDKit WARNING: [16:41:23] WARNING: Omitted undefined stereo\n",
      "RDKit WARNING: [16:41:23] WARNING: Omitted undefined stereo\n",
      "RDKit WARNING: [16:41:23] WARNING: Omitted undefined stereo\n",
      "RDKit WARNING: [16:41:23] WARNING: Omitted undefined stereo\n",
      "RDKit WARNING: [16:41:23] WARNING: Omitted undefined stereo\n",
      "RDKit WARNING: [16:41:23] WARNING: Omitted undefined stereo\n",
      "RDKit WARNING: [16:41:23] WARNING: Omitted undefined stereo\n",
      "RDKit WARNING: [16:41:23] WARNING: Omitted undefined stereo\n",
      "RDKit WARNING: [16:41:23] WARNING: Omitted undefined stereo\n",
      "RDKit WARNING: [16:41:23] WARNING: Omitted undefined stereo\n",
      "RDKit WARNING: [16:41:23] WARNING: Omitted undefined stereo\n",
      "RDKit WARNING: [16:41:23] WARNING: Omitted undefined stereo\n",
      "RDKit WARNING: [16:41:41] WARNING: Omitted undefined stereo\n",
      "RDKit WARNING: [16:41:41] WARNING: Omitted undefined stereo\n",
      "RDKit WARNING: [16:41:41] WARNING: Omitted undefined stereo\n",
      "RDKit WARNING: [16:41:41] WARNING: Omitted undefined stereo\n",
      "RDKit WARNING: [16:41:41] WARNING: Omitted undefined stereo\n",
      "RDKit WARNING: [16:41:41] WARNING: Omitted undefined stereo\n",
      "RDKit WARNING: [16:41:41] WARNING: Omitted undefined stereo\n",
      "RDKit WARNING: [16:41:41] WARNING: Omitted undefined stereo\n",
      "RDKit WARNING: [16:41:41] WARNING: Omitted undefined stereo\n",
      "RDKit WARNING: [16:41:41] WARNING: Omitted undefined stereo\n",
      "RDKit WARNING: [16:41:41] WARNING: Omitted undefined stereo\n",
      "RDKit WARNING: [16:41:41] WARNING: Omitted undefined stereo\n",
      "RDKit WARNING: [16:41:41] WARNING: Omitted undefined stereo\n",
      "RDKit WARNING: [16:41:41] WARNING: Omitted undefined stereo\n",
      "RDKit WARNING: [16:41:41] WARNING: Omitted undefined stereo\n",
      "RDKit WARNING: [16:41:41] WARNING: Omitted undefined stereo\n",
      "RDKit WARNING: [16:41:41] WARNING: Omitted undefined stereo\n",
      "RDKit WARNING: [16:41:41] WARNING: Omitted undefined stereo\n",
      "RDKit WARNING: [16:41:41] WARNING: Omitted undefined stereo\n",
      "RDKit WARNING: [16:41:41] WARNING: Omitted undefined stereo\n",
      "RDKit WARNING: [16:41:41] WARNING: Omitted undefined stereo\n",
      "RDKit WARNING: [16:41:41] WARNING: Omitted undefined stereo\n",
      "RDKit WARNING: [16:41:41] WARNING: Omitted undefined stereo\n",
      "RDKit WARNING: [16:41:41] WARNING: Omitted undefined stereo\n",
      "RDKit WARNING: [16:41:41] WARNING: Omitted undefined stereo\n",
      "RDKit WARNING: [16:41:41] WARNING: Omitted undefined stereo\n",
      "RDKit WARNING: [16:41:41] WARNING: Omitted undefined stereo\n",
      "RDKit WARNING: [16:41:41] WARNING: Omitted undefined stereo\n",
      "RDKit WARNING: [16:41:41] WARNING: Omitted undefined stereo\n",
      "RDKit WARNING: [16:41:41] WARNING: Omitted undefined stereo\n",
      "RDKit WARNING: [16:41:41] WARNING: Omitted undefined stereo\n",
      "RDKit WARNING: [16:41:41] WARNING: Omitted undefined stereo\n",
      "RDKit WARNING: [16:41:41] WARNING: Omitted undefined stereo\n",
      "RDKit WARNING: [16:41:41] WARNING: Omitted undefined stereo\n",
      "RDKit WARNING: [16:41:41] WARNING: Omitted undefined stereo\n",
      "RDKit WARNING: [16:41:41] WARNING: Omitted undefined stereo\n",
      "RDKit WARNING: [16:41:41] WARNING: Omitted undefined stereo\n",
      "RDKit WARNING: [16:41:41] WARNING: Omitted undefined stereo\n",
      "RDKit WARNING: [16:41:41] WARNING: Omitted undefined stereo\n",
      "RDKit WARNING: [16:41:41] WARNING: Omitted undefined stereo\n",
      "RDKit WARNING: [16:41:41] WARNING: Omitted undefined stereo\n",
      "RDKit WARNING: [16:41:41] WARNING: Omitted undefined stereo\n",
      "RDKit WARNING: [16:41:41] WARNING: Omitted undefined stereo\n",
      "RDKit WARNING: [16:41:41] WARNING: Omitted undefined stereo\n",
      "RDKit WARNING: [16:41:41] WARNING: Omitted undefined stereo\n",
      "RDKit WARNING: [16:41:41] WARNING: Omitted undefined stereo\n",
      "RDKit WARNING: [16:41:41] WARNING: Omitted undefined stereo\n",
      "RDKit WARNING: [16:41:41] WARNING: Omitted undefined stereo\n",
      "RDKit WARNING: [16:41:41] WARNING: Omitted undefined stereo\n",
      "RDKit WARNING: [16:41:41] WARNING: Omitted undefined stereo\n",
      "RDKit WARNING: [16:41:41] WARNING: Omitted undefined stereo\n",
      "RDKit WARNING: [16:41:41] WARNING: Omitted undefined stereo\n",
      "RDKit WARNING: [16:41:41] WARNING: Omitted undefined stereo\n",
      "RDKit WARNING: [16:41:41] WARNING: Omitted undefined stereo\n",
      "RDKit WARNING: [16:41:41] WARNING: Omitted undefined stereo\n",
      "RDKit WARNING: [16:41:41] WARNING: Omitted undefined stereo\n",
      "RDKit WARNING: [16:41:41] WARNING: Omitted undefined stereo\n",
      "RDKit WARNING: [16:41:41] WARNING: Omitted undefined stereo\n",
      "RDKit WARNING: [16:41:41] WARNING: Omitted undefined stereo\n",
      "RDKit WARNING: [16:41:41] WARNING: Omitted undefined stereo\n",
      "RDKit WARNING: [16:41:41] WARNING: Omitted undefined stereo\n",
      "RDKit WARNING: [16:41:41] WARNING: Omitted undefined stereo\n",
      "RDKit WARNING: [16:41:41] WARNING: Omitted undefined stereo\n",
      "RDKit WARNING: [16:41:41] WARNING: Omitted undefined stereo\n",
      "RDKit WARNING: [16:41:41] WARNING: Omitted undefined stereo\n",
      "RDKit WARNING: [16:41:41] WARNING: Omitted undefined stereo\n",
      "RDKit WARNING: [16:41:41] WARNING: Omitted undefined stereo\n",
      "RDKit WARNING: [16:41:41] WARNING: Omitted undefined stereo\n",
      "RDKit WARNING: [16:41:41] WARNING: Omitted undefined stereo\n",
      "RDKit WARNING: [16:41:41] WARNING: Omitted undefined stereo\n",
      "RDKit WARNING: [16:41:41] WARNING: Omitted undefined stereo\n",
      "RDKit WARNING: [16:41:41] WARNING: Omitted undefined stereo\n",
      "RDKit WARNING: [16:41:41] WARNING: Omitted undefined stereo\n",
      "RDKit WARNING: [16:41:41] WARNING: Omitted undefined stereo\n",
      "RDKit WARNING: [16:41:41] WARNING: Omitted undefined stereo\n",
      "RDKit WARNING: [16:41:41] WARNING: Omitted undefined stereo\n",
      "RDKit WARNING: [16:41:41] WARNING: Omitted undefined stereo\n",
      "RDKit WARNING: [16:41:41] WARNING: Omitted undefined stereo\n",
      "RDKit WARNING: [16:41:41] WARNING: Omitted undefined stereo\n",
      "RDKit WARNING: [16:41:41] WARNING: Omitted undefined stereo\n",
      "RDKit WARNING: [16:41:41] WARNING: Omitted undefined stereo\n",
      "RDKit WARNING: [16:41:41] WARNING: Omitted undefined stereo\n",
      "RDKit WARNING: [16:41:41] WARNING: Omitted undefined stereo\n",
      "RDKit WARNING: [16:41:41] WARNING: Omitted undefined stereo\n",
      "RDKit WARNING: [16:41:41] WARNING: Omitted undefined stereo\n",
      "RDKit WARNING: [16:41:41] WARNING: Omitted undefined stereo\n",
      "RDKit WARNING: [16:41:41] WARNING: Omitted undefined stereo\n",
      "RDKit WARNING: [16:41:41] WARNING: Omitted undefined stereo\n",
      "RDKit WARNING: [16:41:41] WARNING: Omitted undefined stereo\n",
      "RDKit WARNING: [16:41:41] WARNING: Omitted undefined stereo\n",
      "RDKit WARNING: [16:41:41] WARNING: Omitted undefined stereo\n",
      "RDKit WARNING: [16:41:41] WARNING: Omitted undefined stereo\n",
      "RDKit WARNING: [16:41:41] WARNING: Omitted undefined stereo\n",
      "RDKit WARNING: [16:41:41] WARNING: Omitted undefined stereo\n",
      "RDKit WARNING: [16:41:41] WARNING: Omitted undefined stereo\n",
      "RDKit WARNING: [16:41:41] WARNING: Omitted undefined stereo\n",
      "RDKit WARNING: [16:41:41] WARNING: Omitted undefined stereo\n",
      "RDKit WARNING: [16:41:41] WARNING: Omitted undefined stereo\n",
      "RDKit WARNING: [16:41:41] WARNING: Omitted undefined stereo\n",
      "RDKit WARNING: [16:41:41] WARNING: Omitted undefined stereo\n",
      "RDKit WARNING: [16:41:41] WARNING: Omitted undefined stereo\n",
      "RDKit WARNING: [16:41:41] WARNING: Omitted undefined stereo\n",
      "RDKit WARNING: [16:41:41] WARNING: Omitted undefined stereo\n",
      "RDKit WARNING: [16:41:41] WARNING: Omitted undefined stereo\n",
      "RDKit WARNING: [16:41:41] WARNING: Omitted undefined stereo\n",
      "RDKit WARNING: [16:41:41] WARNING: Omitted undefined stereo\n",
      "RDKit WARNING: [16:41:41] WARNING: Omitted undefined stereo\n",
      "RDKit WARNING: [16:41:41] WARNING: Omitted undefined stereo\n",
      "RDKit WARNING: [16:41:41] WARNING: Omitted undefined stereo\n",
      "RDKit WARNING: [16:41:41] WARNING: Omitted undefined stereo\n",
      "RDKit WARNING: [16:41:41] WARNING: Omitted undefined stereo\n",
      "RDKit WARNING: [16:41:41] WARNING: Omitted undefined stereo\n",
      "RDKit WARNING: [16:41:41] WARNING: Omitted undefined stereo\n",
      "RDKit WARNING: [16:41:41] WARNING: Omitted undefined stereo\n",
      "RDKit WARNING: [16:41:41] WARNING: Omitted undefined stereo\n",
      "RDKit WARNING: [16:41:41] WARNING: Omitted undefined stereo\n",
      "RDKit WARNING: [16:41:41] WARNING: Omitted undefined stereo\n",
      "RDKit WARNING: [16:41:41] WARNING: Omitted undefined stereo\n",
      "RDKit WARNING: [16:41:41] WARNING: Omitted undefined stereo\n",
      "RDKit WARNING: [16:41:41] WARNING: Omitted undefined stereo\n",
      "RDKit WARNING: [16:41:41] WARNING: Omitted undefined stereo\n",
      "RDKit WARNING: [16:41:41] WARNING: Omitted undefined stereo\n",
      "RDKit WARNING: [16:41:41] WARNING: Omitted undefined stereo\n",
      "RDKit WARNING: [16:41:41] WARNING: Omitted undefined stereo\n",
      "RDKit WARNING: [16:41:41] WARNING: Omitted undefined stereo\n",
      "RDKit WARNING: [16:41:41] WARNING: Omitted undefined stereo\n",
      "RDKit WARNING: [16:41:41] WARNING: Omitted undefined stereo\n",
      "RDKit WARNING: [16:41:41] WARNING: Omitted undefined stereo\n",
      "RDKit WARNING: [16:41:41] WARNING: Omitted undefined stereo\n",
      "RDKit WARNING: [16:41:41] WARNING: Omitted undefined stereo\n",
      "RDKit WARNING: [16:41:41] WARNING: Omitted undefined stereo\n",
      "RDKit WARNING: [16:41:41] WARNING: Omitted undefined stereo\n",
      "RDKit WARNING: [16:41:41] WARNING: Omitted undefined stereo\n",
      "RDKit WARNING: [16:41:41] WARNING: Omitted undefined stereo\n",
      "RDKit WARNING: [16:41:41] WARNING: Omitted undefined stereo\n",
      "RDKit WARNING: [16:41:41] WARNING: Omitted undefined stereo\n",
      "RDKit WARNING: [16:41:41] WARNING: Omitted undefined stereo\n",
      "RDKit WARNING: [16:41:41] WARNING: Omitted undefined stereo\n",
      "RDKit WARNING: [16:41:41] WARNING: Omitted undefined stereo\n",
      "RDKit WARNING: [16:41:41] WARNING: Omitted undefined stereo\n",
      "RDKit WARNING: [16:41:41] WARNING: Omitted undefined stereo\n",
      "RDKit WARNING: [16:41:41] WARNING: Omitted undefined stereo\n",
      "RDKit WARNING: [16:41:41] WARNING: Omitted undefined stereo\n",
      "RDKit WARNING: [16:41:41] WARNING: Omitted undefined stereo\n",
      "RDKit WARNING: [16:41:41] WARNING: Omitted undefined stereo\n",
      "RDKit WARNING: [16:41:41] WARNING: Omitted undefined stereo\n",
      "RDKit WARNING: [16:41:41] WARNING: Omitted undefined stereo\n",
      "RDKit WARNING: [16:41:41] WARNING: Omitted undefined stereo\n",
      "RDKit WARNING: [16:41:41] WARNING: Omitted undefined stereo\n",
      "RDKit WARNING: [16:41:41] WARNING: Omitted undefined stereo\n",
      "RDKit WARNING: [16:41:41] WARNING: Omitted undefined stereo\n",
      "RDKit WARNING: [16:41:41] WARNING: Omitted undefined stereo\n",
      "RDKit WARNING: [16:41:41] WARNING: Omitted undefined stereo\n",
      "RDKit WARNING: [16:41:41] WARNING: Omitted undefined stereo\n",
      "RDKit WARNING: [16:41:41] WARNING: Omitted undefined stereo\n",
      "RDKit WARNING: [16:41:41] WARNING: Omitted undefined stereo\n",
      "RDKit WARNING: [16:41:41] WARNING: Omitted undefined stereo\n",
      "RDKit WARNING: [16:41:41] WARNING: Omitted undefined stereo\n",
      "RDKit WARNING: [16:41:41] WARNING: Omitted undefined stereo\n",
      "RDKit WARNING: [16:41:41] WARNING: Omitted undefined stereo\n",
      "RDKit WARNING: [16:41:41] WARNING: Omitted undefined stereo\n",
      "RDKit WARNING: [16:41:41] WARNING: Omitted undefined stereo\n",
      "RDKit WARNING: [16:41:41] WARNING: Omitted undefined stereo\n",
      "RDKit WARNING: [16:41:41] WARNING: Omitted undefined stereo\n",
      "RDKit WARNING: [16:41:41] WARNING: Omitted undefined stereo\n",
      "RDKit WARNING: [16:41:41] WARNING: Omitted undefined stereo\n",
      "RDKit WARNING: [16:41:41] WARNING: Omitted undefined stereo\n",
      "RDKit WARNING: [16:41:41] WARNING: Omitted undefined stereo\n",
      "RDKit WARNING: [16:41:41] WARNING: Omitted undefined stereo\n",
      "RDKit WARNING: [16:41:41] WARNING: Omitted undefined stereo\n",
      "RDKit WARNING: [16:41:41] WARNING: Omitted undefined stereo\n",
      "RDKit WARNING: [16:41:41] WARNING: Omitted undefined stereo\n",
      "RDKit WARNING: [16:41:41] WARNING: Omitted undefined stereo\n",
      "RDKit WARNING: [16:41:41] WARNING: Omitted undefined stereo\n",
      "RDKit WARNING: [16:41:41] WARNING: Omitted undefined stereo\n",
      "RDKit WARNING: [16:41:41] WARNING: Omitted undefined stereo\n",
      "RDKit WARNING: [16:41:41] WARNING: Omitted undefined stereo\n",
      "RDKit WARNING: [16:41:41] WARNING: Omitted undefined stereo\n",
      "RDKit WARNING: [16:41:41] WARNING: Omitted undefined stereo\n",
      "RDKit WARNING: [16:41:41] WARNING: Omitted undefined stereo\n",
      "RDKit WARNING: [16:41:41] WARNING: Omitted undefined stereo\n",
      "RDKit WARNING: [16:41:41] WARNING: Omitted undefined stereo\n",
      "RDKit WARNING: [16:41:41] WARNING: Omitted undefined stereo\n",
      "RDKit WARNING: [16:41:41] WARNING: Omitted undefined stereo\n",
      "RDKit WARNING: [16:41:41] WARNING: Omitted undefined stereo\n",
      "RDKit WARNING: [16:41:41] WARNING: Omitted undefined stereo\n",
      "RDKit WARNING: [16:41:41] WARNING: Omitted undefined stereo\n",
      "RDKit WARNING: [16:41:41] WARNING: Omitted undefined stereo\n",
      "RDKit WARNING: [16:41:41] WARNING: Omitted undefined stereo\n",
      "RDKit WARNING: [16:41:41] WARNING: Omitted undefined stereo\n",
      "RDKit WARNING: [16:41:41] WARNING: Omitted undefined stereo\n",
      "RDKit WARNING: [16:41:41] WARNING: Omitted undefined stereo\n",
      "RDKit WARNING: [16:41:41] WARNING: Omitted undefined stereo\n",
      "RDKit WARNING: [16:41:41] WARNING: Omitted undefined stereo\n",
      "RDKit WARNING: [16:41:41] WARNING: Omitted undefined stereo\n",
      "RDKit WARNING: [16:41:41] WARNING: Omitted undefined stereo\n",
      "RDKit WARNING: [16:41:41] WARNING: Omitted undefined stereo\n",
      "RDKit WARNING: [16:41:41] WARNING: Omitted undefined stereo\n",
      "RDKit WARNING: [16:41:41] WARNING: Omitted undefined stereo\n",
      "RDKit WARNING: [16:41:41] WARNING: Omitted undefined stereo\n",
      "RDKit WARNING: [16:41:41] WARNING: Omitted undefined stereo\n",
      "RDKit WARNING: [16:41:41] WARNING: Omitted undefined stereo\n",
      "RDKit WARNING: [16:41:41] WARNING: Omitted undefined stereo\n",
      "RDKit WARNING: [16:41:41] WARNING: Omitted undefined stereo\n",
      "RDKit WARNING: [16:41:41] WARNING: Omitted undefined stereo\n",
      "RDKit WARNING: [16:41:41] WARNING: Omitted undefined stereo\n",
      "RDKit WARNING: [16:41:41] WARNING: Omitted undefined stereo\n",
      "RDKit WARNING: [16:41:41] WARNING: Omitted undefined stereo\n",
      "RDKit WARNING: [16:41:41] WARNING: Omitted undefined stereo\n",
      "RDKit WARNING: [16:41:41] WARNING: Omitted undefined stereo\n",
      "RDKit WARNING: [16:41:41] WARNING: Omitted undefined stereo\n",
      "RDKit WARNING: [16:41:41] WARNING: Omitted undefined stereo\n",
      "RDKit WARNING: [16:41:41] WARNING: Omitted undefined stereo\n",
      "RDKit WARNING: [16:41:41] WARNING: Omitted undefined stereo\n",
      "RDKit WARNING: [16:41:41] WARNING: Omitted undefined stereo\n",
      "RDKit WARNING: [16:41:41] WARNING: Omitted undefined stereo\n",
      "RDKit WARNING: [16:41:41] WARNING: Omitted undefined stereo\n",
      "RDKit WARNING: [16:41:41] WARNING: Omitted undefined stereo\n",
      "RDKit WARNING: [16:41:41] WARNING: Omitted undefined stereo\n",
      "RDKit WARNING: [16:41:41] WARNING: Omitted undefined stereo\n",
      "RDKit WARNING: [16:41:41] WARNING: Omitted undefined stereo\n",
      "RDKit WARNING: [16:41:41] WARNING: Omitted undefined stereo\n",
      "RDKit WARNING: [16:41:41] WARNING: Omitted undefined stereo\n",
      "RDKit WARNING: [16:41:41] WARNING: Omitted undefined stereo\n",
      "RDKit WARNING: [16:41:41] WARNING: Omitted undefined stereo\n",
      "RDKit WARNING: [16:41:41] WARNING: Omitted undefined stereo\n",
      "RDKit WARNING: [16:41:41] WARNING: Omitted undefined stereo\n",
      "RDKit WARNING: [16:41:41] WARNING: Omitted undefined stereo\n",
      "RDKit WARNING: [16:41:41] WARNING: Omitted undefined stereo\n",
      "RDKit WARNING: [16:41:41] WARNING: Omitted undefined stereo\n",
      "RDKit WARNING: [16:41:41] WARNING: Omitted undefined stereo\n",
      "RDKit WARNING: [16:41:41] WARNING: Omitted undefined stereo\n",
      "RDKit WARNING: [16:41:41] WARNING: Omitted undefined stereo\n",
      "RDKit WARNING: [16:41:41] WARNING: Omitted undefined stereo\n",
      "RDKit WARNING: [16:41:41] WARNING: Omitted undefined stereo\n",
      "RDKit WARNING: [16:41:41] WARNING: Omitted undefined stereo\n",
      "RDKit WARNING: [16:41:41] WARNING: Omitted undefined stereo\n"
     ]
    },
    {
     "name": "stdout",
     "output_type": "stream",
     "text": [
      "Number of SyGMA candidates = 86\n",
      "Number of unique SyGMA candidates = 86\n"
     ]
    }
   ],
   "source": [
    "run_sygma(list_smiles, list_compound_name, phase_1_cycle, phase_2_cycle, top_sygma_candidates)"
   ]
  },
  {
   "cell_type": "markdown",
   "metadata": {},
   "source": [
    "## Export the results for NAP\n",
    "See the documentation for custom database in [NAP](https://ccms-ucsd.github.io/GNPSDocumentation/nap/#structure-database) and how to run NAP on GNPS [https://ccms-ucsd.github.io/GNPSDocumentation/nap/#structure-database](https://ccms-ucsd.github.io/GNPSDocumentation/nap/#structure-database)."
   ]
  },
  {
   "cell_type": "code",
   "execution_count": 11,
   "metadata": {},
   "outputs": [],
   "source": [
    "export_for_NAP(run_sygma.df2, 'SyGMa')"
   ]
  },
  {
   "cell_type": "markdown",
   "metadata": {},
   "source": [
    "## Export the results for SIRIUS\n",
    "\n",
    "See the documentation to generate the SIRIUS [custom database here](https://boecker-lab.github.io/docs.sirius.github.io/cli-standalone/#custom-database-tool)."
   ]
  },
  {
   "cell_type": "code",
   "execution_count": 12,
   "metadata": {},
   "outputs": [],
   "source": [
    "export_for_SIRIUS(run_sygma.df2, 'SyGMa')"
   ]
  },
  {
   "cell_type": "markdown",
   "metadata": {},
   "source": [
    "# B - Virtual metabolization with BioTransformer (slow)\n",
    "\n",
    "BioTransformer is a software tool that predicts small molecule metabolism in mammals, their gut microbiota, as well as the soil/aquatic microbiota. BioTransformer also assists scientists in metabolite identification, based on the metabolism prediction. More information from the paper [[https://doi.org/10.1186/s13321-018-0324-5](https://doi.org/10.1186/s13321-018-0324-5)] and [[https://bitbucket.org/djoumbou/biotransformerjar/src/master/](https://bitbucket.org/djoumbou/biotransformerjar/src/master/)].\n",
    "\n",
    "### Citation\n",
    "\n",
    "Djoumbou-Feunang, Y., Fiamoncini, J., Gil-de-la-Fuente, A. et al. [BioTransformer: a comprehensive computational tool for small molecule metabolism prediction and metabolite identification.](https://doi.org/10.1186/s13321-018-0324-5) J Cheminform 11, 2 (2019).\n",
    "\n",
    "### Install BioTransformer\n",
    "It requires `curl` and `java`."
   ]
  },
  {
   "cell_type": "code",
   "execution_count": 13,
   "metadata": {},
   "outputs": [
    {
     "name": "stdout",
     "output_type": "stream",
     "text": [
      "java version \"1.8.0_281\"\n",
      "Java(TM) SE Runtime Environment (build 1.8.0_281-b09)\n",
      "Java HotSpot(TM) 64-Bit Server VM (build 25.281-b09, mixed mode)\n",
      "  % Total    % Received % Xferd  Average Speed   Time    Time     Time  Current\n",
      "                                 Dload  Upload   Total   Spent    Left  Speed\n",
      "100 68.9M  100 68.9M    0     0  10.1M      0  0:00:06  0:00:06 --:--:-- 12.2M\n",
      "mv: biotransfomer/djoumbou-biotransformerjar-f47aa4e3c0da: No such file or directory\n"
     ]
    }
   ],
   "source": [
    "!java -version\n",
    "!rm -r biotransformer.zip biotransformer/\n",
    "!curl https://bitbucket.org/djoumbou/biotransformerjar/get/f47aa4e3c0da.zip -o biotransformer.zip\n",
    "!unzip -q -d biotransformer biotransformer.zip\n",
    "!cp -r biotransformer/djoumbou-biotransformerjar-f47aa4e3c0da/. ."
   ]
  },
  {
   "cell_type": "markdown",
   "metadata": {},
   "source": [
    "#### Specify the parameters of BioTransformer\n",
    "\n",
    "`type_of_biotransformation` : -b,--btType <BioTransformer Option> The type of description: Type of biotransformer - EC-based (ecbased), CYP450 (cyp450), Phase II (phaseII), Human gut microbial (hgut), human super transformer* (superbio, or allHuman), Environmental microbial (envimicro).\n",
    "\n",
    "`number_of_steps`  -s,--nsteps <Number of steps> The number of steps for the prediction. This option can be set by the user for the EC-based, CYP450, Phase II, and Environmental microbial biotransformers. The default value is 1."
   ]
  },
  {
   "cell_type": "code",
   "execution_count": 14,
   "metadata": {},
   "outputs": [
    {
     "name": "stdout",
     "output_type": "stream",
     "text": [
      "======== Running BioTransformer takes approximatively 3-5 compounds per minute ========\n",
      "     Number of compounds being computed =  6\n",
      "Number of BioTransformer candidates for compound 1 = 11\n",
      "Number of BioTransformer candidates for compound 2 = 7\n",
      "Number of BioTransformer candidates for compound 3 = 7\n",
      "Number of BioTransformer candidates for compound 4 = 5\n",
      "Number of BioTransformer candidates for compound 5 = 2\n",
      "Total number of BioTransformer candidates = 32\n"
     ]
    }
   ],
   "source": [
    "type_of_biotransformation = 'allHuman'\n",
    "number_of_steps = 1\n",
    "\n",
    "run_biotransformer(list_smiles,list_compound_name,type_of_biotransformation,number_of_steps)"
   ]
  },
  {
   "cell_type": "markdown",
   "metadata": {},
   "source": [
    "## Export the results for NAP\n",
    "\n",
    "See the documentation for custom database in [NAP](https://ccms-ucsd.github.io/GNPSDocumentation/nap/#structure-database) and how to run NAP on GNPS [https://ccms-ucsd.github.io/GNPSDocumentation/nap/#structure-database](https://ccms-ucsd.github.io/GNPSDocumentation/nap/#structure-database)."
   ]
  },
  {
   "cell_type": "code",
   "execution_count": 16,
   "metadata": {},
   "outputs": [],
   "source": [
    "export_for_NAP(run_biotransformer.df2_bio, 'BioTransf')"
   ]
  },
  {
   "cell_type": "markdown",
   "metadata": {},
   "source": [
    "## Export the results for SIRIUS\n",
    "\n",
    "See the documentation to generate the SIRIUS [custom database here](https://boecker-lab.github.io/docs.sirius.github.io/cli-standalone/#custom-database-tool)."
   ]
  },
  {
   "cell_type": "code",
   "execution_count": 17,
   "metadata": {},
   "outputs": [],
   "source": [
    "export_for_SIRIUS(run_biotransformer.df2_bio, 'BioTransf')"
   ]
  },
  {
   "cell_type": "code",
   "execution_count": null,
   "metadata": {},
   "outputs": [],
   "source": []
  }
 ],
 "metadata": {
  "kernelspec": {
   "display_name": "Python 3",
   "language": "python",
   "name": "python3"
  },
  "language_info": {
   "codemirror_mode": {
    "name": "ipython",
    "version": 3
   },
   "file_extension": ".py",
   "mimetype": "text/x-python",
   "name": "python",
   "nbconvert_exporter": "python",
   "pygments_lexer": "ipython3",
   "version": "3.8.5"
  }
 },
 "nbformat": 4,
 "nbformat_minor": 4
}
