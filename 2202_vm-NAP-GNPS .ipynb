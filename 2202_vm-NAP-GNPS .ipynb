{
 "cells": [
  {
   "cell_type": "markdown",
   "metadata": {},
   "source": [
    "# Virtually metabolize GNPS annotations and prepare for Network Annotation Propagation or SIRIUS\n",
    "\n",
    "Made by Louis-Felix Nothias (UC San Diego), louisfelix.nothias@gmail.com. Started in 2018 and improved in May 2021.\n",
    "\n",
    "This notebook downloads results of spectral annotations from classical or feature-based molecular networking job from GNPS [[http://gnps.ucsd.edu](http://gnps.ucsd.edu)] and generate virtual metabolites either with SyGMa or BioTransformer. The resulting candidates can be used for [Network Annotation Propagation](https://ccms-ucsd.github.io/GNPSDocumentation/nap/) on GNPS or with [SIRIUS](https://boecker-lab.github.io/docs.sirius.github.io/install/).\n",
    "\n",
    "> Start by running the cell below to initiate the libraries."
   ]
  },
  {
   "cell_type": "code",
   "execution_count": 1,
   "metadata": {},
   "outputs": [],
   "source": [
    "import sys\n",
    "sys.path.append('gnps_postprocessing/lib')\n",
    "sys.path.append('src')\n",
    "from gnps_download_results import *\n",
    "from consolidate_structures import *\n",
    "from gnps_results_postprocess import *\n",
    "from prepare_virtual_metabolization import *\n",
    "from run_virtual_metabolization import *"
   ]
  },
  {
   "cell_type": "markdown",
   "metadata": {},
   "source": [
    "## Mandatory - Download annotation from the GNPS job\n",
    " \n",
    "> Replace the job ID from the GNPS molecular networking job in the URL in the cell below (line 3). We support both classical molecular networking and feature-based molecular networking (FBMN) jobs.\n",
    "\n",
    "You can try the classical MN job from that paper https://pubs.acs.org/doi/10.1021/acs.analchem.8b05854 with the ID `'bbee697a63b1400ea585410fafc95723'`. \n",
    "\n",
    "An other test job for feature-based molecular networking (FBMN) is `'e78a8c8f429a46fcb24f3b34d69aff25'`."
   ]
  },
  {
   "cell_type": "code",
   "execution_count": 2,
   "metadata": {},
   "outputs": [
    {
     "name": "stdout",
     "output_type": "stream",
     "text": [
      "==================\n",
      "This is the GNPS job link: https://gnps.ucsd.edu/ProteoSAFe/status.jsp?task=bbee697a63b1400ea585410fafc95723\n",
      "Downloading the following content: https://gnps.ucsd.edu/ProteoSAFe/DownloadResult?task=bbee697a63b1400ea585410fafc95723&view=view_all_annotations_DB\n"
     ]
    },
    {
     "name": "stderr",
     "output_type": "stream",
     "text": [
      "  % Total    % Received % Xferd  Average Speed   Time    Time     Time  Current\n",
      "                                 Dload  Upload   Total   Spent    Left  Speed\n",
      "100 29.5M    0 29.5M    0     0  1839k      0 --:--:--  0:00:16 --:--:-- 3877k\n"
     ]
    },
    {
     "name": "stdout",
     "output_type": "stream",
     "text": [
      "GNPS job results were succesfully downloaded as: all_annotations.zip\n",
      "GNPS job results were succesfully extracted into the folder: all_annotations\n",
      "==================\n",
      "   CLASSICAL MOLECULAR NETWORKING job detected\n",
      "==================\n",
      "      199 spectral library annotations in the job.\n",
      "==================\n",
      "      9643 nodes in the network (including single nodes)\n"
     ]
    }
   ],
   "source": [
    "job_id = 'bbee697a63b1400ea585410fafc95723'\n",
    "\n",
    "gnps_download_results(job_id, output_folder ='all_annotations')"
   ]
  },
  {
   "cell_type": "code",
   "execution_count": 3,
   "metadata": {},
   "outputs": [
    {
     "data": {
      "text/html": [
       "<div>\n",
       "<style scoped>\n",
       "    .dataframe tbody tr th:only-of-type {\n",
       "        vertical-align: middle;\n",
       "    }\n",
       "\n",
       "    .dataframe tbody tr th {\n",
       "        vertical-align: top;\n",
       "    }\n",
       "\n",
       "    .dataframe thead th {\n",
       "        text-align: right;\n",
       "    }\n",
       "</style>\n",
       "<table border=\"1\" class=\"dataframe\">\n",
       "  <thead>\n",
       "    <tr style=\"text-align: right;\">\n",
       "      <th></th>\n",
       "      <th>#Scan#</th>\n",
       "      <th>Adduct</th>\n",
       "      <th>CAS_Number</th>\n",
       "      <th>Charge</th>\n",
       "      <th>Compound_Name</th>\n",
       "      <th>Compound_Source</th>\n",
       "      <th>Data_Collector</th>\n",
       "      <th>ExactMass</th>\n",
       "      <th>FileScanUniqueID</th>\n",
       "      <th>INCHI</th>\n",
       "      <th>...</th>\n",
       "      <th>RT_Query</th>\n",
       "      <th>SharedPeaks</th>\n",
       "      <th>Smiles</th>\n",
       "      <th>SpecCharge</th>\n",
       "      <th>SpecMZ</th>\n",
       "      <th>SpectrumFile</th>\n",
       "      <th>SpectrumID</th>\n",
       "      <th>TIC_Query</th>\n",
       "      <th>UpdateWorkflowName</th>\n",
       "      <th>tags</th>\n",
       "    </tr>\n",
       "  </thead>\n",
       "  <tbody>\n",
       "    <tr>\n",
       "      <th>0</th>\n",
       "      <td>100631</td>\n",
       "      <td>[M+H]+</td>\n",
       "      <td>NaN</td>\n",
       "      <td>1</td>\n",
       "      <td>MoNA:594132 Octocrylene</td>\n",
       "      <td>isolated</td>\n",
       "      <td>MoNA</td>\n",
       "      <td>0.0</td>\n",
       "      <td>spectra/specs_ms.pklbin100631</td>\n",
       "      <td>InChI=1S/C24H27NO2/c1-3-5-12-19(4-2)18-27-24(2...</td>\n",
       "      <td>...</td>\n",
       "      <td>73.567</td>\n",
       "      <td>5</td>\n",
       "      <td>NaN</td>\n",
       "      <td>0</td>\n",
       "      <td>362.208</td>\n",
       "      <td>spectra/specs_ms.pklbin</td>\n",
       "      <td>CCMSLIB00000566191</td>\n",
       "      <td>1910.37</td>\n",
       "      <td>UPDATE-SINGLE-ANNOTATED-BRONZE</td>\n",
       "      <td></td>\n",
       "    </tr>\n",
       "    <tr>\n",
       "      <th>1</th>\n",
       "      <td>100637</td>\n",
       "      <td>[M+H]+</td>\n",
       "      <td>NaN</td>\n",
       "      <td>1</td>\n",
       "      <td>MoNA:594132 Octocrylene</td>\n",
       "      <td>isolated</td>\n",
       "      <td>MoNA</td>\n",
       "      <td>0.0</td>\n",
       "      <td>spectra/specs_ms.pklbin100637</td>\n",
       "      <td>InChI=1S/C24H27NO2/c1-3-5-12-19(4-2)18-27-24(2...</td>\n",
       "      <td>...</td>\n",
       "      <td>433.325</td>\n",
       "      <td>7</td>\n",
       "      <td>NaN</td>\n",
       "      <td>0</td>\n",
       "      <td>362.212</td>\n",
       "      <td>spectra/specs_ms.pklbin</td>\n",
       "      <td>CCMSLIB00000566191</td>\n",
       "      <td>31304.20</td>\n",
       "      <td>UPDATE-SINGLE-ANNOTATED-BRONZE</td>\n",
       "      <td></td>\n",
       "    </tr>\n",
       "  </tbody>\n",
       "</table>\n",
       "<p>2 rows × 36 columns</p>\n",
       "</div>"
      ],
      "text/plain": [
       "   #Scan#  Adduct CAS_Number  Charge            Compound_Name Compound_Source  \\\n",
       "0  100631  [M+H]+        NaN       1  MoNA:594132 Octocrylene        isolated   \n",
       "1  100637  [M+H]+        NaN       1  MoNA:594132 Octocrylene        isolated   \n",
       "\n",
       "  Data_Collector  ExactMass               FileScanUniqueID  \\\n",
       "0           MoNA        0.0  spectra/specs_ms.pklbin100631   \n",
       "1           MoNA        0.0  spectra/specs_ms.pklbin100637   \n",
       "\n",
       "                                               INCHI  ... RT_Query  \\\n",
       "0  InChI=1S/C24H27NO2/c1-3-5-12-19(4-2)18-27-24(2...  ...   73.567   \n",
       "1  InChI=1S/C24H27NO2/c1-3-5-12-19(4-2)18-27-24(2...  ...  433.325   \n",
       "\n",
       "  SharedPeaks Smiles SpecCharge   SpecMZ             SpectrumFile  \\\n",
       "0           5    NaN          0  362.208  spectra/specs_ms.pklbin   \n",
       "1           7    NaN          0  362.212  spectra/specs_ms.pklbin   \n",
       "\n",
       "           SpectrumID  TIC_Query              UpdateWorkflowName  tags  \n",
       "0  CCMSLIB00000566191    1910.37  UPDATE-SINGLE-ANNOTATED-BRONZE        \n",
       "1  CCMSLIB00000566191   31304.20  UPDATE-SINGLE-ANNOTATED-BRONZE        \n",
       "\n",
       "[2 rows x 36 columns]"
      ]
     },
     "execution_count": 3,
     "metadata": {},
     "output_type": "execute_result"
    }
   ],
   "source": [
    "gnps_download_results.df_annotations.head(2)"
   ]
  },
  {
   "cell_type": "markdown",
   "metadata": {},
   "source": [
    "## Mandatory - Consolidating structures identifier\n",
    "\n",
    "> Run the cell below to have a complete set of Smiles and InChI for the annotations.\n",
    "\n",
    "**IMPORTANT: Note that only spectral annotations that have a valid InChI or SMILES identifier will be considered downstream. If the annotations you are interested in don't have an identifier in the library, go back to the GNPS library entry, update the entry by adding an identifier, and rerun your GNPS job**"
   ]
  },
  {
   "cell_type": "code",
   "execution_count": 4,
   "metadata": {},
   "outputs": [
    {
     "name": "stdout",
     "output_type": "stream",
     "text": [
      " ==== Consolidating structures from SMILES and/or InChI ====\n",
      "Both SMILES and InChI were inputted\n",
      "Converting SMILES to mol object\n",
      "  Salt(s) deleted in       : CC(C)N=C(N)N=C(N)Nc1ccc(Cl)cc1.Cl\n",
      "  Remaining residue        : CC(C)N=C(N)N=C(N)Nc1ccc(Cl)cc1\n",
      "  Salt(s) deleted in       : C12(=CC=C(C=C1COC2(CCCN(C)C)C3=CC=C(C=C3)F)C#N).OC(=O)C(=O)O\n",
      "  Remaining residue        : CN(C)CCCC1(c2ccc(F)cc2)OCc2cc(C#N)ccc21\n",
      "Succesfully converted to mol object: 110\n",
      "Exception to the parsing: 0\n",
      "Not available: 90\n",
      "Converting INCHI to mol object\n",
      "Succesfully converted to mol object: 104\n",
      "Exception to the parsing: 0\n",
      "Not available: 96\n",
      "Consolidating the lists\n",
      "Total mol object from the list 1 = 110\n",
      "Mol object consolidated from list 2 = 12\n",
      "Consolidated structures = 122\n",
      "Converting mol objects to SMILES iso\n",
      "Converting mol objects to SMILES\n",
      "Converting mol objects to InChI\n",
      "Converting mol objects to InChIKey\n",
      "End\n"
     ]
    }
   ],
   "source": [
    "df_annotations_consolidated  = consolidate_and_convert_structures(gnps_download_results.df_annotations, prefix='', \n",
    "                                                                  smiles='Smiles', inchi='INCHI')"
   ]
  },
  {
   "cell_type": "code",
   "execution_count": 5,
   "metadata": {},
   "outputs": [
    {
     "name": "stdout",
     "output_type": "stream",
     "text": [
      "200 annotations detected\n",
      "that corresponds to 61 unique stereostructures\n",
      "that corresponds to 58 unique planar structures\n",
      " ==== WARNING =====\n",
      "78 annotations dont have a structure identifier and will be discarded from downstream processing, unless you do the following:\n",
      "You can either update the GNPS library and rerun the GNPS job. Or you can provide a structure identifier in the dedicated cell below\n",
      "These are the compounds without structure identifiers:\n",
      "'(+)-Catechin',\n",
      "'(.+/-.)-8-Hydroxy-5Z,9E,11Z,14Z,17Z-eicosapentaenoic acid',\n",
      "'2-(Cyclohexylamino)ethanesulfonic acid',\n",
      "'3,4'-Dimethoxy-2-hydroxychalcone',\n",
      "'4-Hydroxy-4'-methyldiphenylamine',\n",
      "'B10A30 Faulkner legacy library looks like sterol or lipid needs to be verified',\n",
      "'Benzalkonium chloride (C12)',\n",
      "'Betulinic acid',\n",
      "'Betulinic acid methyl ester',\n",
      "'Conjugated linoleic Acid (10E,12Z)',\n",
      "'Dioctyl phthalate',\n",
      "'Lyso-PC(16:0)',\n",
      "'Procyanidin B2',\n",
      "'Spectral Match to (+)-Catechin from NIST14',\n",
      "'Spectral Match to (-)-Epicatechin from NIST14',\n",
      "'Spectral Match to 1-Hexadecanoyl-sn-glycerol from NIST14',\n",
      "'Spectral Match to 2-Hydroxy-4-methoxybenzophenone from NIST14',\n",
      "'Spectral Match to 4-Hydroxy-4'-methyldiphenylamine from NIST14',\n",
      "'Spectral Match to Abrine from NIST14',\n",
      "'Spectral Match to Avobenzone from NIST14',\n",
      "'Spectral Match to Benadryl from NIST14',\n",
      "'Spectral Match to Chlorhexidine from NIST14',\n",
      "'Spectral Match to D-erythro-C18-Sphingosine from NIST14',\n",
      "'Spectral Match to Decaethylene glycol from NIST14',\n",
      "'Spectral Match to Dibutyl phthalate from NIST14',\n",
      "'Spectral Match to Diethyl phthalate from NIST14',\n",
      "'Spectral Match to Dioctyl phthalate from NIST14',\n",
      "'Spectral Match to Dioctyl sulfosuccinate from NIST14',\n",
      "'Spectral Match to Glycocholic acid from NIST14',\n",
      "'Spectral Match to L-Tryptophan from NIST14',\n",
      "'Spectral Match to Lyso-PC(16:0) from NIST14',\n",
      "'Spectral Match to N-Lauroylsarcosine from NIST14',\n",
      "'Spectral Match to Nonaethylene glycol from NIST14',\n",
      "'Spectral Match to Pinolenic acid from NIST14',\n",
      "'Spectral Match to Procyanidin B2 from NIST14',\n",
      "'Spectral Match to Sulfamethizole from NIST14',\n",
      "'Spectral Match to Timolol from NIST14',\n",
      "'Spectral Match to Triphenyl phosphate from NIST14',\n",
      "'Spectral Match to Tris(2-butoxyethyl) phosphate from NIST14',\n",
      "'Spectral Match to Tyr-Pro from NIST14',\n",
      "'Spectral Match to Undecaethylene glycol from NIST14',\n",
      "'Sulfamethoxazole',\n",
      "'Syringaldehyde',\n",
      "'Syringic acid',\n"
     ]
    }
   ],
   "source": [
    "# We keep only annotations with a structure identifier\n",
    "\n",
    "df_annotations = get_info_gnps_annotations(df_annotations_consolidated, \n",
    "                          inchi_column='Consol_InChI', \n",
    "                          smiles_column = 'Consol_SMILES', \n",
    "                          smiles_planar_column='Consol_SMILES_iso')"
   ]
  },
  {
   "cell_type": "markdown",
   "metadata": {},
   "source": [
    "### [Advanced optional feature - Recommended to ignore] - Filter annotations based on compound name\n",
    "\n",
    "If you want to apply this filter, convert the cell type from raw to code.\n",
    "\n",
    "##### Optional - Display compound name"
   ]
  },
  {
   "cell_type": "code",
   "execution_count": 6,
   "metadata": {
    "tags": []
   },
   "outputs": [
    {
     "name": "stdout",
     "output_type": "stream",
     "text": [
      "'(+)-Catechin',\n",
      "'(-)-Catechin',\n",
      "'(-)-Secoisolariciresinol',\n",
      "'.alpha.-Cyclodextrin',\n",
      "'.alpha.-Hexylcinnamaldehyde',\n",
      "'.alpha.-Ionone',\n",
      "'3-(2-Hydroxyphenyl)propionic acid',\n",
      "'3-Methoxycinnamic acid',\n",
      "'4-(4-Aminophenoxy)aniline',\n",
      "'7-Oxocholesterol',\n",
      "'CocamidopropylBetaine',\n",
      "'Dimethyldioctadecylammonium cation',\n",
      "'Escitalopram Oxalate',\n",
      "'Ethyl 3-hydroxybenzoate',\n",
      "'Glycerol tricaprate',\n",
      "'Glycerol tricaprylate',\n",
      "'Isobergaptene',\n",
      "'Isoxadifen-ethyl',\n",
      "'Lauric acid diethanolamide',\n",
      "'MLS000028461-01!URSODEOXYCHOLIC ACID',\n",
      "'MLS001332387-01!Chlorhexidine55-56-1',\n",
      "'MLS002154090-01!Proguanil hydrochloride637-32-1',\n",
      "'Massbank: Dextromethorphan',\n",
      "'Massbank:EA019905 Trimethoprim|2,4-Diamino-5-(3,4,5-trimethoxybenzyl)pyrimidine|5-[(3,4,5-trimethoxyphenyl)methyl]pyrimidine-2,4-diamine',\n",
      "'Massbank:EA066012 Galaxolidone|1,3,4,6,7,8-Hexahydro-4,6,6,7,8,8-hexamethylcyclopenta[g]-2-benzopyran-1-on',\n",
      "'Massbank:EA280805 Mycophenolic acid| (E)-6-(4-hydroxy-3-keto-6-methoxy-7-methyl-phthalan-5-yl)-4-methyl-hex-4-enoic acid',\n",
      "'Massbank:FIO00069 (-)-Epicatechin',\n",
      "'Massbank:FIO00070 (-)-Epicatechin',\n",
      "'Massbank:FIO00071 (-)-Epicatechin',\n",
      "'Massbank:PR100263 (+)-Epicatechin|EpCt-pl|ent-Epicatechin|Epicatechol|(+)-3,3',4',5,7-Pentahydroxyflavan',\n",
      "'Massbank:UF411701 Acetyl-sulfamethoxazole|N-[4-[(5-methyl-1,2-oxazol-3-yl)sulfamoyl]phenyl]acetamide',\n",
      "'Massbank:UF416901 Triethyl citrate|triethyl 2-hydroxypropane-1,2,3-tricarboxylate',\n",
      "'MoNA:585772 [(2R)-2-ethylhexyl] 2-cyano-3,3-diphenylprop-2-enoate',\n",
      "'MoNA:586455 [(2R)-2-ethylhexyl] 2-cyano-3,3-diphenylprop-2-enoate',\n",
      "'MoNA:594132 Octocrylene',\n",
      "'MoNA:788880 Gabapentin Related Compound E',\n",
      "'Mycophenolate mofetil (CellCept)',\n",
      "'N-Palmitoyl-D-sphingosine',\n",
      "'NCGC00094872-09_C17H19NO3_(2E,4E)-5-(1,3-Benzodioxol-5-yl)-1-(1-piperidinyl)-2,4-pentadien-1-one',\n",
      "'NCGC00168814-02!(2R,3S,4S,5R,6S)-2-(hydroxymethyl)-6-(3,4,5-trimethoxyphenoxy)oxane-3,4,5-triol',\n",
      "'NCGC00168965-02_C21H32O11_beta-D-Glucopyranoside, 3-(4-hydroxyphenyl)-1-methylpropyl 6-O-[(2S,3R,4R)-tetrahydro-3,4-dihydroxy-4-(hydroxymethyl)-2-furanyl]-',\n",
      "'NCGC00169491-03_C19H30O8_2-Cyclohexen-1-one, 4-[(1E)-3-(beta-D-glucopyranosyloxy)-1-buten-1-yl]-4-hydroxy-3,5,5-trimethyl-, (4S)-',\n",
      "'NCGC00169670-02!(2S,3R,4S,5S,6R)-2-[4-[(3S,3aR,6S,6aR)-3-(4-hydroxy-3,5-dimethoxyphenyl)-1,3,3a,4,6,6a-hexahydrofuro[3,4-c]furan-6-yl]-2,6-dimethoxyphenoxy]-6-(hydroxymethyl)oxane-3,4,5-triol',\n",
      "'NCGC00169963-02_C15H26O_(3,3,7-Trimethyltricyclo[5.4.0.0~2,9~]undec-8-yl)methanol',\n",
      "'NCGC00179791-03!1,7-bis(4-hydroxyphenyl)-5-[(2R,3R,4S,5S,6R)-3,4,5-trihydroxy-6-(hydroxymethyl)oxan-2-yl]oxyheptan-3-one',\n",
      "'NCGC00180025-03!(2R,3S,4S,5R,6S)-2-[[(2S,3R,4R)-3,4-dihydroxy-4-(hydroxymethyl)oxolan-2-yl]oxymethyl]-6-(3,4,5-trimethoxyphenoxy)oxane-3,4,5-triol',\n",
      "'NCGC00180141-02!2-[[7-hydroxy-1-(4-hydroxy-3,5-dimethoxyphenyl)-3-(hydroxymethyl)-6,8-dimethoxy-1,2,3,4-tetrahydronaphthalen-2-yl]methoxy]-6-(hydroxymethyl)oxane-3,4,5-triol',\n",
      "'NCGC00180666-02!(2R,3S,4S,5R,6S)-2-[(3,4,5-trihydroxyoxan-2-yl)oxymethyl]-6-(3,4,5-trimethoxyphenoxy)oxane-3,4,5-triol',\n",
      "'NCGC00186665-03!2,3-dihydroxypropyl hexadecanoate',\n",
      "'NCGC00347390-02!(2R,3S)-7-[(2S,3R,4R,5S)-3,4-dihydroxy-5-(hydroxymethyl)oxolan-2-yl]oxy-2-(3,4-dihydroxyphenyl)-3,4-dihydro-2H-chromene-3,5-diol',\n",
      "'NCGC00347403-02_C30H42O12_1,7-Bis(4-hydroxyphenyl)-3-heptanyl 6-O-[(2S,3R,4R)-3,4-dihydroxy-4-(hydroxymethyl)tetrahydro-2-furanyl]-beta-D-glucopyranoside',\n",
      "'NCGC00347704-02_C24H32O7_2H-Oxireno[1,10a]phenanthro[3,2-b]furan-10(11bH)-one, 5,7-bis(acetyloxy)-3,3a,4,5,6,7,7a,7b,8,8a-decahydro-4,4,7a,11-tetramethyl-, (1aS,3aR,5S,7S,7aR,7bS,8aR,11bR)-',\n",
      "'NCGC00380723-01!(2S,3R,4S,5S,6R)-2-[4-[(3S,3aR,6S,6aR)-6-[3,5-dimethoxy-4-[(2S,3R,4S,5S,6R)-3,4,5-trihydroxy-6-(hydroxymethyl)oxan-2-yl]oxyphenyl]-1,3,3a,4,6,6a-hexahydrofuro[3,4-c]furan-3-yl]-2,6-dimethoxyphenoxy]-6-(hydroxymethyl)oxane-3,4,5-triol',\n",
      "'NCGC00380746-01!1,7-bis(4-hydroxyphenyl)heptane-3,5-diol',\n",
      "'NCGC00385123-01_C22H30O6_7b,9-Dihydroxy-3-(hydroxymethyl)-1,1,6,8-tetramethyl-5-oxo-1,1a,1b,4,4a,5,7a,7b,8,9-decahydro-9aH-cyclopropa[3,4]benzo[1,2-e]azulen-9a-yl acetate',\n",
      "'NCGC00385199-01!2-[3,4-bis[[(2S,3R,4S,5S,6R)-3,4,5-trihydroxy-6-(hydroxymethyl)oxan-2-yl]oxy]phenyl]-5,7-dihydroxychromen-4-one',\n",
      "'NCGC00385223-01!(2R,3S)-7-[(2S,3R,4R)-3,4-dihydroxy-4-(hydroxymethyl)oxolan-2-yl]oxy-2-(3,4-dihydroxyphenyl)-3,4-dihydro-2H-chromene-3,5-diol',\n",
      "'NCGC00385412-01_C21H32O10_2,4-Pentadienoic acid, 5-[(1R,3S,5R,8S)-3-(beta-D-glucopyranosyloxy)-8-hydroxy-1,5-dimethyl-6-oxabicyclo[3.2.1]oct-8-yl]-3-methyl-, (2Z,4E)-',\n",
      "'NCGC00385785-01!(2R,3R,4S,5S,6R)-2-[[2-(3,4-dihydroxyphenyl)-5,7-dihydroxy-3,4-dihydro-2H-chromen-3-yl]oxy]-6-(hydroxymethyl)oxane-3,4,5-triol',\n",
      "'NCGC00385811-01!6-[3-[(3,4-dimethoxyphenyl)methyl]-4-methoxy-2-(methoxymethyl)butyl]-4-methoxy-1,3-benzodioxole',\n",
      "'Octocrylene',\n",
      "'Sorbitane Monooleate - Polysorbate 80 in-source fragment',\n",
      "'Sorbitane Monopalmitate - Polysorbate 40 in-source fragment',\n",
      "'Sorbitane Monostearate - Polysorbate 60 in-source fragment',\n",
      "'Sulfachloropyridazine',\n"
     ]
    }
   ],
   "source": [
    "list_compounds = set(df_annotations['Compound_Name'])\n",
    "print_compound_names(list_compounds)"
   ]
  },
  {
   "cell_type": "markdown",
   "metadata": {},
   "source": [
    "##### Optional - Select compound name to keep\n",
    "\n",
    "Replace the compound names in the list `compound_name_to_keep`\n"
   ]
  },
  {
   "cell_type": "code",
   "execution_count": 7,
   "metadata": {},
   "outputs": [],
   "source": [
    "compound_name_to_keep = ['Isobergaptene',\n",
    "                         'Isoxadifen-ethyl',\n",
    "                         'Lauric acid diethanolamide',\n",
    "                         'Lyso-PC(16:0)',\n",
    "                         'MLS000028461-01!URSODEOXYCHOLIC ACID',\n",
    "                         'MLS001332387-01!Chlorhexidine55-56-1',\n",
    "                         'MLS002154090-01!Proguanil hydrochloride637-32-1'\n",
    "                        ]"
   ]
  },
  {
   "cell_type": "markdown",
   "metadata": {},
   "source": [
    "### [Advanced optional feature - Recommended to ignore]  - Filter annotations based on tags\n",
    "\n",
    "If you want to apply this filter convert the cell type from raw to code.\n",
    "\n",
    "##### Optional - Display tags-annotations"
   ]
  },
  {
   "cell_type": "code",
   "execution_count": 8,
   "metadata": {},
   "outputs": [
    {
     "name": "stdout",
     "output_type": "stream",
     "text": [
      "These are the compounds with tags:\n",
      "Tag: 'Antibiotic[Drug Class]'\n",
      "\t'MLS002154090-01!Proguanil hydrochloride637-32-1'\n",
      "Tag: 'Nonionic Surfactant[Source Environment]'\n",
      "\t'Sorbitane Monopalmitate - Polysorbate 40 in-source fragment'\n",
      "Tag: 'Surfactant[Chemical Family]'\n",
      "\t'CocamidopropylBetaine'\n"
     ]
    }
   ],
   "source": [
    "print_compound_name_for_tags(df_annotations)"
   ]
  },
  {
   "cell_type": "markdown",
   "metadata": {},
   "source": [
    "##### Optional - Select tags to keep\n",
    "\n",
    "Specify the tags in the list `tags_to_keep`"
   ]
  },
  {
   "cell_type": "code",
   "execution_count": 9,
   "metadata": {},
   "outputs": [],
   "source": [
    "tags_to_keep = ['Antibiotic[Drug Class]','Nonionic Surfactant[Source Environment]']    # you can use multiple tags with ['Antibiotic[Drug Class]','other_tag_here']"
   ]
  },
  {
   "cell_type": "code",
   "execution_count": 10,
   "metadata": {},
   "outputs": [
    {
     "name": "stdout",
     "output_type": "stream",
     "text": [
      "Compound name and tags filtering applied\n",
      "Number of annotations after filtering = 13\n"
     ]
    }
   ],
   "source": [
    "# Apply Compound_Name filter and/or tags filter (if any)\n",
    "\n",
    "# We check if those lists exists and process as needed:\n",
    "if compound_name_to_keep and tags_to_keep:\n",
    "    df_annotations_filtered = df_annotations_filtering(df_annotations, compound_name=compound_name_to_keep, tags=tags_to_keep)\n",
    "    print('Compound name and tags filtering applied')\n",
    "elif compound_name_to_keep:\n",
    "    df_annotations_filtered = df_annotations_filtering(df_annotations, compound_name=compound_name_to_keep)\n",
    "    print('Compound name filtering applied')\n",
    "elif tags_keep:\n",
    "    df_annotations_filtered = df_annotations_filtering(df_annotations, tags=tags_to_keep)\n",
    "    print('Tag(s) filtering applied')\n",
    "else:\n",
    "    print('No Compound_Name or Tags filter were used')\n",
    "    \n",
    "print('Number of annotations after filtering = '+str(df_annotations_filtered.shape[0]))"
   ]
  },
  {
   "cell_type": "markdown",
   "metadata": {},
   "source": [
    "## Mandatory - Choose between planar or stereochemical SMILES"
   ]
  },
  {
   "cell_type": "markdown",
   "metadata": {},
   "source": [
    "### [RECOMMENDED] Use the planar SMILES for virtual metabolization (no stereochemistry specified)\n",
    "\n",
    "Run the cell below to use planar isomers and ignore the cell after. This is recommended as it reflects the confidence computational mass spectrometry annotation can achieve and limits the number of candidates to compute."
   ]
  },
  {
   "cell_type": "code",
   "execution_count": 11,
   "metadata": {},
   "outputs": [
    {
     "name": "stdout",
     "output_type": "stream",
     "text": [
      "Number of spectral library annotations = 13\n",
      "Number of spectral annotations with planar SMILES/InChI = 13\n",
      "Number of unique planar SMILES considered = 7\n"
     ]
    },
    {
     "data": {
      "text/html": [
       "<div>\n",
       "<style scoped>\n",
       "    .dataframe tbody tr th:only-of-type {\n",
       "        vertical-align: middle;\n",
       "    }\n",
       "\n",
       "    .dataframe tbody tr th {\n",
       "        vertical-align: top;\n",
       "    }\n",
       "\n",
       "    .dataframe thead th {\n",
       "        text-align: right;\n",
       "    }\n",
       "</style>\n",
       "<table border=\"1\" class=\"dataframe\">\n",
       "  <thead>\n",
       "    <tr style=\"text-align: right;\">\n",
       "      <th></th>\n",
       "      <th>#Scan#</th>\n",
       "      <th>Adduct</th>\n",
       "      <th>CAS_Number</th>\n",
       "      <th>Charge</th>\n",
       "      <th>Compound_Name</th>\n",
       "      <th>Compound_Source</th>\n",
       "      <th>Data_Collector</th>\n",
       "      <th>ExactMass</th>\n",
       "      <th>FileScanUniqueID</th>\n",
       "      <th>INCHI</th>\n",
       "      <th>...</th>\n",
       "      <th>SpecMZ</th>\n",
       "      <th>SpectrumFile</th>\n",
       "      <th>SpectrumID</th>\n",
       "      <th>TIC_Query</th>\n",
       "      <th>UpdateWorkflowName</th>\n",
       "      <th>tags</th>\n",
       "      <th>Consol_SMILES_iso</th>\n",
       "      <th>Consol_SMILES</th>\n",
       "      <th>Consol_InChIKey</th>\n",
       "      <th>Consol_InChI</th>\n",
       "    </tr>\n",
       "  </thead>\n",
       "  <tbody>\n",
       "    <tr>\n",
       "      <th>11</th>\n",
       "      <td>126417</td>\n",
       "      <td>M+H</td>\n",
       "      <td></td>\n",
       "      <td>0</td>\n",
       "      <td>Sorbitane Monopalmitate - Polysorbate 40 in-so...</td>\n",
       "      <td>Lysate</td>\n",
       "      <td>AMelnik</td>\n",
       "      <td>0.000</td>\n",
       "      <td>spectra/specs_ms.pklbin126417</td>\n",
       "      <td></td>\n",
       "      <td>...</td>\n",
       "      <td>402.358</td>\n",
       "      <td>spectra/specs_ms.pklbin</td>\n",
       "      <td>CCMSLIB00000577482</td>\n",
       "      <td>209069.00</td>\n",
       "      <td>UPDATE-SINGLE-ANNOTATED-BRONZE</td>\n",
       "      <td>Nonionic Surfactant[Source Environment]</td>\n",
       "      <td>CCCCCCCCCCCCCCCC(=O)OCC(O)C1OCC(O)C1O</td>\n",
       "      <td>CCCCCCCCCCCCCCCC(=O)OCC(O)C1OCC(O)C1O</td>\n",
       "      <td>IYFATESGLOUGBX-UHFFFAOYSA-N</td>\n",
       "      <td>InChI=1S/C22H42O6/c1-2-3-4-5-6-7-8-9-10-11-12-...</td>\n",
       "    </tr>\n",
       "    <tr>\n",
       "      <th>5</th>\n",
       "      <td>20450</td>\n",
       "      <td>M+H-C2H6O</td>\n",
       "      <td>163520330</td>\n",
       "      <td>1</td>\n",
       "      <td>Isoxadifen-ethyl</td>\n",
       "      <td>Isolated</td>\n",
       "      <td>NIST</td>\n",
       "      <td>0.000</td>\n",
       "      <td>spectra/specs_ms.pklbin20450</td>\n",
       "      <td>InChI=1S/C18H17NO3/c1-2-21-17(20)16-13-18(22-1...</td>\n",
       "      <td>...</td>\n",
       "      <td>250.088</td>\n",
       "      <td>spectra/specs_ms.pklbin</td>\n",
       "      <td>CCMSLIB00003562356</td>\n",
       "      <td>76095.80</td>\n",
       "      <td>UPDATE-SINGLE-ANNOTATED-BRONZE</td>\n",
       "      <td></td>\n",
       "      <td>CCOC(=O)C1=NOC(c2ccccc2)(c2ccccc2)C1</td>\n",
       "      <td>CCOC(=O)C1=NOC(c2ccccc2)(c2ccccc2)C1</td>\n",
       "      <td>MWKVXOJATACCCH-UHFFFAOYSA-N</td>\n",
       "      <td>InChI=1S/C18H17NO3/c1-2-21-17(20)16-13-18(22-1...</td>\n",
       "    </tr>\n",
       "    <tr>\n",
       "      <th>8</th>\n",
       "      <td>22092</td>\n",
       "      <td>M+2H</td>\n",
       "      <td>NaN</td>\n",
       "      <td>2</td>\n",
       "      <td>MLS001332387-01!Chlorhexidine55-56-1</td>\n",
       "      <td>NIH Pharmacologically Active Library</td>\n",
       "      <td>VP/LMS</td>\n",
       "      <td>504.203</td>\n",
       "      <td>spectra/specs_ms.pklbin22092</td>\n",
       "      <td>nan</td>\n",
       "      <td>...</td>\n",
       "      <td>253.109</td>\n",
       "      <td>spectra/specs_ms.pklbin</td>\n",
       "      <td>CCMSLIB00000084912</td>\n",
       "      <td>7827.59</td>\n",
       "      <td>UPDATE-SINGLE-ANNOTATED-GOLD</td>\n",
       "      <td></td>\n",
       "      <td>N=C(NCCCCCCNC(=N)NC(=N)Nc1ccc(Cl)cc1)NC(=N)Nc1...</td>\n",
       "      <td>N=C(NCCCCCCNC(=N)NC(=N)Nc1ccc(Cl)cc1)NC(=N)Nc1...</td>\n",
       "      <td>GHXZTYHSJHQHIJ-UHFFFAOYSA-N</td>\n",
       "      <td>InChI=1S/C22H30Cl2N10/c23-15-5-9-17(10-6-15)31...</td>\n",
       "    </tr>\n",
       "    <tr>\n",
       "      <th>9</th>\n",
       "      <td>22309</td>\n",
       "      <td>M+H</td>\n",
       "      <td>NaN</td>\n",
       "      <td>1</td>\n",
       "      <td>MLS002154090-01!Proguanil hydrochloride637-32-1</td>\n",
       "      <td>NIH Pharmacologically Active Library</td>\n",
       "      <td>VP/LMS</td>\n",
       "      <td>253.109</td>\n",
       "      <td>spectra/specs_ms.pklbin22309</td>\n",
       "      <td>nan</td>\n",
       "      <td>...</td>\n",
       "      <td>254.108</td>\n",
       "      <td>spectra/specs_ms.pklbin</td>\n",
       "      <td>CCMSLIB00000085607</td>\n",
       "      <td>49078.00</td>\n",
       "      <td>UPDATE-SINGLE-ANNOTATED-GOLD</td>\n",
       "      <td>Antibiotic[Drug Class]</td>\n",
       "      <td>CC(C)N=C(N)N=C(N)Nc1ccc(Cl)cc1</td>\n",
       "      <td>CC(C)N=C(N)N=C(N)Nc1ccc(Cl)cc1</td>\n",
       "      <td>SSOLNOMRVKKSON-UHFFFAOYSA-N</td>\n",
       "      <td>InChI=1S/C11H16ClN5/c1-7(2)15-10(13)17-11(14)1...</td>\n",
       "    </tr>\n",
       "    <tr>\n",
       "      <th>10</th>\n",
       "      <td>43303</td>\n",
       "      <td>M+H</td>\n",
       "      <td>120401</td>\n",
       "      <td>1</td>\n",
       "      <td>Lauric acid diethanolamide</td>\n",
       "      <td>Isolated</td>\n",
       "      <td>NIST</td>\n",
       "      <td>0.000</td>\n",
       "      <td>spectra/specs_ms.pklbin43303</td>\n",
       "      <td>InChI=1S/C16H33NO3/c1-2-3-4-5-6-7-8-9-10-11-16...</td>\n",
       "      <td>...</td>\n",
       "      <td>288.253</td>\n",
       "      <td>spectra/specs_ms.pklbin</td>\n",
       "      <td>CCMSLIB00003708493</td>\n",
       "      <td>19787.50</td>\n",
       "      <td>UPDATE-SINGLE-ANNOTATED-BRONZE</td>\n",
       "      <td></td>\n",
       "      <td>CCCCCCCCCCCC(=O)N(CCO)CCO</td>\n",
       "      <td>CCCCCCCCCCCC(=O)N(CCO)CCO</td>\n",
       "      <td>AOMUHOFOVNGZAN-UHFFFAOYSA-N</td>\n",
       "      <td>InChI=1S/C16H33NO3/c1-2-3-4-5-6-7-8-9-10-11-16...</td>\n",
       "    </tr>\n",
       "    <tr>\n",
       "      <th>0</th>\n",
       "      <td>103</td>\n",
       "      <td>M+H-C2O2</td>\n",
       "      <td>482484</td>\n",
       "      <td>1</td>\n",
       "      <td>Isobergaptene</td>\n",
       "      <td>Isolated</td>\n",
       "      <td>NIST</td>\n",
       "      <td>0.000</td>\n",
       "      <td>spectra/specs_ms.pklbin103</td>\n",
       "      <td>InChI=1S/C12H8O4/c1-14-9-6-10-8(4-5-15-10)12-7...</td>\n",
       "      <td>...</td>\n",
       "      <td>161.061</td>\n",
       "      <td>spectra/specs_ms.pklbin</td>\n",
       "      <td>CCMSLIB00003572342</td>\n",
       "      <td>6880.47</td>\n",
       "      <td>UPDATE-SINGLE-ANNOTATED-BRONZE</td>\n",
       "      <td></td>\n",
       "      <td>COc1cc2occc2c2oc(=O)ccc12</td>\n",
       "      <td>COc1cc2occc2c2oc(=O)ccc12</td>\n",
       "      <td>AJSPSRWWZBBIOR-UHFFFAOYSA-N</td>\n",
       "      <td>InChI=1S/C12H8O4/c1-14-9-6-10-8(4-5-15-10)12-7...</td>\n",
       "    </tr>\n",
       "    <tr>\n",
       "      <th>1</th>\n",
       "      <td>121815</td>\n",
       "      <td>M+H</td>\n",
       "      <td>NaN</td>\n",
       "      <td>1</td>\n",
       "      <td>MLS000028461-01!URSODEOXYCHOLIC ACID</td>\n",
       "      <td>NIH Pharmacologically Active Library</td>\n",
       "      <td>VP/LMS</td>\n",
       "      <td>392.293</td>\n",
       "      <td>spectra/specs_ms.pklbin121815</td>\n",
       "      <td>nan</td>\n",
       "      <td>...</td>\n",
       "      <td>393.297</td>\n",
       "      <td>spectra/specs_ms.pklbin</td>\n",
       "      <td>CCMSLIB00000084832</td>\n",
       "      <td>42723.10</td>\n",
       "      <td>UPDATE-SINGLE-ANNOTATED-GOLD</td>\n",
       "      <td></td>\n",
       "      <td>CC(CCC(=O)O)C1CCC2C3C(O)CC4CC(O)CCC4(C)C3CCC12C</td>\n",
       "      <td>C[C@H](CCC(=O)O)[C@H]1CC[C@H]2[C@@H]3[C@@H](O)...</td>\n",
       "      <td>RUDATBOHQWOJDD-UZVSRGJWSA-N</td>\n",
       "      <td>InChI=1S/C24H40O4/c1-14(4-7-21(27)28)17-5-6-18...</td>\n",
       "    </tr>\n",
       "  </tbody>\n",
       "</table>\n",
       "<p>7 rows × 40 columns</p>\n",
       "</div>"
      ],
      "text/plain": [
       "    #Scan#     Adduct CAS_Number  Charge  \\\n",
       "11  126417        M+H                  0   \n",
       "5    20450  M+H-C2H6O  163520330       1   \n",
       "8    22092       M+2H        NaN       2   \n",
       "9    22309        M+H        NaN       1   \n",
       "10   43303        M+H     120401       1   \n",
       "0      103   M+H-C2O2     482484       1   \n",
       "1   121815        M+H        NaN       1   \n",
       "\n",
       "                                        Compound_Name  \\\n",
       "11  Sorbitane Monopalmitate - Polysorbate 40 in-so...   \n",
       "5                                    Isoxadifen-ethyl   \n",
       "8                MLS001332387-01!Chlorhexidine55-56-1   \n",
       "9     MLS002154090-01!Proguanil hydrochloride637-32-1   \n",
       "10                         Lauric acid diethanolamide   \n",
       "0                                       Isobergaptene   \n",
       "1                MLS000028461-01!URSODEOXYCHOLIC ACID   \n",
       "\n",
       "                         Compound_Source Data_Collector  ExactMass  \\\n",
       "11                                Lysate        AMelnik      0.000   \n",
       "5                               Isolated           NIST      0.000   \n",
       "8   NIH Pharmacologically Active Library         VP/LMS    504.203   \n",
       "9   NIH Pharmacologically Active Library         VP/LMS    253.109   \n",
       "10                              Isolated           NIST      0.000   \n",
       "0                               Isolated           NIST      0.000   \n",
       "1   NIH Pharmacologically Active Library         VP/LMS    392.293   \n",
       "\n",
       "                 FileScanUniqueID  \\\n",
       "11  spectra/specs_ms.pklbin126417   \n",
       "5    spectra/specs_ms.pklbin20450   \n",
       "8    spectra/specs_ms.pklbin22092   \n",
       "9    spectra/specs_ms.pklbin22309   \n",
       "10   spectra/specs_ms.pklbin43303   \n",
       "0      spectra/specs_ms.pklbin103   \n",
       "1   spectra/specs_ms.pklbin121815   \n",
       "\n",
       "                                                INCHI  ...   SpecMZ  \\\n",
       "11                                                     ...  402.358   \n",
       "5   InChI=1S/C18H17NO3/c1-2-21-17(20)16-13-18(22-1...  ...  250.088   \n",
       "8                                                 nan  ...  253.109   \n",
       "9                                                 nan  ...  254.108   \n",
       "10  InChI=1S/C16H33NO3/c1-2-3-4-5-6-7-8-9-10-11-16...  ...  288.253   \n",
       "0   InChI=1S/C12H8O4/c1-14-9-6-10-8(4-5-15-10)12-7...  ...  161.061   \n",
       "1                                                 nan  ...  393.297   \n",
       "\n",
       "               SpectrumFile          SpectrumID  TIC_Query  \\\n",
       "11  spectra/specs_ms.pklbin  CCMSLIB00000577482  209069.00   \n",
       "5   spectra/specs_ms.pklbin  CCMSLIB00003562356   76095.80   \n",
       "8   spectra/specs_ms.pklbin  CCMSLIB00000084912    7827.59   \n",
       "9   spectra/specs_ms.pklbin  CCMSLIB00000085607   49078.00   \n",
       "10  spectra/specs_ms.pklbin  CCMSLIB00003708493   19787.50   \n",
       "0   spectra/specs_ms.pklbin  CCMSLIB00003572342    6880.47   \n",
       "1   spectra/specs_ms.pklbin  CCMSLIB00000084832   42723.10   \n",
       "\n",
       "                UpdateWorkflowName                                     tags  \\\n",
       "11  UPDATE-SINGLE-ANNOTATED-BRONZE  Nonionic Surfactant[Source Environment]   \n",
       "5   UPDATE-SINGLE-ANNOTATED-BRONZE                                            \n",
       "8     UPDATE-SINGLE-ANNOTATED-GOLD                                            \n",
       "9     UPDATE-SINGLE-ANNOTATED-GOLD                   Antibiotic[Drug Class]   \n",
       "10  UPDATE-SINGLE-ANNOTATED-BRONZE                                            \n",
       "0   UPDATE-SINGLE-ANNOTATED-BRONZE                                            \n",
       "1     UPDATE-SINGLE-ANNOTATED-GOLD                                            \n",
       "\n",
       "                                    Consol_SMILES_iso  \\\n",
       "11              CCCCCCCCCCCCCCCC(=O)OCC(O)C1OCC(O)C1O   \n",
       "5                CCOC(=O)C1=NOC(c2ccccc2)(c2ccccc2)C1   \n",
       "8   N=C(NCCCCCCNC(=N)NC(=N)Nc1ccc(Cl)cc1)NC(=N)Nc1...   \n",
       "9                      CC(C)N=C(N)N=C(N)Nc1ccc(Cl)cc1   \n",
       "10                          CCCCCCCCCCCC(=O)N(CCO)CCO   \n",
       "0                           COc1cc2occc2c2oc(=O)ccc12   \n",
       "1     CC(CCC(=O)O)C1CCC2C3C(O)CC4CC(O)CCC4(C)C3CCC12C   \n",
       "\n",
       "                                        Consol_SMILES  \\\n",
       "11              CCCCCCCCCCCCCCCC(=O)OCC(O)C1OCC(O)C1O   \n",
       "5                CCOC(=O)C1=NOC(c2ccccc2)(c2ccccc2)C1   \n",
       "8   N=C(NCCCCCCNC(=N)NC(=N)Nc1ccc(Cl)cc1)NC(=N)Nc1...   \n",
       "9                      CC(C)N=C(N)N=C(N)Nc1ccc(Cl)cc1   \n",
       "10                          CCCCCCCCCCCC(=O)N(CCO)CCO   \n",
       "0                           COc1cc2occc2c2oc(=O)ccc12   \n",
       "1   C[C@H](CCC(=O)O)[C@H]1CC[C@H]2[C@@H]3[C@@H](O)...   \n",
       "\n",
       "                Consol_InChIKey  \\\n",
       "11  IYFATESGLOUGBX-UHFFFAOYSA-N   \n",
       "5   MWKVXOJATACCCH-UHFFFAOYSA-N   \n",
       "8   GHXZTYHSJHQHIJ-UHFFFAOYSA-N   \n",
       "9   SSOLNOMRVKKSON-UHFFFAOYSA-N   \n",
       "10  AOMUHOFOVNGZAN-UHFFFAOYSA-N   \n",
       "0   AJSPSRWWZBBIOR-UHFFFAOYSA-N   \n",
       "1   RUDATBOHQWOJDD-UZVSRGJWSA-N   \n",
       "\n",
       "                                         Consol_InChI  \n",
       "11  InChI=1S/C22H42O6/c1-2-3-4-5-6-7-8-9-10-11-12-...  \n",
       "5   InChI=1S/C18H17NO3/c1-2-21-17(20)16-13-18(22-1...  \n",
       "8   InChI=1S/C22H30Cl2N10/c23-15-5-9-17(10-6-15)31...  \n",
       "9   InChI=1S/C11H16ClN5/c1-7(2)15-10(13)17-11(14)1...  \n",
       "10  InChI=1S/C16H33NO3/c1-2-3-4-5-6-7-8-9-10-11-16...  \n",
       "0   InChI=1S/C12H8O4/c1-14-9-6-10-8(4-5-15-10)12-7...  \n",
       "1   InChI=1S/C24H40O4/c1-14(4-7-21(27)28)17-5-6-18...  \n",
       "\n",
       "[7 rows x 40 columns]"
      ]
     },
     "execution_count": 11,
     "metadata": {},
     "output_type": "execute_result"
    }
   ],
   "source": [
    "use_planar_structure=True # or False\n",
    "prepare_for_virtual_metabolization(df_annotations_filtered,\n",
    "                                    smiles_column = 'Consol_SMILES', \n",
    "                                    smiles_planar_column='Consol_SMILES_iso',\n",
    "                                    drop_duplicated_structure = True, \n",
    "                                    use_planar_structure= True)"
   ]
  },
  {
   "cell_type": "code",
   "execution_count": 12,
   "metadata": {},
   "outputs": [
    {
     "name": "stdout",
     "output_type": "stream",
     "text": [
      "Initial number of items in the list = 7\n",
      "Final number of items in the list = 9\n",
      "Initial number of items in the list = 7\n",
      "Final number of items in the list = 8\n"
     ]
    },
    {
     "data": {
      "text/plain": [
       "['CCCCCCCCCCCCCCCC(=O)OCC(O)C1OCC(O)C1O',\n",
       " 'CCOC(=O)C1=NOC(c2ccccc2)(c2ccccc2)C1',\n",
       " 'N=C(NCCCCCCNC(=N)NC(=N)Nc1ccc(Cl)cc1)NC(=N)Nc1ccc(Cl)cc1',\n",
       " 'CC(C)N=C(N)N=C(N)Nc1ccc(Cl)cc1',\n",
       " 'CCCCCCCCCCCC(=O)N(CCO)CCO',\n",
       " 'COc1cc2occc2c2oc(=O)ccc12',\n",
       " 'CC(CCC(=O)O)C1CCC2C3C(O)CC4CC(O)CCC4(C)C3CCC12C',\n",
       " 'C[C@@]1(C[C@H]([C@]2([C@@H]1[C@@H](OC=C2)O[C@H]3[C@@H]([C@H]([C@@H]([C@H](O3)CO)O)O)O)O)O)OC(=O)/C=C/c4ccccc4CC1CCC2(CCC3(C(=CCC4C3(CCC5C4(CCC(C5(C)C(=O)O)O)C)C)C2C1C)C)C']"
      ]
     },
     "execution_count": 12,
     "metadata": {},
     "output_type": "execute_result"
    }
   ],
   "source": [
    "# Appending structures for virtual metabolization\n",
    "# You can proceed by manually appending the pairs of compound name and SMILES [the order should match in both list]\n",
    "\n",
    "extra_compound_names = ['Harpagoside',\n",
    "                       'boswellic acid']\n",
    "\n",
    "extra_smiles = ['C[C@@]1(C[C@H]([C@]2([C@@H]1[C@@H](OC=C2)O[C@H]3[C@@H]([C@H]([C@@H]([C@H](O3)CO)O)O)O)O)O)OC(=O)/C=C/c4ccccc4'\n",
    "               'CC1CCC2(CCC3(C(=CCC4C3(CCC5C4(CCC(C5(C)C(=O)O)O)C)C)C2C1C)C)C']\n",
    "    \n",
    "append_to_list_if_not_present(prepare_for_virtual_metabolization.list_compound_name, extra_compound_names)\n",
    "append_to_list_if_not_present(prepare_for_virtual_metabolization.list_smiles, extra_smiles)"
   ]
  },
  {
   "cell_type": "markdown",
   "metadata": {},
   "source": [
    "# Mandatory - Choose between SyGMa (A) or BioTransformer (B) for virtual metabolization\n",
    "\n",
    "#### A - SyGMa generates specifically human biotransformation of phase 1 and/or 2. \n",
    "It takes generally couple minutes to compute. More informations from the paper (https://doi.org/10.1002/cmdc.200700312).\n",
    "\n",
    "#### B - BioTransformer generates biotransformation in mammals, their gut microbiota, as well as the soil/aquatic microbiota. \n",
    "It takes more time to compute. More information from the paper ([https://doi.org/10.1186/s13321-018-0324-5](https://doi.org/10.1186/s13321-018-0324-5))."
   ]
  },
  {
   "cell_type": "markdown",
   "metadata": {},
   "source": [
    "# A - Virtual metabolization with SyGMa\n",
    "\n",
    "SyGMa is a python library for the Systematic Generation of potential Metabolites. See [SyGMa: combining expert knowledge and empirical scoring in the prediction of metabolites](https://doi.org/10.1002/cmdc.200700312) and [https://github.com/3D-e-Chem/sygma](https://github.com/3D-e-Chem/sygma).\n",
    "\n",
    "Please cite their work:\n",
    "Ridder, L., & Wagener, M. (2008) [SyGMa: combining expert knowledge and empirical scoring in the prediction of metabolites](https://doi.org/10.1002/cmdc.200700312). ChemMedChem, 3(5), 821-832.\n",
    "\n",
    "\n",
    "### IMPORTANT -> Change the parameters below as needed\n",
    "> Define the ruleset and the number of phase 1/2 reaction cyles to apply in the SyGMA scenario. For example 2 cycles for phase 1 `phase_1_cycle = 2`. Using a value > 1 will be slow.\n",
    "\n",
    "> Define the maximum number of SyGMa candidates outputted (consider the number of reaction cycles). Suggested value `top_sygma_candidates = 15`\n",
    "\n",
    "> Run SyGMa."
   ]
  },
  {
   "cell_type": "code",
   "execution_count": 13,
   "metadata": {},
   "outputs": [],
   "source": [
    "# Define the number of metabolization cycles (1-3). If the number of cycle is more than 1, it can be slow.\n",
    "phase_1_cycle = 1\n",
    "phase_2_cycle = 1\n",
    "          \n",
    "#Top metabolites predicted by SyGMa to output (ranked by highest score)\n",
    "top_sygma_candidates = 10"
   ]
  },
  {
   "cell_type": "markdown",
   "metadata": {},
   "source": [
    "### Run the cell below for running SyGMa (Fast !)\n",
    "\n",
    "No need to change the content of cell below"
   ]
  },
  {
   "cell_type": "code",
   "execution_count": 14,
   "metadata": {},
   "outputs": [
    {
     "name": "stdout",
     "output_type": "stream",
     "text": [
      "=== Starting SyGMa computation ===\n",
      "Number of compounds = 8\n",
      "Batch_size = 13\n",
      "If you are running many compounds or cycles, and maxing out RAM memory available, you can decrease the batch size. Otherwise the value can be increased for faster computation.\n",
      "======\n",
      "Please wait\n",
      "======\n",
      "Batch 1/1 completed with 80 metabolites\n",
      "Number of SyGMA candidates = 80\n",
      "Number of unique SyGMA candidates = 80\n",
      "===== COMPLETED =====\n"
     ]
    }
   ],
   "source": [
    "run_sygma_batch(prepare_for_virtual_metabolization.list_smiles, prepare_for_virtual_metabolization.list_compound_name, \n",
    "                phase_1_cycle, phase_2_cycle, top_sygma_candidates, 'results_vm-NAP_SyGMa.tsv')"
   ]
  },
  {
   "cell_type": "markdown",
   "metadata": {},
   "source": [
    "When completed, download the full SyGMa results in the left side panel->\n",
    "['results_vm-NAP_SyGMa.tsv'](./results_vm-NAP_SyGMa.tsv)."
   ]
  },
  {
   "cell_type": "markdown",
   "metadata": {},
   "source": [
    "## Export the SyGMa results for NAP\n",
    "See the documentation for custom database in [NAP](https://ccms-ucsd.github.io/GNPSDocumentation/nap/#structure-database) and how to run NAP on GNPS [https://ccms-ucsd.github.io/GNPSDocumentation/nap/#structure-database](https://ccms-ucsd.github.io/GNPSDocumentation/nap/#structure-database)."
   ]
  },
  {
   "cell_type": "code",
   "execution_count": 15,
   "metadata": {},
   "outputs": [
    {
     "name": "stdout",
     "output_type": "stream",
     "text": [
      "Number of metabolites = 80\n",
      "Number of unique metabolites considered = 68\n"
     ]
    }
   ],
   "source": [
    "export_for_NAP('results_vm-NAP_SyGMa.tsv')"
   ]
  },
  {
   "cell_type": "markdown",
   "metadata": {},
   "source": [
    "View/Download the results for NAP in the left side panel->\n",
    "['results_vm-NAP_SyGMa_NAP.tsv'](./results_vm-NAP_SyGMa_NAP.tsv).\n",
    "\n",
    "To download: Go into File/Download or right-clic on the file in the left panel"
   ]
  },
  {
   "cell_type": "markdown",
   "metadata": {},
   "source": [
    "## Export the SyGMa results for SIRIUS\n",
    "\n",
    "See the documentation to generate the SIRIUS [custom database here](https://boecker-lab.github.io/docs.sirius.github.io/cli-standalone/#custom-database-tool)."
   ]
  },
  {
   "cell_type": "code",
   "execution_count": 16,
   "metadata": {},
   "outputs": [
    {
     "name": "stdout",
     "output_type": "stream",
     "text": [
      "Number of metabolites = 80\n",
      "Number of unique metabolites considered = 68\n"
     ]
    }
   ],
   "source": [
    "export_for_SIRIUS('results_vm-NAP_SyGMa.tsv')"
   ]
  },
  {
   "cell_type": "markdown",
   "metadata": {},
   "source": [
    "Download the results for SIRIUS in the left side panel->\n",
    "['results_vm-NAP_SyGMa_SIRIUS.tsv'](./results_vm-NAP_SyGMa_SIRIUS.tsv)."
   ]
  },
  {
   "cell_type": "markdown",
   "metadata": {},
   "source": [
    "# B - Virtual metabolization with BioTransformer (It is slow !)\n",
    "\n",
    "BioTransformer is a software tool that predicts small molecule metabolism in mammals, their gut microbiota, as well as the soil/aquatic microbiota. BioTransformer also assists scientists in metabolite identification, based on the metabolism prediction. More information from the paper [[https://doi.org/10.1186/s13321-018-0324-5](https://doi.org/10.1186/s13321-018-0324-5)] and [[https://bitbucket.org/djoumbou/biotransformerjar/src/master/](https://bitbucket.org/djoumbou/biotransformerjar/src/master/)].\n",
    "\n",
    "### Citation\n",
    "\n",
    "Djoumbou-Feunang, Y., Fiamoncini, J., Gil-de-la-Fuente, A. et al. [BioTransformer: a comprehensive computational tool for small molecule metabolism prediction and metabolite identification.](https://doi.org/10.1186/s13321-018-0324-5) J Cheminform 11, 2 (2019).\n",
    "\n",
    "### Install BioTransformer [it can be ran once]\n",
    "It requires `curl` and `java`."
   ]
  },
  {
   "cell_type": "code",
   "execution_count": 17,
   "metadata": {},
   "outputs": [
    {
     "name": "stdout",
     "output_type": "stream",
     "text": [
      "openjdk version \"1.8.0_112\"\n",
      "OpenJDK Runtime Environment (Zulu 8.19.0.1-linux64) (build 1.8.0_112-b16)\n",
      "OpenJDK 64-Bit Server VM (Zulu 8.19.0.1-linux64) (build 25.112-b16, mixed mode)\n",
      "rm: cannot remove 'biotransformer.zip': No such file or directory\n",
      "rm: cannot remove 'biotransformer/': No such file or directory\n",
      "  % Total    % Received % Xferd  Average Speed   Time    Time     Time  Current\n",
      "                                 Dload  Upload   Total   Spent    Left  Speed\n",
      "100 68.9M  100 68.9M    0     0  7339k      0  0:00:09  0:00:09 --:--:-- 8432k\n"
     ]
    }
   ],
   "source": [
    "!java -version\n",
    "!rm -r biotransformer.zip biotransformer/\n",
    "!curl https://bitbucket.org/djoumbou/biotransformerjar/get/f47aa4e3c0da.zip -o biotransformer.zip\n",
    "!unzip -q -d biotransformer biotransformer.zip\n",
    "!cp -r biotransformer/djoumbou-biotransformerjar-f47aa4e3c0da/. .\n",
    "!rm -r biotransformer.zip biotransformer/"
   ]
  },
  {
   "cell_type": "markdown",
   "metadata": {},
   "source": [
    "#### Specify the parameters of BioTransformer\n",
    "\n",
    "`type_of_biotransformation` : -b,--bt Type <BioTransformer Option> The type of description: Type of biotransformer - EC-based (`ecbased`), CYP450 (`cyp450`), Phase II (`phaseII`), Human gut microbial (`hgut`), human super transformer* (`superbio`, or `allHuman`), Environmental microbial** (`envimicro`).\n",
    "\n",
    "(* ) While the `superbio` option runs a set number of transformation steps in a pre-defined order (e.g. deconjugation first, then Oxidation/reduction, etc.), the `allHuman` option predicts all possible metabolites from any applicable reaction (Oxidation, reduction, (de-)conjugation) at each step.\n",
    "\n",
    "(** ) For the environmental microbial biodegradation, all reactions (aerobic and anaerobic) are reported, and not only the aerobic biotransformations (as per default in the EAWAG BBD/PPS system).\n",
    "    \n",
    "`number_of_steps`  -s,--nsteps <Number of steps> The number of steps for the prediction. This option can be set by the user for the EC-based, CYP450, Phase II, and Environmental microbial biotransformers. The default value is `1`."
   ]
  },
  {
   "cell_type": "code",
   "execution_count": 18,
   "metadata": {},
   "outputs": [
    {
     "name": "stdout",
     "output_type": "stream",
     "text": [
      "======== Running BioTransformer takes approximatively 3-5 compounds per minute ========\n",
      "     Number of compounds being virtually metabolized with BioTransformer =  8\n",
      "     Biotransformation: hgut\n",
      "     Please wait for the computation ...\n",
      "0    [main] INFO  net.sf.jnati.deploy.artefact.ConfigManager  - Loading global configuration\n",
      "6    [main] DEBUG net.sf.jnati.deploy.artefact.ConfigManager  - Loading defaults: jar:file:/home/jovyan/biotransformer-1.1.5.jar!/META-INF/jnati/jnati.default-properties\n",
      "7    [main] INFO  net.sf.jnati.deploy.artefact.ConfigManager  - Loading artefact configuration: jniinchi-1.03_1\n",
      "8    [main] DEBUG net.sf.jnati.deploy.artefact.ConfigManager  - Loading instance defaults: jar:file:/home/jovyan/biotransformer-1.1.5.jar!/META-INF/jnati/jnati.instance.default-properties\n",
      "10   [main] INFO  net.sf.jnati.deploy.repository.ClasspathRepository  - Searching classpath for: jniinchi-1.03_1-LINUX-AMD64\n",
      "12   [main] INFO  net.sf.jnati.deploy.repository.LocalRepository  - Searching local repository for: jniinchi-1.03_1-LINUX-AMD64\n",
      "12   [main] DEBUG net.sf.jnati.deploy.repository.LocalRepository  - Artefact path: /home/jovyan/.jnati/repo/jniinchi/1.03_1/LINUX-AMD64\n",
      "14   [main] INFO  net.sf.jnati.deploy.artefact.ManifestReader  - Reading manifest\n",
      "407  [main] INFO  net.sf.jnati.deploy.NativeArtefactLocator  - Artefact (jniinchi-1.03_1-LINUX-AMD64) location: /home/jovyan/.jnati/repo/jniinchi/1.03_1/LINUX-AMD64\n",
      "407  [main] DEBUG net.sf.jnati.deploy.NativeLibraryLoader  - Loading library: /home/jovyan/.jnati/repo/jniinchi/1.03_1/LINUX-AMD64/libJniInchi-1.03_1-LINUX-AMD64.so\n",
      "Biotransformations: 3\n",
      "Unique Biotransformations: 3\n",
      "The results were saved to the following file: biotransformer_temp_output.csv\n",
      "\n",
      "Successfully completed metabolism prediction for 1 out of 1 molecule(s).\n",
      "          BioTransformer candidates for compound n1 = 8\n",
      "0    [main] INFO  net.sf.jnati.deploy.artefact.ConfigManager  - Loading global configuration\n",
      "5    [main] DEBUG net.sf.jnati.deploy.artefact.ConfigManager  - Loading defaults: jar:file:/home/jovyan/biotransformer-1.1.5.jar!/META-INF/jnati/jnati.default-properties\n",
      "6    [main] INFO  net.sf.jnati.deploy.artefact.ConfigManager  - Loading artefact configuration: jniinchi-1.03_1\n",
      "7    [main] DEBUG net.sf.jnati.deploy.artefact.ConfigManager  - Loading instance defaults: jar:file:/home/jovyan/biotransformer-1.1.5.jar!/META-INF/jnati/jnati.instance.default-properties\n",
      "9    [main] INFO  net.sf.jnati.deploy.repository.ClasspathRepository  - Searching classpath for: jniinchi-1.03_1-LINUX-AMD64\n",
      "11   [main] INFO  net.sf.jnati.deploy.repository.LocalRepository  - Searching local repository for: jniinchi-1.03_1-LINUX-AMD64\n",
      "11   [main] DEBUG net.sf.jnati.deploy.repository.LocalRepository  - Artefact path: /home/jovyan/.jnati/repo/jniinchi/1.03_1/LINUX-AMD64\n",
      "87   [main] INFO  net.sf.jnati.deploy.artefact.ManifestReader  - Reading manifest\n",
      "396  [main] INFO  net.sf.jnati.deploy.NativeArtefactLocator  - Artefact (jniinchi-1.03_1-LINUX-AMD64) location: /home/jovyan/.jnati/repo/jniinchi/1.03_1/LINUX-AMD64\n",
      "397  [main] DEBUG net.sf.jnati.deploy.NativeLibraryLoader  - Loading library: /home/jovyan/.jnati/repo/jniinchi/1.03_1/LINUX-AMD64/libJniInchi-1.03_1-LINUX-AMD64.so\n",
      "Biotransformations: 1\n",
      "Unique Biotransformations: 1\n",
      "The results were saved to the following file: biotransformer_temp_output.csv\n",
      "\n",
      "Successfully completed metabolism prediction for 1 out of 1 molecule(s).\n",
      "          BioTransformer candidates for compound n2 = 2\n",
      "0    [main] INFO  net.sf.jnati.deploy.artefact.ConfigManager  - Loading global configuration\n",
      "5    [main] DEBUG net.sf.jnati.deploy.artefact.ConfigManager  - Loading defaults: jar:file:/home/jovyan/biotransformer-1.1.5.jar!/META-INF/jnati/jnati.default-properties\n",
      "6    [main] INFO  net.sf.jnati.deploy.artefact.ConfigManager  - Loading artefact configuration: jniinchi-1.03_1\n",
      "7    [main] DEBUG net.sf.jnati.deploy.artefact.ConfigManager  - Loading instance defaults: jar:file:/home/jovyan/biotransformer-1.1.5.jar!/META-INF/jnati/jnati.instance.default-properties\n",
      "10   [main] INFO  net.sf.jnati.deploy.repository.ClasspathRepository  - Searching classpath for: jniinchi-1.03_1-LINUX-AMD64\n",
      "12   [main] INFO  net.sf.jnati.deploy.repository.LocalRepository  - Searching local repository for: jniinchi-1.03_1-LINUX-AMD64\n",
      "12   [main] DEBUG net.sf.jnati.deploy.repository.LocalRepository  - Artefact path: /home/jovyan/.jnati/repo/jniinchi/1.03_1/LINUX-AMD64\n",
      "13   [main] INFO  net.sf.jnati.deploy.artefact.ManifestReader  - Reading manifest\n",
      "311  [main] INFO  net.sf.jnati.deploy.NativeArtefactLocator  - Artefact (jniinchi-1.03_1-LINUX-AMD64) location: /home/jovyan/.jnati/repo/jniinchi/1.03_1/LINUX-AMD64\n",
      "311  [main] DEBUG net.sf.jnati.deploy.NativeLibraryLoader  - Loading library: /home/jovyan/.jnati/repo/jniinchi/1.03_1/LINUX-AMD64/libJniInchi-1.03_1-LINUX-AMD64.so\n",
      "Biotransformations: 0\n",
      "Unique Biotransformations: 0\n",
      "The number of metabolites to save is 0\n",
      "Successfully completed metabolism prediction for 1 out of 1 molecule(s).\n",
      "          ! No candidate or error with BioTransformer for compound n3 - it will be ignored\n",
      "                    MLS001332387-01!Chlorhexidine55-56-1\n",
      "                    For:  N=C(NCCCCCCNC(=N)NC(=N)Nc1ccc(Cl)cc1)NC(=N)Nc1ccc(Cl)cc1 . Check the SMILES on http://biotransformer.ca and/or the GNPS library entry.\n",
      "0    [main] INFO  net.sf.jnati.deploy.artefact.ConfigManager  - Loading global configuration\n",
      "6    [main] DEBUG net.sf.jnati.deploy.artefact.ConfigManager  - Loading defaults: jar:file:/home/jovyan/biotransformer-1.1.5.jar!/META-INF/jnati/jnati.default-properties\n",
      "6    [main] INFO  net.sf.jnati.deploy.artefact.ConfigManager  - Loading artefact configuration: jniinchi-1.03_1\n",
      "7    [main] DEBUG net.sf.jnati.deploy.artefact.ConfigManager  - Loading instance defaults: jar:file:/home/jovyan/biotransformer-1.1.5.jar!/META-INF/jnati/jnati.instance.default-properties\n",
      "10   [main] INFO  net.sf.jnati.deploy.repository.ClasspathRepository  - Searching classpath for: jniinchi-1.03_1-LINUX-AMD64\n",
      "12   [main] INFO  net.sf.jnati.deploy.repository.LocalRepository  - Searching local repository for: jniinchi-1.03_1-LINUX-AMD64\n",
      "12   [main] DEBUG net.sf.jnati.deploy.repository.LocalRepository  - Artefact path: /home/jovyan/.jnati/repo/jniinchi/1.03_1/LINUX-AMD64\n",
      "13   [main] INFO  net.sf.jnati.deploy.artefact.ManifestReader  - Reading manifest\n",
      "327  [main] INFO  net.sf.jnati.deploy.NativeArtefactLocator  - Artefact (jniinchi-1.03_1-LINUX-AMD64) location: /home/jovyan/.jnati/repo/jniinchi/1.03_1/LINUX-AMD64\n",
      "328  [main] DEBUG net.sf.jnati.deploy.NativeLibraryLoader  - Loading library: /home/jovyan/.jnati/repo/jniinchi/1.03_1/LINUX-AMD64/libJniInchi-1.03_1-LINUX-AMD64.so\n",
      "Biotransformations: 0\n",
      "Unique Biotransformations: 0\n",
      "The number of metabolites to save is 0\n",
      "Successfully completed metabolism prediction for 1 out of 1 molecule(s).\n",
      "          ! No candidate or error with BioTransformer for compound n4 - it will be ignored\n",
      "                    MLS002154090-01!Proguanil hydrochloride637-32-1\n",
      "                    For:  CC(C)N=C(N)N=C(N)Nc1ccc(Cl)cc1 . Check the SMILES on http://biotransformer.ca and/or the GNPS library entry.\n",
      "0    [main] INFO  net.sf.jnati.deploy.artefact.ConfigManager  - Loading global configuration\n",
      "5    [main] DEBUG net.sf.jnati.deploy.artefact.ConfigManager  - Loading defaults: jar:file:/home/jovyan/biotransformer-1.1.5.jar!/META-INF/jnati/jnati.default-properties\n",
      "5    [main] INFO  net.sf.jnati.deploy.artefact.ConfigManager  - Loading artefact configuration: jniinchi-1.03_1\n",
      "6    [main] DEBUG net.sf.jnati.deploy.artefact.ConfigManager  - Loading instance defaults: jar:file:/home/jovyan/biotransformer-1.1.5.jar!/META-INF/jnati/jnati.instance.default-properties\n",
      "9    [main] INFO  net.sf.jnati.deploy.repository.ClasspathRepository  - Searching classpath for: jniinchi-1.03_1-LINUX-AMD64\n",
      "10   [main] INFO  net.sf.jnati.deploy.repository.LocalRepository  - Searching local repository for: jniinchi-1.03_1-LINUX-AMD64\n",
      "11   [main] DEBUG net.sf.jnati.deploy.repository.LocalRepository  - Artefact path: /home/jovyan/.jnati/repo/jniinchi/1.03_1/LINUX-AMD64\n",
      "12   [main] INFO  net.sf.jnati.deploy.artefact.ManifestReader  - Reading manifest\n",
      "315  [main] INFO  net.sf.jnati.deploy.NativeArtefactLocator  - Artefact (jniinchi-1.03_1-LINUX-AMD64) location: /home/jovyan/.jnati/repo/jniinchi/1.03_1/LINUX-AMD64\n",
      "316  [main] DEBUG net.sf.jnati.deploy.NativeLibraryLoader  - Loading library: /home/jovyan/.jnati/repo/jniinchi/1.03_1/LINUX-AMD64/libJniInchi-1.03_1-LINUX-AMD64.so\n",
      "Biotransformations: 2\n",
      "Unique Biotransformations: 2\n",
      "The results were saved to the following file: biotransformer_temp_output.csv\n",
      "\n",
      "Successfully completed metabolism prediction for 1 out of 1 molecule(s).\n",
      "          BioTransformer candidates for compound n5 = 2\n",
      "0    [main] INFO  net.sf.jnati.deploy.artefact.ConfigManager  - Loading global configuration\n",
      "5    [main] DEBUG net.sf.jnati.deploy.artefact.ConfigManager  - Loading defaults: jar:file:/home/jovyan/biotransformer-1.1.5.jar!/META-INF/jnati/jnati.default-properties\n",
      "5    [main] INFO  net.sf.jnati.deploy.artefact.ConfigManager  - Loading artefact configuration: jniinchi-1.03_1\n",
      "6    [main] DEBUG net.sf.jnati.deploy.artefact.ConfigManager  - Loading instance defaults: jar:file:/home/jovyan/biotransformer-1.1.5.jar!/META-INF/jnati/jnati.instance.default-properties\n",
      "8    [main] INFO  net.sf.jnati.deploy.repository.ClasspathRepository  - Searching classpath for: jniinchi-1.03_1-LINUX-AMD64\n",
      "83   [main] INFO  net.sf.jnati.deploy.repository.LocalRepository  - Searching local repository for: jniinchi-1.03_1-LINUX-AMD64\n",
      "84   [main] DEBUG net.sf.jnati.deploy.repository.LocalRepository  - Artefact path: /home/jovyan/.jnati/repo/jniinchi/1.03_1/LINUX-AMD64\n",
      "85   [main] INFO  net.sf.jnati.deploy.artefact.ManifestReader  - Reading manifest\n",
      "392  [main] INFO  net.sf.jnati.deploy.NativeArtefactLocator  - Artefact (jniinchi-1.03_1-LINUX-AMD64) location: /home/jovyan/.jnati/repo/jniinchi/1.03_1/LINUX-AMD64\n",
      "392  [main] DEBUG net.sf.jnati.deploy.NativeLibraryLoader  - Loading library: /home/jovyan/.jnati/repo/jniinchi/1.03_1/LINUX-AMD64/libJniInchi-1.03_1-LINUX-AMD64.so\n",
      "Biotransformations: 0\n",
      "Unique Biotransformations: 0\n",
      "The number of metabolites to save is 0\n",
      "Successfully completed metabolism prediction for 1 out of 1 molecule(s).\n",
      "          ! No candidate or error with BioTransformer for compound n6 - it will be ignored\n",
      "                    Isobergaptene\n",
      "                    For:  COc1cc2occc2c2oc(=O)ccc12 . Check the SMILES on http://biotransformer.ca and/or the GNPS library entry.\n",
      "1    [main] INFO  net.sf.jnati.deploy.artefact.ConfigManager  - Loading global configuration\n",
      "6    [main] DEBUG net.sf.jnati.deploy.artefact.ConfigManager  - Loading defaults: jar:file:/home/jovyan/biotransformer-1.1.5.jar!/META-INF/jnati/jnati.default-properties\n",
      "6    [main] INFO  net.sf.jnati.deploy.artefact.ConfigManager  - Loading artefact configuration: jniinchi-1.03_1\n",
      "7    [main] DEBUG net.sf.jnati.deploy.artefact.ConfigManager  - Loading instance defaults: jar:file:/home/jovyan/biotransformer-1.1.5.jar!/META-INF/jnati/jnati.instance.default-properties\n",
      "13   [main] INFO  net.sf.jnati.deploy.repository.ClasspathRepository  - Searching classpath for: jniinchi-1.03_1-LINUX-AMD64\n",
      "15   [main] INFO  net.sf.jnati.deploy.repository.LocalRepository  - Searching local repository for: jniinchi-1.03_1-LINUX-AMD64\n",
      "17   [main] DEBUG net.sf.jnati.deploy.repository.LocalRepository  - Artefact path: /home/jovyan/.jnati/repo/jniinchi/1.03_1/LINUX-AMD64\n",
      "19   [main] INFO  net.sf.jnati.deploy.artefact.ManifestReader  - Reading manifest\n",
      "320  [main] INFO  net.sf.jnati.deploy.NativeArtefactLocator  - Artefact (jniinchi-1.03_1-LINUX-AMD64) location: /home/jovyan/.jnati/repo/jniinchi/1.03_1/LINUX-AMD64\n",
      "320  [main] DEBUG net.sf.jnati.deploy.NativeLibraryLoader  - Loading library: /home/jovyan/.jnati/repo/jniinchi/1.03_1/LINUX-AMD64/libJniInchi-1.03_1-LINUX-AMD64.so\n",
      "Biotransformations: 9\n",
      "Unique Biotransformations: 9\n",
      "The results were saved to the following file: biotransformer_temp_output.csv\n",
      "\n",
      "Successfully completed metabolism prediction for 1 out of 1 molecule(s).\n",
      "          BioTransformer candidates for compound n7 = 9\n",
      "0    [main] INFO  net.sf.jnati.deploy.artefact.ConfigManager  - Loading global configuration\n",
      "5    [main] DEBUG net.sf.jnati.deploy.artefact.ConfigManager  - Loading defaults: jar:file:/home/jovyan/biotransformer-1.1.5.jar!/META-INF/jnati/jnati.default-properties\n",
      "5    [main] INFO  net.sf.jnati.deploy.artefact.ConfigManager  - Loading artefact configuration: jniinchi-1.03_1\n",
      "6    [main] DEBUG net.sf.jnati.deploy.artefact.ConfigManager  - Loading instance defaults: jar:file:/home/jovyan/biotransformer-1.1.5.jar!/META-INF/jnati/jnati.instance.default-properties\n",
      "9    [main] INFO  net.sf.jnati.deploy.repository.ClasspathRepository  - Searching classpath for: jniinchi-1.03_1-LINUX-AMD64\n",
      "11   [main] INFO  net.sf.jnati.deploy.repository.LocalRepository  - Searching local repository for: jniinchi-1.03_1-LINUX-AMD64\n",
      "11   [main] DEBUG net.sf.jnati.deploy.repository.LocalRepository  - Artefact path: /home/jovyan/.jnati/repo/jniinchi/1.03_1/LINUX-AMD64\n",
      "12   [main] INFO  net.sf.jnati.deploy.artefact.ManifestReader  - Reading manifest\n",
      "312  [main] INFO  net.sf.jnati.deploy.NativeArtefactLocator  - Artefact (jniinchi-1.03_1-LINUX-AMD64) location: /home/jovyan/.jnati/repo/jniinchi/1.03_1/LINUX-AMD64\n",
      "312  [main] DEBUG net.sf.jnati.deploy.NativeLibraryLoader  - Loading library: /home/jovyan/.jnati/repo/jniinchi/1.03_1/LINUX-AMD64/libJniInchi-1.03_1-LINUX-AMD64.so\n",
      "Biotransformations: 7\n",
      "Unique Biotransformations: 7\n",
      "The results were saved to the following file: biotransformer_temp_output.csv\n",
      "\n",
      "Successfully completed metabolism prediction for 1 out of 1 molecule(s).\n",
      "          BioTransformer candidates for compound n8 = 17\n",
      "===== COMPLETED =====\n",
      "Total number of BioTransformer candidates = 38\n",
      "Total number of unique BioTransformer candidates = 35\n",
      " ====> Biotransformer computation is finally completed !!! \n"
     ]
    }
   ],
   "source": [
    "type_of_biotransformation = 'hgut'\n",
    "number_of_steps = 1\n",
    "\n",
    "run_biotransformer(prepare_for_virtual_metabolization.list_smiles,prepare_for_virtual_metabolization.list_compound_name,\n",
    "                   type_of_biotransformation, number_of_steps, 'results_vm-NAP_BioTransformer.tsv')\n",
    "print(' ====> Biotransformer computation is finally completed !!! ')"
   ]
  },
  {
   "cell_type": "markdown",
   "metadata": {},
   "source": [
    "Download the full BioTransformer results in the left side panel->\n",
    "['results_vm-NAP_BioTransformer.tsv'](./results_vm-NAP_BioTransformer.tsv)."
   ]
  },
  {
   "cell_type": "markdown",
   "metadata": {},
   "source": [
    "## Export the BioTransformer results for NAP\n",
    "\n",
    "See the documentation for custom database in [NAP](https://ccms-ucsd.github.io/GNPSDocumentation/nap/#structure-database) and how to run NAP on GNPS [https://ccms-ucsd.github.io/GNPSDocumentation/nap/#structure-database](https://ccms-ucsd.github.io/GNPSDocumentation/nap/#structure-database)."
   ]
  },
  {
   "cell_type": "code",
   "execution_count": 19,
   "metadata": {},
   "outputs": [
    {
     "name": "stdout",
     "output_type": "stream",
     "text": [
      "Number of metabolites = 38\n",
      "Number of unique metabolites considered = 20\n"
     ]
    }
   ],
   "source": [
    "export_for_NAP('results_vm-NAP_BioTransformer.tsv')"
   ]
  },
  {
   "cell_type": "markdown",
   "metadata": {},
   "source": [
    "Download the BioTransformer results for NAP in the left side panel->\n",
    "['results_vm-NAP_BioTransformer_NAP.tsv'](./results_vm-NAP_BioTransformer_NAP.tsv)."
   ]
  },
  {
   "cell_type": "markdown",
   "metadata": {},
   "source": [
    "## Export the BioTransformer results for SIRIUS\n",
    "\n",
    "See the documentation to generate the SIRIUS [custom database here](https://boecker-lab.github.io/docs.sirius.github.io/cli-standalone/#custom-database-tool)."
   ]
  },
  {
   "cell_type": "code",
   "execution_count": 20,
   "metadata": {},
   "outputs": [
    {
     "name": "stdout",
     "output_type": "stream",
     "text": [
      "Number of metabolites = 38\n",
      "Number of unique metabolites considered = 20\n"
     ]
    }
   ],
   "source": [
    "export_for_SIRIUS('results_vm-NAP_BioTransformer.tsv')"
   ]
  },
  {
   "cell_type": "markdown",
   "metadata": {},
   "source": [
    "Download the BioTransformer results for NAP in the left side panel->\n",
    "['results_vm-NAP_BioTransformer_SIRIUS.tsv'](./results_vm-NAP_BioTransformer_SIRIUS.tsv)."
   ]
  }
 ],
 "metadata": {
  "kernelspec": {
   "display_name": "Python 3 (ipykernel)",
   "language": "python",
   "name": "python3"
  },
  "language_info": {
   "codemirror_mode": {
    "name": "ipython",
    "version": 3
   },
   "file_extension": ".py",
   "mimetype": "text/x-python",
   "name": "python",
   "nbconvert_exporter": "python",
   "pygments_lexer": "ipython3",
   "version": "3.7.12"
  }
 },
 "nbformat": 4,
 "nbformat_minor": 4
}
