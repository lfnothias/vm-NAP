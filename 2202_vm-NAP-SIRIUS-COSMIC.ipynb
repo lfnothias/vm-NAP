{
 "cells": [
  {
   "cell_type": "markdown",
   "metadata": {},
   "source": [
    "# Virtually metabolize GNPS annotations and prepare for Network Annotation Propagation or SIRIUS\n",
    "\n",
    "Made by Louis-Felix Nothias (UC San Diego), louisfelix.nothias@gmail.com. Started in 2018 and improved in May 2021.\n",
    "\n",
    "This notebook downloads results of spectral annotations from [SIRIUS/CSIFingerID/COSMIC](https://boecker-lab.github.io/docs.sirius.github.io/install/).\n",
    "\n",
    "> Start by running the cell below to initiate the libraries."
   ]
  },
  {
   "cell_type": "code",
   "execution_count": 1,
   "metadata": {},
   "outputs": [],
   "source": [
    "import sys\n",
    "sys.path.append('gnps_postprocessing/lib')\n",
    "sys.path.append('src')\n",
    "from gnps_download_results import *\n",
    "from consolidate_structures import *\n",
    "from gnps_results_postprocess import *\n",
    "from prepare_virtual_metabolization import *\n",
    "from run_virtual_metabolization import *"
   ]
  },
  {
   "cell_type": "markdown",
   "metadata": {},
   "source": [
    "## Mandatory - Load the SIRIUS/CSIFingerID annotations\n",
    " \n",
    "> Upload by drag-and-drop your SIRIUS results file `compound_identifications.tsv` or `compound_identifications_adducts.tsv` into the input folder (left panel).\n",
    "\n",
    "> Run the cell"
   ]
  },
  {
   "cell_type": "code",
   "execution_count": 3,
   "metadata": {},
   "outputs": [
    {
     "data": {
      "text/plain": [
       "(11623, 6)"
      ]
     },
     "execution_count": 3,
     "metadata": {},
     "output_type": "execute_result"
    }
   ],
   "source": [
    "df = load_csifingerid_cosmic_annotations('input/compound_identifications.tsv')\n",
    "print(df.shape)\n",
    "df.head(3)"
   ]
  },
  {
   "cell_type": "markdown",
   "metadata": {},
   "source": [
    "## Mandatory - Apply filter (if any were set)\n",
    "If you haven't select a filter, run this cell anyway."
   ]
  },
  {
   "cell_type": "markdown",
   "metadata": {},
   "source": [
    "#### Filter based on score"
   ]
  },
  {
   "cell_type": "code",
   "execution_count": 6,
   "metadata": {},
   "outputs": [
    {
     "name": "stdout",
     "output_type": "stream",
     "text": [
      "Filtering with ZodiacScore >= 0.9\n",
      "Total entries remaining = 10212\n",
      "Filtering with Confidence Score >= 0.3\n",
      "Total entries remaining = 120\n",
      "Filtering with database links >= KEGG|HMDB\n",
      "Total entries remaining = 3657\n"
     ]
    }
   ],
   "source": [
    "zodiac_score = 0.9\n",
    "confidence_score = 0.3\n",
    "df_score_filtered = df_csifingerid_cosmic_annotations_filtering(df, zodiac_score, confidence_score)"
   ]
  },
  {
   "cell_type": "markdown",
   "metadata": {},
   "source": [
    "#### Filter based on database links"
   ]
  },
  {
   "cell_type": "code",
   "execution_count": 13,
   "metadata": {},
   "outputs": [
    {
     "name": "stdout",
     "output_type": "stream",
     "text": [
      "Filtering with database links >= KEGG|HMDB\n",
      "Total entries remaining = 3657\n"
     ]
    }
   ],
   "source": [
    "db_links = 'KEGG|HMDB'\n",
    "df_db_links_filtered = df_csifingerid_cosmic_annotations_filtering(df, links=db_links)"
   ]
  },
  {
   "cell_type": "markdown",
   "metadata": {},
   "source": [
    "## Mandatory - Prepare for virtual metabolization\n"
   ]
  },
  {
   "cell_type": "code",
   "execution_count": 7,
   "metadata": {},
   "outputs": [
    {
     "name": "stdout",
     "output_type": "stream",
     "text": [
      "Number of spectral library annotations = 120\n",
      "Number of spectral annotations with planar SMILES/InChI = 120\n",
      "Number of unique planar SMILES considered = 118\n"
     ]
    },
    {
     "data": {
      "text/html": [
       "<div>\n",
       "<style scoped>\n",
       "    .dataframe tbody tr th:only-of-type {\n",
       "        vertical-align: middle;\n",
       "    }\n",
       "\n",
       "    .dataframe tbody tr th {\n",
       "        vertical-align: top;\n",
       "    }\n",
       "\n",
       "    .dataframe thead th {\n",
       "        text-align: right;\n",
       "    }\n",
       "</style>\n",
       "<table border=\"1\" class=\"dataframe\">\n",
       "  <thead>\n",
       "    <tr style=\"text-align: right;\">\n",
       "      <th></th>\n",
       "      <th>ConfidenceScore</th>\n",
       "      <th>ZodiacScore</th>\n",
       "      <th>name</th>\n",
       "      <th>smiles</th>\n",
       "      <th>links</th>\n",
       "      <th>id</th>\n",
       "    </tr>\n",
       "  </thead>\n",
       "  <tbody>\n",
       "    <tr>\n",
       "      <th>1</th>\n",
       "      <td>0.996772</td>\n",
       "      <td>0.978894</td>\n",
       "      <td>no_name</td>\n",
       "      <td>CC1C(C(C(C2(C13C(C(C(=O)C2OC(=O)C4=CC=CC=C4)C(...</td>\n",
       "      <td>PubChem:(132555887);DNP_Lotus_DB_v2</td>\n",
       "      <td>4608_Celastraceae_pos_SIRIUS_5022</td>\n",
       "    </tr>\n",
       "    <tr>\n",
       "      <th>5</th>\n",
       "      <td>0.890122</td>\n",
       "      <td>1.000000</td>\n",
       "      <td>Monomyristin</td>\n",
       "      <td>CCCCCCCCCCCCCC(=O)OCC(CO)O</td>\n",
       "      <td>HMDB:(11561);SuperNatural:(SN00383855);ZINC bi...</td>\n",
       "      <td>2462_Celastraceae_pos_SIRIUS_2670</td>\n",
       "    </tr>\n",
       "    <tr>\n",
       "      <th>6</th>\n",
       "      <td>0.887853</td>\n",
       "      <td>0.904020</td>\n",
       "      <td>no_name</td>\n",
       "      <td>CCC(C)C=C(C)C(C(C)C=C(C)C(C(C)C=C(C)C(C(C)C(=O...</td>\n",
       "      <td>PubChem:(101866225);DNP_Lotus_DB_v2</td>\n",
       "      <td>747_Celastraceae_pos_SIRIUS_786</td>\n",
       "    </tr>\n",
       "    <tr>\n",
       "      <th>7</th>\n",
       "      <td>0.886321</td>\n",
       "      <td>0.907035</td>\n",
       "      <td>no_name</td>\n",
       "      <td>CCCC(=O)OC1C(C2C(C3CC(C(CCC(C2O3)(C)OC(=O)CCC)...</td>\n",
       "      <td>PubChem:(56931406);DNP_Lotus_DB_v2</td>\n",
       "      <td>139_Celastraceae_pos_SIRIUS_142</td>\n",
       "    </tr>\n",
       "    <tr>\n",
       "      <th>8</th>\n",
       "      <td>0.881854</td>\n",
       "      <td>0.990452</td>\n",
       "      <td>Asperphenamate</td>\n",
       "      <td>C1=CC=C(C=C1)CC(COC(=O)C(CC2=CC=CC=C2)NC(=O)C3...</td>\n",
       "      <td>COCONUT:(CNP0371247);KNApSAcK:(31444);Natural ...</td>\n",
       "      <td>312_Celastraceae_pos_SIRIUS_321</td>\n",
       "    </tr>\n",
       "    <tr>\n",
       "      <th>...</th>\n",
       "      <td>...</td>\n",
       "      <td>...</td>\n",
       "      <td>...</td>\n",
       "      <td>...</td>\n",
       "      <td>...</td>\n",
       "      <td>...</td>\n",
       "    </tr>\n",
       "    <tr>\n",
       "      <th>144</th>\n",
       "      <td>0.311563</td>\n",
       "      <td>0.994472</td>\n",
       "      <td>(1R,4aR,4bR,10aR)-1,4a-dimethyl-7-oxo-3,4,4b,5...</td>\n",
       "      <td>CC12CCCC(C1CCC3=CC(=O)CCC23)(C)C(=O)O</td>\n",
       "      <td>COCONUT:(CNP0136246 CNP0253954);Natural Produc...</td>\n",
       "      <td>6248_Celastraceae_pos_SIRIUS_6873</td>\n",
       "    </tr>\n",
       "    <tr>\n",
       "      <th>145</th>\n",
       "      <td>0.307969</td>\n",
       "      <td>0.950251</td>\n",
       "      <td>no_name</td>\n",
       "      <td>COC1=C(C=CC(=C1)CC2COC(C2COC3C(C(C(C(O3)CO)O)O...</td>\n",
       "      <td>COCONUT:(CNP0226329);Natural Products:(UNPD906...</td>\n",
       "      <td>3830_Celastraceae_pos_SIRIUS_4171</td>\n",
       "    </tr>\n",
       "    <tr>\n",
       "      <th>148</th>\n",
       "      <td>0.304524</td>\n",
       "      <td>1.000000</td>\n",
       "      <td>no_name</td>\n",
       "      <td>CC1(C(C(OC1=O)C2=C(C=C3C(=C2)C=CC(=O)O3)OC)O)OC</td>\n",
       "      <td>COCONUT:(CNP0182083);Natural Products:(UNPD120...</td>\n",
       "      <td>8351_Celastraceae_pos_SIRIUS_9181</td>\n",
       "    </tr>\n",
       "    <tr>\n",
       "      <th>149</th>\n",
       "      <td>0.300679</td>\n",
       "      <td>1.000000</td>\n",
       "      <td>no_name</td>\n",
       "      <td>CCCCC(C#CC(C(C(CCCCCCCC(=O)O)O)O)O)O</td>\n",
       "      <td>COCONUT:(CNP0111317);KNApSAcK:(39250);Natural ...</td>\n",
       "      <td>3955_Celastraceae_pos_SIRIUS_4307</td>\n",
       "    </tr>\n",
       "    <tr>\n",
       "      <th>150</th>\n",
       "      <td>0.300300</td>\n",
       "      <td>1.000000</td>\n",
       "      <td>(2-(2-Hydroxy-5-oxo-2,5-dihydro-3-furanyl)-3b,...</td>\n",
       "      <td>CC(=O)OCC12CCC3C4(CCCC(C4CCC3(C1CC(O2)C5=CC(=O...</td>\n",
       "      <td>COCONUT:(CNP0231886);KNApSAcK:(40355);Natural ...</td>\n",
       "      <td>9094_Celastraceae_pos_SIRIUS_10074</td>\n",
       "    </tr>\n",
       "  </tbody>\n",
       "</table>\n",
       "<p>118 rows × 6 columns</p>\n",
       "</div>"
      ],
      "text/plain": [
       "     ConfidenceScore  ZodiacScore  \\\n",
       "1           0.996772     0.978894   \n",
       "5           0.890122     1.000000   \n",
       "6           0.887853     0.904020   \n",
       "7           0.886321     0.907035   \n",
       "8           0.881854     0.990452   \n",
       "..               ...          ...   \n",
       "144         0.311563     0.994472   \n",
       "145         0.307969     0.950251   \n",
       "148         0.304524     1.000000   \n",
       "149         0.300679     1.000000   \n",
       "150         0.300300     1.000000   \n",
       "\n",
       "                                                  name  \\\n",
       "1                                              no_name   \n",
       "5                                         Monomyristin   \n",
       "6                                              no_name   \n",
       "7                                              no_name   \n",
       "8                                       Asperphenamate   \n",
       "..                                                 ...   \n",
       "144  (1R,4aR,4bR,10aR)-1,4a-dimethyl-7-oxo-3,4,4b,5...   \n",
       "145                                            no_name   \n",
       "148                                            no_name   \n",
       "149                                            no_name   \n",
       "150  (2-(2-Hydroxy-5-oxo-2,5-dihydro-3-furanyl)-3b,...   \n",
       "\n",
       "                                                smiles  \\\n",
       "1    CC1C(C(C(C2(C13C(C(C(=O)C2OC(=O)C4=CC=CC=C4)C(...   \n",
       "5                           CCCCCCCCCCCCCC(=O)OCC(CO)O   \n",
       "6    CCC(C)C=C(C)C(C(C)C=C(C)C(C(C)C=C(C)C(C(C)C(=O...   \n",
       "7    CCCC(=O)OC1C(C2C(C3CC(C(CCC(C2O3)(C)OC(=O)CCC)...   \n",
       "8    C1=CC=C(C=C1)CC(COC(=O)C(CC2=CC=CC=C2)NC(=O)C3...   \n",
       "..                                                 ...   \n",
       "144              CC12CCCC(C1CCC3=CC(=O)CCC23)(C)C(=O)O   \n",
       "145  COC1=C(C=CC(=C1)CC2COC(C2COC3C(C(C(C(O3)CO)O)O...   \n",
       "148    CC1(C(C(OC1=O)C2=C(C=C3C(=C2)C=CC(=O)O3)OC)O)OC   \n",
       "149               CCCCC(C#CC(C(C(CCCCCCCC(=O)O)O)O)O)O   \n",
       "150  CC(=O)OCC12CCC3C4(CCCC(C4CCC3(C1CC(O2)C5=CC(=O...   \n",
       "\n",
       "                                                 links  \\\n",
       "1                  PubChem:(132555887);DNP_Lotus_DB_v2   \n",
       "5    HMDB:(11561);SuperNatural:(SN00383855);ZINC bi...   \n",
       "6                  PubChem:(101866225);DNP_Lotus_DB_v2   \n",
       "7                   PubChem:(56931406);DNP_Lotus_DB_v2   \n",
       "8    COCONUT:(CNP0371247);KNApSAcK:(31444);Natural ...   \n",
       "..                                                 ...   \n",
       "144  COCONUT:(CNP0136246 CNP0253954);Natural Produc...   \n",
       "145  COCONUT:(CNP0226329);Natural Products:(UNPD906...   \n",
       "148  COCONUT:(CNP0182083);Natural Products:(UNPD120...   \n",
       "149  COCONUT:(CNP0111317);KNApSAcK:(39250);Natural ...   \n",
       "150  COCONUT:(CNP0231886);KNApSAcK:(40355);Natural ...   \n",
       "\n",
       "                                     id  \n",
       "1     4608_Celastraceae_pos_SIRIUS_5022  \n",
       "5     2462_Celastraceae_pos_SIRIUS_2670  \n",
       "6       747_Celastraceae_pos_SIRIUS_786  \n",
       "7       139_Celastraceae_pos_SIRIUS_142  \n",
       "8       312_Celastraceae_pos_SIRIUS_321  \n",
       "..                                  ...  \n",
       "144   6248_Celastraceae_pos_SIRIUS_6873  \n",
       "145   3830_Celastraceae_pos_SIRIUS_4171  \n",
       "148   8351_Celastraceae_pos_SIRIUS_9181  \n",
       "149   3955_Celastraceae_pos_SIRIUS_4307  \n",
       "150  9094_Celastraceae_pos_SIRIUS_10074  \n",
       "\n",
       "[118 rows x 6 columns]"
      ]
     },
     "execution_count": 7,
     "metadata": {},
     "output_type": "execute_result"
    }
   ],
   "source": [
    "prepare_for_virtual_metabolization(df_score_filtered,\n",
    "                                    compound_name = 'name',\n",
    "                                    smiles_planar_column='smiles',\n",
    "                                    drop_duplicated_structure = True, \n",
    "                                    use_planar_structure= True)"
   ]
  },
  {
   "cell_type": "markdown",
   "metadata": {},
   "source": [
    "## Optional - Manually add candidate structures\n",
    "\n",
    "Convert the cell from markdown to raw if you want to use it.\n",
    "\n",
    "Appending structures to virtual metabolization batch.\n",
    "\n",
    "You can proceed by manually appending the pairs of compound name and SMILES [the order should match in both list]\n",
    "\n"
   ]
  },
  {
   "cell_type": "code",
   "execution_count": 8,
   "metadata": {},
   "outputs": [],
   "source": [
    "extra_compound_names = ['Harpagoside',\n",
    "                       'boswellic acid']\n",
    "\n",
    "extra_smiles = ['C[C@@]1(C[C@H]([C@]2([C@@H]1[C@@H](OC=C2)O[C@H]3[C@@H]([C@H]([C@@H]([C@H](O3)CO)O)O)O)O)O)OC(=O)/C=C/c4ccccc4',\n",
    "               'CC1CCC2(CCC3(C(=CCC4C3(CCC5C4(CCC(C5(C)C(=O)O)O)C)C)C2C1C)C)C']"
   ]
  },
  {
   "cell_type": "raw",
   "metadata": {},
   "source": [
    "append_to_list_if_not_present(prepare_for_virtual_metabolization.list_compound_name, extra_compound_names)\n",
    "append_to_list_if_not_present(prepare_for_virtual_metabolization.list_smiles, extra_smiles)"
   ]
  },
  {
   "cell_type": "markdown",
   "metadata": {},
   "source": [
    "# Mandatory - Choose between SyGMa (A) or BioTransformer (B) for virtual metabolization, or run both !\n",
    "\n",
    "#### A - SyGMa generates specifically human biotransformation of phase 1 and/or 2. \n",
    "It takes generally couple minutes to compute. More informations from the paper (https://doi.org/10.1002/cmdc.200700312).\n",
    "\n",
    "#### B - BioTransformer generates biotransformation in mammals, their gut microbiota, as well as the soil/aquatic microbiota. \n",
    "It takes more time to compute. More information from the paper ([https://doi.org/10.1186/s13321-018-0324-5](https://doi.org/10.1186/s13321-018-0324-5))."
   ]
  },
  {
   "cell_type": "markdown",
   "metadata": {},
   "source": [
    "# A - Virtual metabolization with SyGMa\n",
    "\n",
    "SyGMa is a python library for the Systematic Generation of potential Metabolites. See [SyGMa: combining expert knowledge and empirical scoring in the prediction of metabolites](https://doi.org/10.1002/cmdc.200700312) and [https://github.com/3D-e-Chem/sygma](https://github.com/3D-e-Chem/sygma).\n",
    "\n",
    "Please cite their work:\n",
    "Ridder, L., & Wagener, M. (2008) [SyGMa: combining expert knowledge and empirical scoring in the prediction of metabolites](https://doi.org/10.1002/cmdc.200700312). ChemMedChem, 3(5), 821-832.\n",
    "\n",
    "\n",
    "### IMPORTANT -> Change the parameters below as needed\n",
    "> Define the ruleset and the number of phase 1/2 reaction cyles to apply in the SyGMA scenario. For example 2 cycles for phase 1 `phase_1_cycle = 2`. Using a value > 1 will be slow.\n",
    "\n",
    "> Define the maximum number of SyGMa candidates outputted (consider the number of reaction cycles). Suggested value `top_sygma_candidates = 15`\n",
    "\n",
    "> Run SyGMa."
   ]
  },
  {
   "cell_type": "code",
   "execution_count": 10,
   "metadata": {},
   "outputs": [],
   "source": [
    "# Define the number of metabolization cycles (1-3). If the number of cycle is more than 1, it can be slow.\n",
    "phase_1_cycle = 1\n",
    "phase_2_cycle = 1\n",
    "          \n",
    "#Top metabolites predicted by SyGMa to output (ranked by highest score)\n",
    "top_sygma_candidates = 10"
   ]
  },
  {
   "cell_type": "markdown",
   "metadata": {},
   "source": [
    "### Run the cell below for running SyGMa (Fast !)\n",
    "\n",
    "No need to change the content of cell below"
   ]
  },
  {
   "cell_type": "code",
   "execution_count": 11,
   "metadata": {},
   "outputs": [
    {
     "name": "stdout",
     "output_type": "stream",
     "text": [
      "=== Starting SyGMa computation ===\n",
      "Number of compounds = 118\n",
      "Batch_size = 13\n",
      "If you are running many compounds or cycles, and maxing out RAM memory available, you can decrease the batch size. Otherwise the value can be increased for faster computation.\n",
      "======\n",
      "Please wait\n",
      "======\n",
      "Batch 1/10 completed with 130 metabolites\n",
      "Batch 2/10 completed with 129 metabolites\n",
      "Batch 3/10 completed with 126 metabolites\n",
      "Batch 4/10 completed with 130 metabolites\n",
      "Batch 5/10 completed with 129 metabolites\n"
     ]
    },
    {
     "name": "stderr",
     "output_type": "stream",
     "text": [
      "RDKit ERROR: [14:55:22] Can't kekulize mol.  Unkekulized atoms: 3 5 9\n",
      "[14:55:22] Can't kekulize mol.  Unkekulized atoms: 3 5 9\n",
      "\n",
      "RDKit ERROR: \n"
     ]
    },
    {
     "name": "stdout",
     "output_type": "stream",
     "text": [
      "Batch 6/10 completed with 130 metabolites\n",
      "Batch 7/10 completed with 130 metabolites\n",
      "Batch 8/10 completed with 129 metabolites\n",
      "Batch 9/10 completed with 130 metabolites\n",
      "Batch 10/10 completed with 10 metabolites\n",
      "Number of SyGMA candidates = 1173\n",
      "Number of unique SyGMA candidates = 1144\n",
      "===== COMPLETED =====\n"
     ]
    }
   ],
   "source": [
    "run_sygma_batch(prepare_for_virtual_metabolization.list_smiles, prepare_for_virtual_metabolization.list_compound_name, \n",
    "                phase_1_cycle, phase_2_cycle, top_sygma_candidates, 'results_vm-NAP_SyGMa.tsv',\n",
    "                compound_name = 'name')"
   ]
  },
  {
   "cell_type": "markdown",
   "metadata": {},
   "source": [
    "When completed, download the full SyGMa results in the left side panel->\n",
    "['results_vm-NAP_SyGMa.tsv'](./results_vm-NAP_SyGMa.tsv)."
   ]
  },
  {
   "cell_type": "markdown",
   "metadata": {},
   "source": [
    "## Export the SyGMa results for NAP\n",
    "See the documentation for custom database in [NAP](https://ccms-ucsd.github.io/GNPSDocumentation/nap/#structure-database) and how to run NAP on GNPS [https://ccms-ucsd.github.io/GNPSDocumentation/nap/#structure-database](https://ccms-ucsd.github.io/GNPSDocumentation/nap/#structure-database)."
   ]
  },
  {
   "cell_type": "code",
   "execution_count": 11,
   "metadata": {},
   "outputs": [
    {
     "name": "stdout",
     "output_type": "stream",
     "text": [
      "Number of metabolites = 570\n",
      "Number of unique metabolites considered = 407\n"
     ]
    }
   ],
   "source": [
    "export_for_NAP('results_vm-NAP_SyGMa.tsv')"
   ]
  },
  {
   "cell_type": "markdown",
   "metadata": {},
   "source": [
    "View/Download the results for NAP in the left side panel->\n",
    "['results_vm-NAP_SyGMa_NAP.tsv'](./results_vm-NAP_SyGMa_NAP.tsv).\n",
    "\n",
    "To download: Go into File/Download or right-clic on the file in the left panel"
   ]
  },
  {
   "cell_type": "markdown",
   "metadata": {},
   "source": [
    "## Export the SyGMa results for SIRIUS\n",
    "\n",
    "See the documentation to generate the SIRIUS [custom database here](https://boecker-lab.github.io/docs.sirius.github.io/cli-standalone/#custom-database-tool)."
   ]
  },
  {
   "cell_type": "code",
   "execution_count": 12,
   "metadata": {},
   "outputs": [
    {
     "name": "stdout",
     "output_type": "stream",
     "text": [
      "Number of metabolites = 570\n",
      "Number of unique metabolites considered = 402\n"
     ]
    }
   ],
   "source": [
    "export_for_SIRIUS('results_vm-NAP_SyGMa.tsv')"
   ]
  },
  {
   "cell_type": "markdown",
   "metadata": {},
   "source": [
    "Download the results for SIRIUS in the left side panel->\n",
    "['results_vm-NAP_SyGMa_SIRIUS.tsv'](./results_vm-NAP_SyGMa_SIRIUS.tsv)."
   ]
  },
  {
   "cell_type": "markdown",
   "metadata": {},
   "source": [
    "# B - Virtual metabolization with BioTransformer (It is slow !)\n",
    "\n",
    "BioTransformer is a software tool that predicts small molecule metabolism in mammals, their gut microbiota, as well as the soil/aquatic microbiota. BioTransformer also assists scientists in metabolite identification, based on the metabolism prediction. More information from the paper [[https://doi.org/10.1186/s13321-018-0324-5](https://doi.org/10.1186/s13321-018-0324-5)] and [[https://bitbucket.org/djoumbou/biotransformerjar/src/master/](https://bitbucket.org/djoumbou/biotransformerjar/src/master/)].\n",
    "\n",
    "### Citation\n",
    "\n",
    "Djoumbou-Feunang, Y., Fiamoncini, J., Gil-de-la-Fuente, A. et al. [BioTransformer: a comprehensive computational tool for small molecule metabolism prediction and metabolite identification.](https://doi.org/10.1186/s13321-018-0324-5) J Cheminform 11, 2 (2019).\n",
    "\n",
    "### Install BioTransformer [it can be ran once]\n",
    "It requires `curl` and `java`."
   ]
  },
  {
   "cell_type": "code",
   "execution_count": 18,
   "metadata": {},
   "outputs": [
    {
     "name": "stdout",
     "output_type": "stream",
     "text": [
      "openjdk version \"1.8.0_112\"\n",
      "OpenJDK Runtime Environment (Zulu 8.19.0.1-linux64) (build 1.8.0_112-b16)\n",
      "OpenJDK 64-Bit Server VM (Zulu 8.19.0.1-linux64) (build 25.112-b16, mixed mode)\n",
      "rm: cannot remove 'biotransformer.zip': No such file or directory\n",
      "rm: cannot remove 'biotransformer/': No such file or directory\n",
      "  % Total    % Received % Xferd  Average Speed   Time    Time     Time  Current\n",
      "                                 Dload  Upload   Total   Spent    Left  Speed\n",
      "100 68.9M  100 68.9M    0     0  19.1M      0  0:00:03  0:00:03 --:--:-- 19.1M\n"
     ]
    }
   ],
   "source": [
    "!java -version\n",
    "!rm -r biotransformer.zip biotransformer/\n",
    "!curl https://bitbucket.org/djoumbou/biotransformerjar/get/f47aa4e3c0da.zip -o biotransformer.zip\n",
    "!unzip -q -d biotransformer biotransformer.zip\n",
    "!cp -r biotransformer/djoumbou-biotransformerjar-f47aa4e3c0da/. .\n",
    "!rm -r biotransformer.zip biotransformer/"
   ]
  },
  {
   "cell_type": "markdown",
   "metadata": {},
   "source": [
    "#### Specify the parameters of BioTransformer\n",
    "\n",
    "`type_of_biotransformation` : -b,--bt Type <BioTransformer Option> The type of description: Type of biotransformer - EC-based (`ecbased`), CYP450 (`cyp450`), Phase II (`phaseII`), Human gut microbial (`hgut`), human super transformer* (`superbio`, or `allHuman`), Environmental microbial** (`envimicro`).\n",
    "\n",
    "(* ) While the `superbio` option runs a set number of transformation steps in a pre-defined order (e.g. deconjugation first, then Oxidation/reduction, etc.), the `allHuman` option predicts all possible metabolites from any applicable reaction (Oxidation, reduction, (de-)conjugation) at each step.\n",
    "\n",
    "(** ) For the environmental microbial biodegradation, all reactions (aerobic and anaerobic) are reported, and not only the aerobic biotransformations (as per default in the EAWAG BBD/PPS system).\n",
    "    \n",
    "`number_of_steps`  -s,--nsteps <Number of steps> The number of steps for the prediction. This option can be set by the user for the EC-based, CYP450, Phase II, and Environmental microbial biotransformers. The default value is `1`."
   ]
  },
  {
   "cell_type": "code",
   "execution_count": null,
   "metadata": {
    "tags": []
   },
   "outputs": [],
   "source": [
    "type_of_biotransformation = 'hgut'\n",
    "number_of_steps = 1\n",
    "\n",
    "run_biotransformer(prepare_for_virtual_metabolization.list_smiles,prepare_for_virtual_metabolization.list_compound_name,\n",
    "                   type_of_biotransformation, number_of_steps, 'results_vm-NAP_BioTransformer.tsv')\n",
    "print(' ====> Biotransformer computation is finally completed !!! ')"
   ]
  },
  {
   "cell_type": "markdown",
   "metadata": {},
   "source": [
    "Download the full BioTransformer results in the left side panel->\n",
    "['results_vm-NAP_BioTransformer.tsv'](./results_vm-NAP_BioTransformer.tsv)."
   ]
  },
  {
   "cell_type": "markdown",
   "metadata": {},
   "source": [
    "## Export the BioTransformer results for NAP\n",
    "\n",
    "See the documentation for custom database in [NAP](https://ccms-ucsd.github.io/GNPSDocumentation/nap/#structure-database) and how to run NAP on GNPS [https://ccms-ucsd.github.io/GNPSDocumentation/nap/#structure-database](https://ccms-ucsd.github.io/GNPSDocumentation/nap/#structure-database)."
   ]
  },
  {
   "cell_type": "code",
   "execution_count": null,
   "metadata": {},
   "outputs": [],
   "source": [
    "export_for_NAP('results_vm-NAP_BioTransformer.tsv')"
   ]
  },
  {
   "cell_type": "markdown",
   "metadata": {},
   "source": [
    "Download the BioTransformer results for NAP in the left side panel->\n",
    "['results_vm-NAP_BioTransformer_NAP.tsv'](./results_vm-NAP_BioTransformer_NAP.tsv)."
   ]
  },
  {
   "cell_type": "markdown",
   "metadata": {},
   "source": [
    "## Export the BioTransformer results for SIRIUS\n",
    "\n",
    "See the documentation to generate the SIRIUS [custom database here](https://boecker-lab.github.io/docs.sirius.github.io/cli-standalone/#custom-database-tool)."
   ]
  },
  {
   "cell_type": "code",
   "execution_count": null,
   "metadata": {},
   "outputs": [],
   "source": [
    "export_for_SIRIUS('results_vm-NAP_BioTransformer.tsv')"
   ]
  },
  {
   "cell_type": "markdown",
   "metadata": {},
   "source": [
    "Download the BioTransformer results for NAP in the left side panel->\n",
    "['results_vm-NAP_BioTransformer_SIRIUS.tsv'](./results_vm-NAP_BioTransformer_SIRIUS.tsv)."
   ]
  }
 ],
 "metadata": {
  "kernelspec": {
   "display_name": "Python 3 (ipykernel)",
   "language": "python",
   "name": "python3"
  },
  "language_info": {
   "codemirror_mode": {
    "name": "ipython",
    "version": 3
   },
   "file_extension": ".py",
   "mimetype": "text/x-python",
   "name": "python",
   "nbconvert_exporter": "python",
   "pygments_lexer": "ipython3",
   "version": "3.7.12"
  }
 },
 "nbformat": 4,
 "nbformat_minor": 4
}
